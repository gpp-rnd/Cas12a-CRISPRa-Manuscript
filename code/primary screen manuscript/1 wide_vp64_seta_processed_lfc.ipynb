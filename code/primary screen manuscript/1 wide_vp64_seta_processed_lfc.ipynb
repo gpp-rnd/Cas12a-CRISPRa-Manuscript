{
 "cells": [
  {
   "cell_type": "markdown",
   "id": "51598699",
   "metadata": {},
   "source": [
    "# 0 Import packages"
   ]
  },
  {
   "cell_type": "code",
   "execution_count": 1,
   "id": "166a924c",
   "metadata": {},
   "outputs": [
    {
     "name": "stderr",
     "output_type": "stream",
     "text": [
      "/var/folders/h4/ryygmkjj3m32xw7cjfk2gbvr0000gq/T/ipykernel_92859/478852975.py:15: FutureWarning: Passing a negative integer is deprecated in version 1.0 and will not be supported in future version. Instead, use None to not limit the column width.\n",
      "  pd.set_option('max_colwidth', -1)\n"
     ]
    }
   ],
   "source": [
    "import pandas as pd\n",
    "from poola import core as pool\n",
    "import seaborn as sns\n",
    "import gpplot\n",
    "import matplotlib.pyplot as plt\n",
    "import matplotlib as mpl\n",
    "import numpy as np\n",
    "import gpplot as gpp\n",
    "import function as f\n",
    "import statistics \n",
    "import scipy.stats as stats\n",
    "import researchpy as rp\n",
    "import re\n",
    "\n",
    "pd.set_option('max_colwidth', -1)"
   ]
  },
  {
   "cell_type": "markdown",
   "id": "06672997",
   "metadata": {},
   "source": [
    "# 1 Import Files"
   ]
  },
  {
   "cell_type": "code",
   "execution_count": 2,
   "id": "c701d863",
   "metadata": {},
   "outputs": [],
   "source": [
    "path = ('../../manuscript data/Supplementary Data Files/')\n",
    "supp_data_3 = pd.read_excel(path + '/Supplementary Data 3.xlsx', 'Library annotation')\n",
    "supp_data_3 = supp_data_3[(supp_data_3['Design window'] == 'wide') & (supp_data_3['Set'] == 'A')]\n",
    "\n",
    "wide_seta_anno = pd.read_excel(path + '/Supplementary Data 3.xlsx', 'SetA;Wide',skiprows=2, \n",
    "                                 names = ['Construct IDs',\n",
    "                                          'pDNA_Wide_VP64_setA',\n",
    "                                          'pDNA_Wide_p65_setA',\n",
    "                                          'Wide_VP64_setA_untreated_repA',\n",
    "                                          'Wide_VP64_setA_untreated_repB',\n",
    "                                          'Wide_VP64_setA_Selumetinib_repA',\n",
    "                                          'Wide_VP64_setA_Selumetinib_repB',\n",
    "                                          'Wide_p65_setA_untreated_repA',\n",
    "                                          'Wide_p65_setA_untreated_repB',\n",
    "                                          'Wide_p65_setA_Selumetinib_repA',\n",
    "                                          'Wide_p65_setA_Selumetinib_repB'])"
   ]
  },
  {
   "cell_type": "code",
   "execution_count": 3,
   "id": "e773470b",
   "metadata": {},
   "outputs": [],
   "source": [
    "wide_vp64_seta = pd.merge(wide_seta_anno[['Construct IDs',\n",
    "                                          'pDNA_Wide_VP64_setA',\n",
    "                                          'Wide_VP64_setA_untreated_repA',\n",
    "                                          'Wide_VP64_setA_untreated_repB',\n",
    "                                          'Wide_VP64_setA_Selumetinib_repA',\n",
    "                                          'Wide_VP64_setA_Selumetinib_repB']],\n",
    "         supp_data_3[['Guide 1', 'Gene Symbol']].\n",
    "                           rename(columns={'Guide 1': 'Construct Barcode','Gene Symbol':'Construct IDs'}),\n",
    "         on = 'Construct IDs')\n",
    "         "
   ]
  },
  {
   "cell_type": "code",
   "execution_count": 4,
   "id": "4378fb3f",
   "metadata": {},
   "outputs": [
    {
     "data": {
      "text/html": [
       "<div>\n",
       "<style scoped>\n",
       "    .dataframe tbody tr th:only-of-type {\n",
       "        vertical-align: middle;\n",
       "    }\n",
       "\n",
       "    .dataframe tbody tr th {\n",
       "        vertical-align: top;\n",
       "    }\n",
       "\n",
       "    .dataframe thead th {\n",
       "        text-align: right;\n",
       "    }\n",
       "</style>\n",
       "<table border=\"1\" class=\"dataframe\">\n",
       "  <thead>\n",
       "    <tr style=\"text-align: right;\">\n",
       "      <th></th>\n",
       "      <th>Construct IDs</th>\n",
       "      <th>pDNA_Wide_VP64_setA</th>\n",
       "      <th>Wide_VP64_setA_untreated_repA</th>\n",
       "      <th>Wide_VP64_setA_untreated_repB</th>\n",
       "      <th>Wide_VP64_setA_Selumetinib_repA</th>\n",
       "      <th>Wide_VP64_setA_Selumetinib_repB</th>\n",
       "      <th>Construct Barcode</th>\n",
       "    </tr>\n",
       "  </thead>\n",
       "  <tbody>\n",
       "    <tr>\n",
       "      <th>0</th>\n",
       "      <td>A1BG</td>\n",
       "      <td>380.0</td>\n",
       "      <td>586.0</td>\n",
       "      <td>457.0</td>\n",
       "      <td>467.0</td>\n",
       "      <td>487.0</td>\n",
       "      <td>AGTGATGGATCCTAGAACCTGTT</td>\n",
       "    </tr>\n",
       "    <tr>\n",
       "      <th>1</th>\n",
       "      <td>A1CF</td>\n",
       "      <td>288.0</td>\n",
       "      <td>228.0</td>\n",
       "      <td>200.0</td>\n",
       "      <td>178.0</td>\n",
       "      <td>276.0</td>\n",
       "      <td>GTAGATTATATCTGGGCTGTAGT</td>\n",
       "    </tr>\n",
       "    <tr>\n",
       "      <th>2</th>\n",
       "      <td>A2M</td>\n",
       "      <td>522.0</td>\n",
       "      <td>455.0</td>\n",
       "      <td>650.0</td>\n",
       "      <td>1525.0</td>\n",
       "      <td>1830.0</td>\n",
       "      <td>GCCCGCCAGGAATTAACCTTGAC</td>\n",
       "    </tr>\n",
       "    <tr>\n",
       "      <th>3</th>\n",
       "      <td>A2ML1</td>\n",
       "      <td>357.0</td>\n",
       "      <td>216.0</td>\n",
       "      <td>316.0</td>\n",
       "      <td>221.0</td>\n",
       "      <td>206.0</td>\n",
       "      <td>GGGGAAAACCAGAGCTGAGTATT</td>\n",
       "    </tr>\n",
       "    <tr>\n",
       "      <th>4</th>\n",
       "      <td>A3GALT2</td>\n",
       "      <td>297.0</td>\n",
       "      <td>427.0</td>\n",
       "      <td>559.0</td>\n",
       "      <td>264.0</td>\n",
       "      <td>317.0</td>\n",
       "      <td>CTCCAGGCCATCCTACCTGCTTC</td>\n",
       "    </tr>\n",
       "  </tbody>\n",
       "</table>\n",
       "</div>"
      ],
      "text/plain": [
       "  Construct IDs  pDNA_Wide_VP64_setA  Wide_VP64_setA_untreated_repA  \\\n",
       "0  A1BG          380.0                586.0                           \n",
       "1  A1CF          288.0                228.0                           \n",
       "2  A2M           522.0                455.0                           \n",
       "3  A2ML1         357.0                216.0                           \n",
       "4  A3GALT2       297.0                427.0                           \n",
       "\n",
       "   Wide_VP64_setA_untreated_repB  Wide_VP64_setA_Selumetinib_repA  \\\n",
       "0  457.0                          467.0                             \n",
       "1  200.0                          178.0                             \n",
       "2  650.0                          1525.0                            \n",
       "3  316.0                          221.0                             \n",
       "4  559.0                          264.0                             \n",
       "\n",
       "   Wide_VP64_setA_Selumetinib_repB        Construct Barcode  \n",
       "0  487.0                            AGTGATGGATCCTAGAACCTGTT  \n",
       "1  276.0                            GTAGATTATATCTGGGCTGTAGT  \n",
       "2  1830.0                           GCCCGCCAGGAATTAACCTTGAC  \n",
       "3  206.0                            GGGGAAAACCAGAGCTGAGTATT  \n",
       "4  317.0                            CTCCAGGCCATCCTACCTGCTTC  "
      ]
     },
     "execution_count": 4,
     "metadata": {},
     "output_type": "execute_result"
    }
   ],
   "source": [
    "wide_vp64_seta.head()"
   ]
  },
  {
   "cell_type": "markdown",
   "id": "d2bbcf2f",
   "metadata": {},
   "source": [
    "# 2 Find Olfactory Genes"
   ]
  },
  {
   "cell_type": "code",
   "execution_count": 5,
   "id": "8db4b6d8",
   "metadata": {},
   "outputs": [],
   "source": [
    "\n",
    "olfactory_gene = [gene for gene in wide_vp64_seta['Construct IDs'].tolist() if gene.startswith('OR')]\n",
    "# A nomenclature system has been devised for the olfactory receptor family[33] and is the basis for the official Human Genome Project (HUGO) symbols for the genes that encode these receptors. The names of individual olfactory receptor family members are in the format \"ORnXm\" where:\n",
    "\n",
    "# OR is the root name (Olfactory Receptor superfamily)\n",
    "# n = an integer representing a family (e.g., 1-56) whose members have greater than 40% sequence identity,\n",
    "# X = a single letter (A, B, C, ...) denoting a subfamily (>60% sequence identity), and\n",
    "# m = an integer representing an individual family member (isoform).\n",
    "# checked X could be mutiple letters\n",
    "\n",
    "ofg_l = []\n",
    "no_ofg_l = []\n",
    "for ofg in olfactory_gene:\n",
    "    match = re.search('^OR\\d{1,2}[A-Z]{1,2}[0-9]?[0-9]', ofg)\n",
    "    if match:\n",
    "        ofg_l.append(ofg)\n",
    "    else:\n",
    "        no_ofg_l.append(ofg)\n",
    "        \n",
    "\n",
    "\n",
    "olfactory_gene = ofg_l\n"
   ]
  },
  {
   "cell_type": "markdown",
   "id": "1e4bca7f",
   "metadata": {},
   "source": [
    "# 3 Calculate LFC "
   ]
  },
  {
   "cell_type": "code",
   "execution_count": 6,
   "id": "7dd9a77c",
   "metadata": {},
   "outputs": [],
   "source": [
    "OG_read_counts = wide_vp64_seta"
   ]
  },
  {
   "cell_type": "code",
   "execution_count": 7,
   "id": "52454822",
   "metadata": {},
   "outputs": [],
   "source": [
    "OG_read_counts.rename(columns = {'pDNA_Wide_VP64_setA':\"pDNA\", \n",
    "                                 'Wide_VP64_setA_untreated_repA':\"untreated_repA\",\n",
    "                                 'Wide_VP64_setA_untreated_repB':\"untreated_repB\", \n",
    "                                 'Wide_VP64_setA_Selumetinib_repA':\"Selumetinib_repA\",\n",
    "                                 'Wide_VP64_setA_Selumetinib_repB':\"Selumetinib_repB\"\n",
    "                                }, inplace= True)\n"
   ]
  },
  {
   "cell_type": "code",
   "execution_count": 8,
   "id": "a2826445",
   "metadata": {},
   "outputs": [
    {
     "data": {
      "text/html": [
       "<div>\n",
       "<style scoped>\n",
       "    .dataframe tbody tr th:only-of-type {\n",
       "        vertical-align: middle;\n",
       "    }\n",
       "\n",
       "    .dataframe tbody tr th {\n",
       "        vertical-align: top;\n",
       "    }\n",
       "\n",
       "    .dataframe thead th {\n",
       "        text-align: right;\n",
       "    }\n",
       "</style>\n",
       "<table border=\"1\" class=\"dataframe\">\n",
       "  <thead>\n",
       "    <tr style=\"text-align: right;\">\n",
       "      <th></th>\n",
       "      <th>Construct IDs</th>\n",
       "      <th>pDNA</th>\n",
       "      <th>untreated_repA</th>\n",
       "      <th>untreated_repB</th>\n",
       "      <th>Selumetinib_repA</th>\n",
       "      <th>Selumetinib_repB</th>\n",
       "      <th>Construct Barcode</th>\n",
       "    </tr>\n",
       "  </thead>\n",
       "  <tbody>\n",
       "    <tr>\n",
       "      <th>0</th>\n",
       "      <td>A1BG</td>\n",
       "      <td>380.0</td>\n",
       "      <td>586.0</td>\n",
       "      <td>457.0</td>\n",
       "      <td>467.0</td>\n",
       "      <td>487.0</td>\n",
       "      <td>AGTGATGGATCCTAGAACCTGTT</td>\n",
       "    </tr>\n",
       "    <tr>\n",
       "      <th>1</th>\n",
       "      <td>A1CF</td>\n",
       "      <td>288.0</td>\n",
       "      <td>228.0</td>\n",
       "      <td>200.0</td>\n",
       "      <td>178.0</td>\n",
       "      <td>276.0</td>\n",
       "      <td>GTAGATTATATCTGGGCTGTAGT</td>\n",
       "    </tr>\n",
       "    <tr>\n",
       "      <th>2</th>\n",
       "      <td>A2M</td>\n",
       "      <td>522.0</td>\n",
       "      <td>455.0</td>\n",
       "      <td>650.0</td>\n",
       "      <td>1525.0</td>\n",
       "      <td>1830.0</td>\n",
       "      <td>GCCCGCCAGGAATTAACCTTGAC</td>\n",
       "    </tr>\n",
       "    <tr>\n",
       "      <th>3</th>\n",
       "      <td>A2ML1</td>\n",
       "      <td>357.0</td>\n",
       "      <td>216.0</td>\n",
       "      <td>316.0</td>\n",
       "      <td>221.0</td>\n",
       "      <td>206.0</td>\n",
       "      <td>GGGGAAAACCAGAGCTGAGTATT</td>\n",
       "    </tr>\n",
       "    <tr>\n",
       "      <th>4</th>\n",
       "      <td>A3GALT2</td>\n",
       "      <td>297.0</td>\n",
       "      <td>427.0</td>\n",
       "      <td>559.0</td>\n",
       "      <td>264.0</td>\n",
       "      <td>317.0</td>\n",
       "      <td>CTCCAGGCCATCCTACCTGCTTC</td>\n",
       "    </tr>\n",
       "  </tbody>\n",
       "</table>\n",
       "</div>"
      ],
      "text/plain": [
       "  Construct IDs   pDNA  untreated_repA  untreated_repB  Selumetinib_repA  \\\n",
       "0  A1BG          380.0  586.0           457.0           467.0              \n",
       "1  A1CF          288.0  228.0           200.0           178.0              \n",
       "2  A2M           522.0  455.0           650.0           1525.0             \n",
       "3  A2ML1         357.0  216.0           316.0           221.0              \n",
       "4  A3GALT2       297.0  427.0           559.0           264.0              \n",
       "\n",
       "   Selumetinib_repB        Construct Barcode  \n",
       "0  487.0             AGTGATGGATCCTAGAACCTGTT  \n",
       "1  276.0             GTAGATTATATCTGGGCTGTAGT  \n",
       "2  1830.0            GCCCGCCAGGAATTAACCTTGAC  \n",
       "3  206.0             GGGGAAAACCAGAGCTGAGTATT  \n",
       "4  317.0             CTCCAGGCCATCCTACCTGCTTC  "
      ]
     },
     "execution_count": 8,
     "metadata": {},
     "output_type": "execute_result"
    }
   ],
   "source": [
    "OG_read_counts.head()"
   ]
  },
  {
   "cell_type": "code",
   "execution_count": 9,
   "id": "b76194c4",
   "metadata": {},
   "outputs": [],
   "source": [
    "#calculating lognorms\n",
    "OG_lognorms = pool.lognorm_columns(reads_df=OG_read_counts, columns=['pDNA', 'untreated_repA',\n",
    "                                                                     'untreated_repB','Selumetinib_repA',\n",
    "                                                                     'Selumetinib_repB'])\n"
   ]
  },
  {
   "cell_type": "code",
   "execution_count": 10,
   "id": "5aa48b00",
   "metadata": {},
   "outputs": [
    {
     "data": {
      "text/html": [
       "<div>\n",
       "<style scoped>\n",
       "    .dataframe tbody tr th:only-of-type {\n",
       "        vertical-align: middle;\n",
       "    }\n",
       "\n",
       "    .dataframe tbody tr th {\n",
       "        vertical-align: top;\n",
       "    }\n",
       "\n",
       "    .dataframe thead th {\n",
       "        text-align: right;\n",
       "    }\n",
       "</style>\n",
       "<table border=\"1\" class=\"dataframe\">\n",
       "  <thead>\n",
       "    <tr style=\"text-align: right;\">\n",
       "      <th></th>\n",
       "      <th>Construct IDs</th>\n",
       "      <th>pDNA</th>\n",
       "      <th>untreated_repA</th>\n",
       "      <th>untreated_repB</th>\n",
       "      <th>Selumetinib_repA</th>\n",
       "      <th>Selumetinib_repB</th>\n",
       "      <th>Construct Barcode</th>\n",
       "    </tr>\n",
       "  </thead>\n",
       "  <tbody>\n",
       "    <tr>\n",
       "      <th>0</th>\n",
       "      <td>A1BG</td>\n",
       "      <td>5.283310</td>\n",
       "      <td>5.978092</td>\n",
       "      <td>5.641229</td>\n",
       "      <td>5.853522</td>\n",
       "      <td>5.752957</td>\n",
       "      <td>AGTGATGGATCCTAGAACCTGTT</td>\n",
       "    </tr>\n",
       "    <tr>\n",
       "      <th>1</th>\n",
       "      <td>A1CF</td>\n",
       "      <td>4.895165</td>\n",
       "      <td>4.651722</td>\n",
       "      <td>4.485709</td>\n",
       "      <td>4.501929</td>\n",
       "      <td>4.954012</td>\n",
       "      <td>GTAGATTATATCTGGGCTGTAGT</td>\n",
       "    </tr>\n",
       "    <tr>\n",
       "      <th>2</th>\n",
       "      <td>A2M</td>\n",
       "      <td>5.731247</td>\n",
       "      <td>5.619633</td>\n",
       "      <td>6.140866</td>\n",
       "      <td>7.543422</td>\n",
       "      <td>7.643040</td>\n",
       "      <td>GCCCGCCAGGAATTAACCTTGAC</td>\n",
       "    </tr>\n",
       "    <tr>\n",
       "      <th>3</th>\n",
       "      <td>A2ML1</td>\n",
       "      <td>5.195619</td>\n",
       "      <td>4.576904</td>\n",
       "      <td>5.121800</td>\n",
       "      <td>4.801656</td>\n",
       "      <td>4.547718</td>\n",
       "      <td>GGGGAAAACCAGAGCTGAGTATT</td>\n",
       "    </tr>\n",
       "    <tr>\n",
       "      <th>4</th>\n",
       "      <td>A3GALT2</td>\n",
       "      <td>4.938089</td>\n",
       "      <td>5.529925</td>\n",
       "      <td>5.926599</td>\n",
       "      <td>5.049697</td>\n",
       "      <td>5.147794</td>\n",
       "      <td>CTCCAGGCCATCCTACCTGCTTC</td>\n",
       "    </tr>\n",
       "  </tbody>\n",
       "</table>\n",
       "</div>"
      ],
      "text/plain": [
       "  Construct IDs      pDNA  untreated_repA  untreated_repB  Selumetinib_repA  \\\n",
       "0  A1BG          5.283310  5.978092        5.641229        5.853522           \n",
       "1  A1CF          4.895165  4.651722        4.485709        4.501929           \n",
       "2  A2M           5.731247  5.619633        6.140866        7.543422           \n",
       "3  A2ML1         5.195619  4.576904        5.121800        4.801656           \n",
       "4  A3GALT2       4.938089  5.529925        5.926599        5.049697           \n",
       "\n",
       "   Selumetinib_repB        Construct Barcode  \n",
       "0  5.752957          AGTGATGGATCCTAGAACCTGTT  \n",
       "1  4.954012          GTAGATTATATCTGGGCTGTAGT  \n",
       "2  7.643040          GCCCGCCAGGAATTAACCTTGAC  \n",
       "3  4.547718          GGGGAAAACCAGAGCTGAGTATT  \n",
       "4  5.147794          CTCCAGGCCATCCTACCTGCTTC  "
      ]
     },
     "execution_count": 10,
     "metadata": {},
     "output_type": "execute_result"
    }
   ],
   "source": [
    "OG_lognorms.head()"
   ]
  },
  {
   "cell_type": "code",
   "execution_count": 11,
   "id": "37f9d311",
   "metadata": {},
   "outputs": [
    {
     "name": "stdout",
     "output_type": "stream",
     "text": [
      "Filtered 82 rows due to low pDNA abundance\n"
     ]
    }
   ],
   "source": [
    "# remove pDNA with low abundance\n",
    "OG_filtered_lognorms = pool.filter_pdna(lognorm_df=OG_lognorms, pdna_cols=['pDNA'], z_low=-3)\n",
    "print('Filtered ' + str(OG_lognorms.shape[0] - OG_filtered_lognorms.shape[0]) + ' rows due to low pDNA abundance')"
   ]
  },
  {
   "cell_type": "markdown",
   "id": "8cfc676f",
   "metadata": {},
   "source": [
    "### Dropout - pdna (viability effect)"
   ]
  },
  {
   "cell_type": "code",
   "execution_count": 12,
   "id": "33513779",
   "metadata": {},
   "outputs": [],
   "source": [
    "#calculating lfc from pDNA\n",
    "OG_lfc_df_from_pDNA = pool.calculate_lfcs(lognorm_df=OG_filtered_lognorms, ref_col='pDNA', \n",
    "                             target_cols=['untreated_repA','untreated_repB','Selumetinib_repA',\n",
    "                                                                     'Selumetinib_repB'])"
   ]
  },
  {
   "cell_type": "code",
   "execution_count": 13,
   "id": "08c28b1f",
   "metadata": {},
   "outputs": [],
   "source": [
    "#calculating avg lfc for untreated samples\n",
    "OG_lfc_df_from_pDNA['avg_lfc_untreated'] = OG_lfc_df_from_pDNA[['untreated_repA', 'untreated_repB']].mean(axis=1)"
   ]
  },
  {
   "cell_type": "code",
   "execution_count": 14,
   "id": "75163734",
   "metadata": {},
   "outputs": [
    {
     "data": {
      "text/plain": [
       "Text(0.5, 1.0, 'Wide VP64 setA: Viability effect')"
      ]
     },
     "execution_count": 14,
     "metadata": {},
     "output_type": "execute_result"
    },
    {
     "data": {
      "image/png": "[encoded data removed]",
      "text/plain": [
       "<Figure size 288x288 with 1 Axes>"
      ]
     },
     "metadata": {
      "needs_background": "light"
     },
     "output_type": "display_data"
    }
   ],
   "source": [
    "#plotting dropout replicate correlations (lfc from pDNA)\n",
    "plt.subplots(figsize=(4,4))\n",
    "gpplot.point_densityplot(data=OG_lfc_df_from_pDNA, x='untreated_repA', y='untreated_repB')\n",
    "gpplot.add_correlation(data=OG_lfc_df_from_pDNA, x='untreated_repA', y='untreated_repB')\n",
    "sns.despine()\n",
    "plt.xlabel('untreated repA LFC')\n",
    "plt.ylabel('untreated repB LFC')\n",
    "plt.title('Wide VP64 setA: Viability effect')\n"
   ]
  },
  {
   "cell_type": "markdown",
   "id": "f2f040b5",
   "metadata": {},
   "source": [
    "### Selumetinib - Dropout \n"
   ]
  },
  {
   "cell_type": "code",
   "execution_count": 15,
   "id": "734affeb",
   "metadata": {},
   "outputs": [],
   "source": [
    "OG_filtered_lognorms_repA = OG_filtered_lognorms[['Construct Barcode', 'Construct IDs','Selumetinib_repA','untreated_repA']]\n",
    "OG_filtered_lognorms_repB = OG_filtered_lognorms[['Construct Barcode', 'Construct IDs','Selumetinib_repB','untreated_repB']]"
   ]
  },
  {
   "cell_type": "code",
   "execution_count": 16,
   "id": "72f0d7c6",
   "metadata": {},
   "outputs": [],
   "source": [
    "#calculating lfc from dropout\n",
    "OG_lfc_df_from_dropout_repA = pool.calculate_lfcs(lognorm_df=OG_filtered_lognorms_repA, ref_col='untreated_repA', \n",
    "                             target_cols=['Selumetinib_repA'])"
   ]
  },
  {
   "cell_type": "code",
   "execution_count": 17,
   "id": "4dd462d5",
   "metadata": {},
   "outputs": [],
   "source": [
    "OG_lfc_df_from_dropout_repB = pool.calculate_lfcs(lognorm_df=OG_filtered_lognorms_repB, ref_col='untreated_repB', \n",
    "                             target_cols=['Selumetinib_repB'])"
   ]
  },
  {
   "cell_type": "code",
   "execution_count": 18,
   "id": "d8e9d953",
   "metadata": {},
   "outputs": [],
   "source": [
    "OG_lfc_df_from_dropout = pd.merge(OG_lfc_df_from_dropout_repA, OG_lfc_df_from_dropout_repB)\n",
    "#calculating avg lfc for selumetinib samples\n",
    "OG_lfc_df_from_dropout['avg_lfc_selumetinib'] = OG_lfc_df_from_dropout[['Selumetinib_repA', 'Selumetinib_repB']].mean(axis=1)"
   ]
  },
  {
   "cell_type": "code",
   "execution_count": 19,
   "id": "f1539af4",
   "metadata": {},
   "outputs": [
    {
     "data": {
      "text/plain": [
       "Text(0.5, 1.0, 'Wide VP64 setA: Drug effect')"
      ]
     },
     "execution_count": 19,
     "metadata": {},
     "output_type": "execute_result"
    },
    {
     "data": {
      "image/png": "[encoded data removed]",
      "text/plain": [
       "<Figure size 288x288 with 1 Axes>"
      ]
     },
     "metadata": {
      "needs_background": "light"
     },
     "output_type": "display_data"
    }
   ],
   "source": [
    "plt.subplots(figsize=(4,4))\n",
    "gpplot.point_densityplot(data=OG_lfc_df_from_dropout, x='Selumetinib_repA', y='Selumetinib_repB')\n",
    "gpplot.add_correlation(data=OG_lfc_df_from_dropout, x='Selumetinib_repA', y='Selumetinib_repB')\n",
    "sns.despine()\n",
    "plt.xlabel('Selumetinib repA LFC')\n",
    "plt.ylabel('Selumetinib repB LFC')\n",
    "plt.title('Wide VP64 setA: Drug effect')\n"
   ]
  },
  {
   "cell_type": "markdown",
   "id": "23700b65",
   "metadata": {},
   "source": [
    "# 4 Calculate Z-scores"
   ]
  },
  {
   "cell_type": "markdown",
   "id": "ecd5891f",
   "metadata": {},
   "source": [
    "#### Drug Screens"
   ]
  },
  {
   "cell_type": "code",
   "execution_count": 20,
   "id": "7d901956",
   "metadata": {},
   "outputs": [],
   "source": [
    "# find the olfactory gene mean and sd\n",
    "olfactory_gene_df = OG_lfc_df_from_dropout[OG_lfc_df_from_dropout['Construct IDs'].isin(olfactory_gene)]\n",
    "olfactory_mean = statistics.mean(olfactory_gene_df.avg_lfc_selumetinib)\n",
    "olfactory_sd = statistics.stdev(olfactory_gene_df.avg_lfc_selumetinib)"
   ]
  },
  {
   "cell_type": "code",
   "execution_count": 21,
   "id": "7d8157b0",
   "metadata": {},
   "outputs": [
    {
     "data": {
      "text/html": [
       "<div>\n",
       "<style scoped>\n",
       "    .dataframe tbody tr th:only-of-type {\n",
       "        vertical-align: middle;\n",
       "    }\n",
       "\n",
       "    .dataframe tbody tr th {\n",
       "        vertical-align: top;\n",
       "    }\n",
       "\n",
       "    .dataframe thead th {\n",
       "        text-align: right;\n",
       "    }\n",
       "</style>\n",
       "<table border=\"1\" class=\"dataframe\">\n",
       "  <thead>\n",
       "    <tr style=\"text-align: right;\">\n",
       "      <th></th>\n",
       "      <th>Construct Barcode</th>\n",
       "      <th>Construct IDs</th>\n",
       "      <th>Selumetinib_repA</th>\n",
       "      <th>Selumetinib_repB</th>\n",
       "      <th>avg_lfc_selumetinib</th>\n",
       "      <th>z_scored_olfactory_gene</th>\n",
       "    </tr>\n",
       "  </thead>\n",
       "  <tbody>\n",
       "    <tr>\n",
       "      <th>0</th>\n",
       "      <td>AGTGATGGATCCTAGAACCTGTT</td>\n",
       "      <td>A1BG</td>\n",
       "      <td>-0.124570</td>\n",
       "      <td>0.111729</td>\n",
       "      <td>-0.006421</td>\n",
       "      <td>0.123894</td>\n",
       "    </tr>\n",
       "    <tr>\n",
       "      <th>1</th>\n",
       "      <td>GTAGATTATATCTGGGCTGTAGT</td>\n",
       "      <td>A1CF</td>\n",
       "      <td>-0.149793</td>\n",
       "      <td>0.468303</td>\n",
       "      <td>0.159255</td>\n",
       "      <td>0.650138</td>\n",
       "    </tr>\n",
       "    <tr>\n",
       "      <th>2</th>\n",
       "      <td>GCCCGCCAGGAATTAACCTTGAC</td>\n",
       "      <td>A2M</td>\n",
       "      <td>1.923789</td>\n",
       "      <td>1.502174</td>\n",
       "      <td>1.712982</td>\n",
       "      <td>5.585313</td>\n",
       "    </tr>\n",
       "    <tr>\n",
       "      <th>3</th>\n",
       "      <td>GGGGAAAACCAGAGCTGAGTATT</td>\n",
       "      <td>A2ML1</td>\n",
       "      <td>0.224751</td>\n",
       "      <td>-0.574082</td>\n",
       "      <td>-0.174665</td>\n",
       "      <td>-0.410508</td>\n",
       "    </tr>\n",
       "    <tr>\n",
       "      <th>4</th>\n",
       "      <td>CTCCAGGCCATCCTACCTGCTTC</td>\n",
       "      <td>A3GALT2</td>\n",
       "      <td>-0.480228</td>\n",
       "      <td>-0.778804</td>\n",
       "      <td>-0.629516</td>\n",
       "      <td>-1.855273</td>\n",
       "    </tr>\n",
       "  </tbody>\n",
       "</table>\n",
       "</div>"
      ],
      "text/plain": [
       "         Construct Barcode Construct IDs  Selumetinib_repA  Selumetinib_repB  \\\n",
       "0  AGTGATGGATCCTAGAACCTGTT  A1BG         -0.124570          0.111729           \n",
       "1  GTAGATTATATCTGGGCTGTAGT  A1CF         -0.149793          0.468303           \n",
       "2  GCCCGCCAGGAATTAACCTTGAC  A2M           1.923789          1.502174           \n",
       "3  GGGGAAAACCAGAGCTGAGTATT  A2ML1         0.224751         -0.574082           \n",
       "4  CTCCAGGCCATCCTACCTGCTTC  A3GALT2      -0.480228         -0.778804           \n",
       "\n",
       "   avg_lfc_selumetinib  z_scored_olfactory_gene  \n",
       "0 -0.006421             0.123894                 \n",
       "1  0.159255             0.650138                 \n",
       "2  1.712982             5.585313                 \n",
       "3 -0.174665            -0.410508                 \n",
       "4 -0.629516            -1.855273                 "
      ]
     },
     "execution_count": 21,
     "metadata": {},
     "output_type": "execute_result"
    }
   ],
   "source": [
    "# Z-score in respect to the olfactory genes\n",
    "OG_lfc_df_from_dropout['z_scored_olfactory_gene'] = (OG_lfc_df_from_dropout.avg_lfc_selumetinib - olfactory_mean)/olfactory_sd\n",
    "OG_lfc_df_from_dropout.head()"
   ]
  },
  {
   "cell_type": "code",
   "execution_count": 22,
   "id": "18a33c85",
   "metadata": {},
   "outputs": [],
   "source": [
    "OG_lfc_df_from_dropout.to_csv('primary screen processed data/wide_VP64_seta_lfc_drug_effect.csv',\n",
    "                             index = False)\n"
   ]
  },
  {
   "cell_type": "markdown",
   "id": "95fcd804",
   "metadata": {},
   "source": [
    "#### Viability effect"
   ]
  },
  {
   "cell_type": "code",
   "execution_count": 23,
   "id": "5ae198b6",
   "metadata": {},
   "outputs": [],
   "source": [
    "# find the olfactory gene mean and sd\n",
    "olfactory_gene_df_via = OG_lfc_df_from_pDNA[OG_lfc_df_from_pDNA['Construct IDs'].isin(olfactory_gene)]\n",
    "olfactory_mean_via = statistics.mean(olfactory_gene_df_via.avg_lfc_untreated)\n",
    "olfactory_sd_via = statistics.stdev(olfactory_gene_df_via.avg_lfc_untreated)"
   ]
  },
  {
   "cell_type": "code",
   "execution_count": 24,
   "id": "80aae974",
   "metadata": {},
   "outputs": [
    {
     "data": {
      "text/html": [
       "<div>\n",
       "<style scoped>\n",
       "    .dataframe tbody tr th:only-of-type {\n",
       "        vertical-align: middle;\n",
       "    }\n",
       "\n",
       "    .dataframe tbody tr th {\n",
       "        vertical-align: top;\n",
       "    }\n",
       "\n",
       "    .dataframe thead th {\n",
       "        text-align: right;\n",
       "    }\n",
       "</style>\n",
       "<table border=\"1\" class=\"dataframe\">\n",
       "  <thead>\n",
       "    <tr style=\"text-align: right;\">\n",
       "      <th></th>\n",
       "      <th>Construct IDs</th>\n",
       "      <th>untreated_repA</th>\n",
       "      <th>untreated_repB</th>\n",
       "      <th>Selumetinib_repA</th>\n",
       "      <th>Selumetinib_repB</th>\n",
       "      <th>Construct Barcode</th>\n",
       "      <th>avg_lfc_untreated</th>\n",
       "      <th>z_scored_olfactory_gene</th>\n",
       "    </tr>\n",
       "  </thead>\n",
       "  <tbody>\n",
       "    <tr>\n",
       "      <th>0</th>\n",
       "      <td>A1BG</td>\n",
       "      <td>0.694782</td>\n",
       "      <td>0.357919</td>\n",
       "      <td>0.570212</td>\n",
       "      <td>0.469648</td>\n",
       "      <td>AGTGATGGATCCTAGAACCTGTT</td>\n",
       "      <td>0.526351</td>\n",
       "      <td>1.248748</td>\n",
       "    </tr>\n",
       "    <tr>\n",
       "      <th>1</th>\n",
       "      <td>A1CF</td>\n",
       "      <td>-0.243443</td>\n",
       "      <td>-0.409456</td>\n",
       "      <td>-0.393236</td>\n",
       "      <td>0.058847</td>\n",
       "      <td>GTAGATTATATCTGGGCTGTAGT</td>\n",
       "      <td>-0.326449</td>\n",
       "      <td>-1.240191</td>\n",
       "    </tr>\n",
       "    <tr>\n",
       "      <th>2</th>\n",
       "      <td>A2M</td>\n",
       "      <td>-0.111615</td>\n",
       "      <td>0.409619</td>\n",
       "      <td>1.812175</td>\n",
       "      <td>1.911792</td>\n",
       "      <td>GCCCGCCAGGAATTAACCTTGAC</td>\n",
       "      <td>0.149002</td>\n",
       "      <td>0.147437</td>\n",
       "    </tr>\n",
       "    <tr>\n",
       "      <th>3</th>\n",
       "      <td>A2ML1</td>\n",
       "      <td>-0.618715</td>\n",
       "      <td>-0.073819</td>\n",
       "      <td>-0.393963</td>\n",
       "      <td>-0.647901</td>\n",
       "      <td>GGGGAAAACCAGAGCTGAGTATT</td>\n",
       "      <td>-0.346267</td>\n",
       "      <td>-1.298030</td>\n",
       "    </tr>\n",
       "    <tr>\n",
       "      <th>4</th>\n",
       "      <td>A3GALT2</td>\n",
       "      <td>0.591836</td>\n",
       "      <td>0.988510</td>\n",
       "      <td>0.111608</td>\n",
       "      <td>0.209705</td>\n",
       "      <td>CTCCAGGCCATCCTACCTGCTTC</td>\n",
       "      <td>0.790173</td>\n",
       "      <td>2.018725</td>\n",
       "    </tr>\n",
       "  </tbody>\n",
       "</table>\n",
       "</div>"
      ],
      "text/plain": [
       "  Construct IDs  untreated_repA  untreated_repB  Selumetinib_repA  \\\n",
       "0  A1BG          0.694782        0.357919        0.570212           \n",
       "1  A1CF         -0.243443       -0.409456       -0.393236           \n",
       "2  A2M          -0.111615        0.409619        1.812175           \n",
       "3  A2ML1        -0.618715       -0.073819       -0.393963           \n",
       "4  A3GALT2       0.591836        0.988510        0.111608           \n",
       "\n",
       "   Selumetinib_repB        Construct Barcode  avg_lfc_untreated  \\\n",
       "0  0.469648          AGTGATGGATCCTAGAACCTGTT  0.526351            \n",
       "1  0.058847          GTAGATTATATCTGGGCTGTAGT -0.326449            \n",
       "2  1.911792          GCCCGCCAGGAATTAACCTTGAC  0.149002            \n",
       "3 -0.647901          GGGGAAAACCAGAGCTGAGTATT -0.346267            \n",
       "4  0.209705          CTCCAGGCCATCCTACCTGCTTC  0.790173            \n",
       "\n",
       "   z_scored_olfactory_gene  \n",
       "0  1.248748                 \n",
       "1 -1.240191                 \n",
       "2  0.147437                 \n",
       "3 -1.298030                 \n",
       "4  2.018725                 "
      ]
     },
     "execution_count": 24,
     "metadata": {},
     "output_type": "execute_result"
    }
   ],
   "source": [
    "# Z-score in respect to the olfactory genes\n",
    "OG_lfc_df_from_pDNA['z_scored_olfactory_gene'] = (OG_lfc_df_from_pDNA.avg_lfc_untreated - olfactory_mean_via)/olfactory_sd_via\n",
    "OG_lfc_df_from_pDNA.head()"
   ]
  },
  {
   "cell_type": "code",
   "execution_count": 25,
   "id": "f547b572",
   "metadata": {},
   "outputs": [],
   "source": [
    "OG_lfc_df_from_pDNA.to_csv('../../manuscript data/primary screen processed data/wide_VP64_seta_lfc_viability_effect.csv',\n",
    "                             index = False)\n"
   ]
  },
  {
   "cell_type": "code",
   "execution_count": null,
   "id": "83f60433",
   "metadata": {},
   "outputs": [],
   "source": []
  }
 ],
 "metadata": {
  "kernelspec": {
   "display_name": "Python 3 (ipykernel)",
   "language": "python",
   "name": "python3"
  },
  "language_info": {
   "codemirror_mode": {
    "name": "ipython",
    "version": 3
   },
   "file_extension": ".py",
   "mimetype": "text/x-python",
   "name": "python",
   "nbconvert_exporter": "python",
   "pygments_lexer": "ipython3",
   "version": "3.8.13"
  }
 },
 "nbformat": 4,
 "nbformat_minor": 5
}
