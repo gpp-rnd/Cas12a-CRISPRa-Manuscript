{
 "cells": [
  {
   "cell_type": "markdown",
   "id": "51598699",
   "metadata": {},
   "source": [
    "# 0 Import packages"
   ]
  },
  {
   "cell_type": "code",
   "execution_count": 2,
   "id": "166a924c",
   "metadata": {},
   "outputs": [
    {
     "name": "stderr",
     "output_type": "stream",
     "text": [
      "/var/folders/h4/ryygmkjj3m32xw7cjfk2gbvr0000gq/T/ipykernel_74877/1441570396.py:16: FutureWarning: Passing a negative integer is deprecated in version 1.0 and will not be supported in future version. Instead, use None to not limit the column width.\n",
      "  pd.set_option('max_colwidth', -1)\n"
     ]
    }
   ],
   "source": [
    "import pandas as pd\n",
    "from poola import core as pool\n",
    "import seaborn as sns\n",
    "import gpplot\n",
    "import matplotlib.pyplot as plt\n",
    "import matplotlib as mpl\n",
    "import numpy as np\n",
    "import gpplot as gpp\n",
    "import function as f\n",
    "import statistics \n",
    "import scipy.stats as stats\n",
    "import researchpy as rp\n",
    "import re\n",
    "\n",
    "pd.set_option('max_colwidth', -1)"
   ]
  },
  {
   "cell_type": "markdown",
   "id": "06672997",
   "metadata": {},
   "source": [
    "# 1 Import Files"
   ]
  },
  {
   "cell_type": "code",
   "execution_count": 42,
   "id": "c701d863",
   "metadata": {},
   "outputs": [],
   "source": [
    "path = ('../../manuscript data/Supplementary Data Files')\n",
    "supp_data_3 = pd.read_excel(path + '/Supplementary Data 3.xlsx', 'Library annotation')\n",
    "supp_data_3 = supp_data_3[(supp_data_3['Design window'] == 'narrow') & (supp_data_3['Set'] == 'A')]\n",
    "\n",
    "narrow_seta_anno = pd.read_excel(path + '/Supplementary Data 3.xlsx', 'SetA;Narrow',skiprows=2, \n",
    "                                 names = ['Construct IDs',\n",
    "                                          'pDNA_Narrow_VP64_setA',\n",
    "                                          'pDNA_Narrow_p65_setA',\n",
    "                                          'Narrow_VP64_setA_untreated_repA',\n",
    "                                          'Narrow_VP64_setA_untreated_repB',\n",
    "                                          'Narrow_VP64_setA_Selumetinib_repA',\n",
    "                                          'Narrow_VP64_setA_Selumetinib_repB',\n",
    "                                          'Narrow_p65_setA_untreated_repA',\n",
    "                                          'Narrow_p65_setA_untreated_repB',\n",
    "                                          'Narrow_p65_setA_Selumetinib_repA',\n",
    "                                          'Narrow_p65_setA_Selumetinib_repB'])"
   ]
  },
  {
   "cell_type": "code",
   "execution_count": 43,
   "id": "e773470b",
   "metadata": {},
   "outputs": [],
   "source": [
    "narrow_p65_seta = pd.merge(narrow_seta_anno[['Construct IDs',\n",
    "                                          'pDNA_Narrow_p65_setA',\n",
    "                                          'Narrow_p65_setA_untreated_repA',\n",
    "                                          'Narrow_p65_setA_untreated_repB',\n",
    "                                          'Narrow_p65_setA_Selumetinib_repA',\n",
    "                                          'Narrow_p65_setA_Selumetinib_repB']],\n",
    "         supp_data_3[['Guide 1', 'Gene Symbol']].\n",
    "                           rename(columns={'Guide 1': 'Construct Barcode','Gene Symbol':'Construct IDs'}),\n",
    "         on = 'Construct IDs')\n",
    "         "
   ]
  },
  {
   "cell_type": "code",
   "execution_count": 44,
   "id": "4378fb3f",
   "metadata": {},
   "outputs": [
    {
     "data": {
      "text/html": [
       "<div>\n",
       "<style scoped>\n",
       "    .dataframe tbody tr th:only-of-type {\n",
       "        vertical-align: middle;\n",
       "    }\n",
       "\n",
       "    .dataframe tbody tr th {\n",
       "        vertical-align: top;\n",
       "    }\n",
       "\n",
       "    .dataframe thead th {\n",
       "        text-align: right;\n",
       "    }\n",
       "</style>\n",
       "<table border=\"1\" class=\"dataframe\">\n",
       "  <thead>\n",
       "    <tr style=\"text-align: right;\">\n",
       "      <th></th>\n",
       "      <th>Construct IDs</th>\n",
       "      <th>pDNA_Narrow_p65_setA</th>\n",
       "      <th>Narrow_p65_setA_untreated_repA</th>\n",
       "      <th>Narrow_p65_setA_untreated_repB</th>\n",
       "      <th>Narrow_p65_setA_Selumetinib_repA</th>\n",
       "      <th>Narrow_p65_setA_Selumetinib_repB</th>\n",
       "      <th>Construct Barcode</th>\n",
       "    </tr>\n",
       "  </thead>\n",
       "  <tbody>\n",
       "    <tr>\n",
       "      <th>0</th>\n",
       "      <td>A1BG</td>\n",
       "      <td>574.0</td>\n",
       "      <td>441.0</td>\n",
       "      <td>399.0</td>\n",
       "      <td>325.0</td>\n",
       "      <td>289.0</td>\n",
       "      <td>TCCTTCCCGGAAGGCGGGGGCAG</td>\n",
       "    </tr>\n",
       "    <tr>\n",
       "      <th>1</th>\n",
       "      <td>A1CF</td>\n",
       "      <td>784.0</td>\n",
       "      <td>537.0</td>\n",
       "      <td>523.0</td>\n",
       "      <td>516.0</td>\n",
       "      <td>408.0</td>\n",
       "      <td>CAATTCCTGGGAGTTAAACTTTA</td>\n",
       "    </tr>\n",
       "    <tr>\n",
       "      <th>2</th>\n",
       "      <td>A2M</td>\n",
       "      <td>774.0</td>\n",
       "      <td>1626.0</td>\n",
       "      <td>1760.0</td>\n",
       "      <td>4640.0</td>\n",
       "      <td>5037.0</td>\n",
       "      <td>GCCCGCCAGGAATTAACCTTGAC</td>\n",
       "    </tr>\n",
       "    <tr>\n",
       "      <th>3</th>\n",
       "      <td>A2ML1</td>\n",
       "      <td>691.0</td>\n",
       "      <td>742.0</td>\n",
       "      <td>952.0</td>\n",
       "      <td>692.0</td>\n",
       "      <td>635.0</td>\n",
       "      <td>CTCCTTCTGTAACCACCAGGTTA</td>\n",
       "    </tr>\n",
       "    <tr>\n",
       "      <th>4</th>\n",
       "      <td>A3GALT2</td>\n",
       "      <td>620.0</td>\n",
       "      <td>921.0</td>\n",
       "      <td>718.0</td>\n",
       "      <td>731.0</td>\n",
       "      <td>632.0</td>\n",
       "      <td>TGAGGAGCTGCACCCACAGGAGC</td>\n",
       "    </tr>\n",
       "  </tbody>\n",
       "</table>\n",
       "</div>"
      ],
      "text/plain": [
       "  Construct IDs  pDNA_Narrow_p65_setA  Narrow_p65_setA_untreated_repA  \\\n",
       "0  A1BG          574.0                 441.0                            \n",
       "1  A1CF          784.0                 537.0                            \n",
       "2  A2M           774.0                 1626.0                           \n",
       "3  A2ML1         691.0                 742.0                            \n",
       "4  A3GALT2       620.0                 921.0                            \n",
       "\n",
       "   Narrow_p65_setA_untreated_repB  Narrow_p65_setA_Selumetinib_repA  \\\n",
       "0  399.0                           325.0                              \n",
       "1  523.0                           516.0                              \n",
       "2  1760.0                          4640.0                             \n",
       "3  952.0                           692.0                              \n",
       "4  718.0                           731.0                              \n",
       "\n",
       "   Narrow_p65_setA_Selumetinib_repB        Construct Barcode  \n",
       "0  289.0                             TCCTTCCCGGAAGGCGGGGGCAG  \n",
       "1  408.0                             CAATTCCTGGGAGTTAAACTTTA  \n",
       "2  5037.0                            GCCCGCCAGGAATTAACCTTGAC  \n",
       "3  635.0                             CTCCTTCTGTAACCACCAGGTTA  \n",
       "4  632.0                             TGAGGAGCTGCACCCACAGGAGC  "
      ]
     },
     "execution_count": 44,
     "metadata": {},
     "output_type": "execute_result"
    }
   ],
   "source": [
    "narrow_p65_seta.head()"
   ]
  },
  {
   "cell_type": "markdown",
   "id": "d2bbcf2f",
   "metadata": {},
   "source": [
    "# 2 Find Olfactory Genes"
   ]
  },
  {
   "cell_type": "code",
   "execution_count": 45,
   "id": "8db4b6d8",
   "metadata": {},
   "outputs": [],
   "source": [
    "\n",
    "olfactory_gene = [gene for gene in narrow_p65_seta['Construct IDs'].tolist() if gene.startswith('OR')]\n",
    "# A nomenclature system has been devised for the olfactory receptor family[33] and is the basis for the official Human Genome Project (HUGO) symbols for the genes that encode these receptors. The names of individual olfactory receptor family members are in the format \"ORnXm\" where:\n",
    "\n",
    "# OR is the root name (Olfactory Receptor superfamily)\n",
    "# n = an integer representing a family (e.g., 1-56) whose members have greater than 40% sequence identity,\n",
    "# X = a single letter (A, B, C, ...) denoting a subfamily (>60% sequence identity), and\n",
    "# m = an integer representing an individual family member (isoform).\n",
    "# checked X could be mutiple letters\n",
    "\n",
    "ofg_l = []\n",
    "no_ofg_l = []\n",
    "for ofg in olfactory_gene:\n",
    "    match = re.search('^OR\\d{1,2}[A-Z]{1,2}[0-9]?[0-9]', ofg)\n",
    "    if match:\n",
    "        ofg_l.append(ofg)\n",
    "    else:\n",
    "        no_ofg_l.append(ofg)\n",
    "        \n",
    "\n",
    "\n",
    "olfactory_gene = ofg_l\n"
   ]
  },
  {
   "cell_type": "markdown",
   "id": "1e4bca7f",
   "metadata": {},
   "source": [
    "# 3 Calculate LFC "
   ]
  },
  {
   "cell_type": "code",
   "execution_count": 46,
   "id": "7dd9a77c",
   "metadata": {},
   "outputs": [],
   "source": [
    "OG_read_counts = narrow_p65_seta"
   ]
  },
  {
   "cell_type": "code",
   "execution_count": 47,
   "id": "52454822",
   "metadata": {},
   "outputs": [],
   "source": [
    "OG_read_counts.rename(columns = {'pDNA_Narrow_p65_setA':\"pDNA\", \n",
    "                                 'Narrow_p65_setA_untreated_repA':\"untreated_repA\",\n",
    "                                 'Narrow_p65_setA_untreated_repB':\"untreated_repB\", \n",
    "                                 'Narrow_p65_setA_Selumetinib_repA':\"Selumetinib_repA\",\n",
    "                                 'Narrow_p65_setA_Selumetinib_repB':\"Selumetinib_repB\"\n",
    "                                }, inplace= True)\n"
   ]
  },
  {
   "cell_type": "code",
   "execution_count": 49,
   "id": "a2826445",
   "metadata": {},
   "outputs": [
    {
     "data": {
      "text/html": [
       "<div>\n",
       "<style scoped>\n",
       "    .dataframe tbody tr th:only-of-type {\n",
       "        vertical-align: middle;\n",
       "    }\n",
       "\n",
       "    .dataframe tbody tr th {\n",
       "        vertical-align: top;\n",
       "    }\n",
       "\n",
       "    .dataframe thead th {\n",
       "        text-align: right;\n",
       "    }\n",
       "</style>\n",
       "<table border=\"1\" class=\"dataframe\">\n",
       "  <thead>\n",
       "    <tr style=\"text-align: right;\">\n",
       "      <th></th>\n",
       "      <th>Construct IDs</th>\n",
       "      <th>pDNA</th>\n",
       "      <th>untreated_repA</th>\n",
       "      <th>untreated_repB</th>\n",
       "      <th>Selumetinib_repA</th>\n",
       "      <th>Selumetinib_repB</th>\n",
       "      <th>Construct Barcode</th>\n",
       "    </tr>\n",
       "  </thead>\n",
       "  <tbody>\n",
       "    <tr>\n",
       "      <th>0</th>\n",
       "      <td>A1BG</td>\n",
       "      <td>574.0</td>\n",
       "      <td>441.0</td>\n",
       "      <td>399.0</td>\n",
       "      <td>325.0</td>\n",
       "      <td>289.0</td>\n",
       "      <td>TCCTTCCCGGAAGGCGGGGGCAG</td>\n",
       "    </tr>\n",
       "    <tr>\n",
       "      <th>1</th>\n",
       "      <td>A1CF</td>\n",
       "      <td>784.0</td>\n",
       "      <td>537.0</td>\n",
       "      <td>523.0</td>\n",
       "      <td>516.0</td>\n",
       "      <td>408.0</td>\n",
       "      <td>CAATTCCTGGGAGTTAAACTTTA</td>\n",
       "    </tr>\n",
       "    <tr>\n",
       "      <th>2</th>\n",
       "      <td>A2M</td>\n",
       "      <td>774.0</td>\n",
       "      <td>1626.0</td>\n",
       "      <td>1760.0</td>\n",
       "      <td>4640.0</td>\n",
       "      <td>5037.0</td>\n",
       "      <td>GCCCGCCAGGAATTAACCTTGAC</td>\n",
       "    </tr>\n",
       "    <tr>\n",
       "      <th>3</th>\n",
       "      <td>A2ML1</td>\n",
       "      <td>691.0</td>\n",
       "      <td>742.0</td>\n",
       "      <td>952.0</td>\n",
       "      <td>692.0</td>\n",
       "      <td>635.0</td>\n",
       "      <td>CTCCTTCTGTAACCACCAGGTTA</td>\n",
       "    </tr>\n",
       "    <tr>\n",
       "      <th>4</th>\n",
       "      <td>A3GALT2</td>\n",
       "      <td>620.0</td>\n",
       "      <td>921.0</td>\n",
       "      <td>718.0</td>\n",
       "      <td>731.0</td>\n",
       "      <td>632.0</td>\n",
       "      <td>TGAGGAGCTGCACCCACAGGAGC</td>\n",
       "    </tr>\n",
       "  </tbody>\n",
       "</table>\n",
       "</div>"
      ],
      "text/plain": [
       "  Construct IDs   pDNA  untreated_repA  untreated_repB  Selumetinib_repA  \\\n",
       "0  A1BG          574.0  441.0           399.0           325.0              \n",
       "1  A1CF          784.0  537.0           523.0           516.0              \n",
       "2  A2M           774.0  1626.0          1760.0          4640.0             \n",
       "3  A2ML1         691.0  742.0           952.0           692.0              \n",
       "4  A3GALT2       620.0  921.0           718.0           731.0              \n",
       "\n",
       "   Selumetinib_repB        Construct Barcode  \n",
       "0  289.0             TCCTTCCCGGAAGGCGGGGGCAG  \n",
       "1  408.0             CAATTCCTGGGAGTTAAACTTTA  \n",
       "2  5037.0            GCCCGCCAGGAATTAACCTTGAC  \n",
       "3  635.0             CTCCTTCTGTAACCACCAGGTTA  \n",
       "4  632.0             TGAGGAGCTGCACCCACAGGAGC  "
      ]
     },
     "execution_count": 49,
     "metadata": {},
     "output_type": "execute_result"
    }
   ],
   "source": [
    "OG_read_counts.head()"
   ]
  },
  {
   "cell_type": "code",
   "execution_count": 50,
   "id": "b76194c4",
   "metadata": {},
   "outputs": [],
   "source": [
    "#calculating lognorms\n",
    "OG_lognorms = pool.lognorm_columns(reads_df=OG_read_counts, columns=['pDNA', 'untreated_repA',\n",
    "                                                                     'untreated_repB','Selumetinib_repA',\n",
    "                                                                     'Selumetinib_repB'])\n"
   ]
  },
  {
   "cell_type": "code",
   "execution_count": 51,
   "id": "5aa48b00",
   "metadata": {},
   "outputs": [
    {
     "data": {
      "text/html": [
       "<div>\n",
       "<style scoped>\n",
       "    .dataframe tbody tr th:only-of-type {\n",
       "        vertical-align: middle;\n",
       "    }\n",
       "\n",
       "    .dataframe tbody tr th {\n",
       "        vertical-align: top;\n",
       "    }\n",
       "\n",
       "    .dataframe thead th {\n",
       "        text-align: right;\n",
       "    }\n",
       "</style>\n",
       "<table border=\"1\" class=\"dataframe\">\n",
       "  <thead>\n",
       "    <tr style=\"text-align: right;\">\n",
       "      <th></th>\n",
       "      <th>Construct IDs</th>\n",
       "      <th>pDNA</th>\n",
       "      <th>untreated_repA</th>\n",
       "      <th>untreated_repB</th>\n",
       "      <th>Selumetinib_repA</th>\n",
       "      <th>Selumetinib_repB</th>\n",
       "      <th>Construct Barcode</th>\n",
       "    </tr>\n",
       "  </thead>\n",
       "  <tbody>\n",
       "    <tr>\n",
       "      <th>0</th>\n",
       "      <td>A1BG</td>\n",
       "      <td>5.869243</td>\n",
       "      <td>5.546436</td>\n",
       "      <td>5.401566</td>\n",
       "      <td>5.150032</td>\n",
       "      <td>5.008376</td>\n",
       "      <td>TCCTTCCCGGAAGGCGGGGGCAG</td>\n",
       "    </tr>\n",
       "    <tr>\n",
       "      <th>1</th>\n",
       "      <td>A1CF</td>\n",
       "      <td>6.312420</td>\n",
       "      <td>5.825051</td>\n",
       "      <td>5.783873</td>\n",
       "      <td>5.801845</td>\n",
       "      <td>5.492742</td>\n",
       "      <td>CAATTCCTGGGAGTTAAACTTTA</td>\n",
       "    </tr>\n",
       "    <tr>\n",
       "      <th>2</th>\n",
       "      <td>A2M</td>\n",
       "      <td>6.294135</td>\n",
       "      <td>7.406239</td>\n",
       "      <td>7.516043</td>\n",
       "      <td>8.947356</td>\n",
       "      <td>9.088916</td>\n",
       "      <td>GCCCGCCAGGAATTAACCTTGAC</td>\n",
       "    </tr>\n",
       "    <tr>\n",
       "      <th>3</th>\n",
       "      <td>A2ML1</td>\n",
       "      <td>6.132693</td>\n",
       "      <td>6.284500</td>\n",
       "      <td>6.636175</td>\n",
       "      <td>6.218653</td>\n",
       "      <td>6.119430</td>\n",
       "      <td>CTCCTTCTGTAACCACCAGGTTA</td>\n",
       "    </tr>\n",
       "    <tr>\n",
       "      <th>4</th>\n",
       "      <td>A3GALT2</td>\n",
       "      <td>5.978629</td>\n",
       "      <td>6.592680</td>\n",
       "      <td>6.233917</td>\n",
       "      <td>6.296719</td>\n",
       "      <td>6.112697</td>\n",
       "      <td>TGAGGAGCTGCACCCACAGGAGC</td>\n",
       "    </tr>\n",
       "  </tbody>\n",
       "</table>\n",
       "</div>"
      ],
      "text/plain": [
       "  Construct IDs      pDNA  untreated_repA  untreated_repB  Selumetinib_repA  \\\n",
       "0  A1BG          5.869243  5.546436        5.401566        5.150032           \n",
       "1  A1CF          6.312420  5.825051        5.783873        5.801845           \n",
       "2  A2M           6.294135  7.406239        7.516043        8.947356           \n",
       "3  A2ML1         6.132693  6.284500        6.636175        6.218653           \n",
       "4  A3GALT2       5.978629  6.592680        6.233917        6.296719           \n",
       "\n",
       "   Selumetinib_repB        Construct Barcode  \n",
       "0  5.008376          TCCTTCCCGGAAGGCGGGGGCAG  \n",
       "1  5.492742          CAATTCCTGGGAGTTAAACTTTA  \n",
       "2  9.088916          GCCCGCCAGGAATTAACCTTGAC  \n",
       "3  6.119430          CTCCTTCTGTAACCACCAGGTTA  \n",
       "4  6.112697          TGAGGAGCTGCACCCACAGGAGC  "
      ]
     },
     "execution_count": 51,
     "metadata": {},
     "output_type": "execute_result"
    }
   ],
   "source": [
    "OG_lognorms.head()"
   ]
  },
  {
   "cell_type": "code",
   "execution_count": 52,
   "id": "37f9d311",
   "metadata": {},
   "outputs": [
    {
     "name": "stdout",
     "output_type": "stream",
     "text": [
      "Filtered 162 rows due to low pDNA abundance\n"
     ]
    }
   ],
   "source": [
    "# remove pDNA with low abundance\n",
    "OG_filtered_lognorms = pool.filter_pdna(lognorm_df=OG_lognorms, pdna_cols=['pDNA'], z_low=-3)\n",
    "print('Filtered ' + str(OG_lognorms.shape[0] - OG_filtered_lognorms.shape[0]) + ' rows due to low pDNA abundance')"
   ]
  },
  {
   "cell_type": "markdown",
   "id": "8cfc676f",
   "metadata": {},
   "source": [
    "### Dropout - pdna (viability effect)"
   ]
  },
  {
   "cell_type": "code",
   "execution_count": 53,
   "id": "33513779",
   "metadata": {},
   "outputs": [],
   "source": [
    "#calculating lfc from pDNA\n",
    "OG_lfc_df_from_pDNA = pool.calculate_lfcs(lognorm_df=OG_filtered_lognorms, ref_col='pDNA', \n",
    "                             target_cols=['untreated_repA','untreated_repB','Selumetinib_repA',\n",
    "                                                                     'Selumetinib_repB'])"
   ]
  },
  {
   "cell_type": "code",
   "execution_count": 54,
   "id": "08c28b1f",
   "metadata": {},
   "outputs": [],
   "source": [
    "#calculating avg lfc for untreated samples\n",
    "OG_lfc_df_from_pDNA['avg_lfc_untreated'] = OG_lfc_df_from_pDNA[['untreated_repA', 'untreated_repB']].mean(axis=1)"
   ]
  },
  {
   "cell_type": "code",
   "execution_count": 55,
   "id": "75163734",
   "metadata": {},
   "outputs": [
    {
     "data": {
      "text/plain": [
       "Text(0.5, 1.0, 'Narrow p65 setA: Viability effect')"
      ]
     },
     "execution_count": 55,
     "metadata": {},
     "output_type": "execute_result"
    },
    {
     "data": {
      "image/png": "[encoded data removed]",
      "text/plain": [
       "<Figure size 288x288 with 1 Axes>"
      ]
     },
     "metadata": {
      "needs_background": "light"
     },
     "output_type": "display_data"
    }
   ],
   "source": [
    "#plotting dropout replicate correlations (lfc from pDNA)\n",
    "plt.subplots(figsize=(4,4))\n",
    "gpplot.point_densityplot(data=OG_lfc_df_from_pDNA, x='untreated_repA', y='untreated_repB')\n",
    "gpplot.add_correlation(data=OG_lfc_df_from_pDNA, x='untreated_repA', y='untreated_repB')\n",
    "sns.despine()\n",
    "plt.xlabel('untreated repA LFC')\n",
    "plt.ylabel('untreated repB LFC')\n",
    "plt.title('Narrow p65 setA: Viability effect')\n"
   ]
  },
  {
   "cell_type": "markdown",
   "id": "f2f040b5",
   "metadata": {},
   "source": [
    "### Selumetinib - Dropout \n"
   ]
  },
  {
   "cell_type": "code",
   "execution_count": 56,
   "id": "734affeb",
   "metadata": {},
   "outputs": [],
   "source": [
    "OG_filtered_lognorms_repA = OG_filtered_lognorms[['Construct Barcode', 'Construct IDs','Selumetinib_repA','untreated_repA']]\n",
    "OG_filtered_lognorms_repB = OG_filtered_lognorms[['Construct Barcode', 'Construct IDs','Selumetinib_repB','untreated_repB']]"
   ]
  },
  {
   "cell_type": "code",
   "execution_count": 57,
   "id": "72f0d7c6",
   "metadata": {},
   "outputs": [],
   "source": [
    "#calculating lfc from dropout\n",
    "OG_lfc_df_from_dropout_repA = pool.calculate_lfcs(lognorm_df=OG_filtered_lognorms_repA, ref_col='untreated_repA', \n",
    "                             target_cols=['Selumetinib_repA'])"
   ]
  },
  {
   "cell_type": "code",
   "execution_count": 58,
   "id": "4dd462d5",
   "metadata": {},
   "outputs": [],
   "source": [
    "OG_lfc_df_from_dropout_repB = pool.calculate_lfcs(lognorm_df=OG_filtered_lognorms_repB, ref_col='untreated_repB', \n",
    "                             target_cols=['Selumetinib_repB'])"
   ]
  },
  {
   "cell_type": "code",
   "execution_count": 59,
   "id": "d8e9d953",
   "metadata": {},
   "outputs": [],
   "source": [
    "OG_lfc_df_from_dropout = pd.merge(OG_lfc_df_from_dropout_repA, OG_lfc_df_from_dropout_repB)\n",
    "#calculating avg lfc for selumetinib samples\n",
    "OG_lfc_df_from_dropout['avg_lfc_selumetinib'] = OG_lfc_df_from_dropout[['Selumetinib_repA', 'Selumetinib_repB']].mean(axis=1)"
   ]
  },
  {
   "cell_type": "code",
   "execution_count": 61,
   "id": "f1539af4",
   "metadata": {},
   "outputs": [
    {
     "data": {
      "text/plain": [
       "Text(0.5, 1.0, 'Narrow p65 setA: Drug effect')"
      ]
     },
     "execution_count": 61,
     "metadata": {},
     "output_type": "execute_result"
    },
    {
     "data": {
      "image/png": "[encoded data removed]",
      "text/plain": [
       "<Figure size 288x288 with 1 Axes>"
      ]
     },
     "metadata": {
      "needs_background": "light"
     },
     "output_type": "display_data"
    }
   ],
   "source": [
    "plt.subplots(figsize=(4,4))\n",
    "gpplot.point_densityplot(data=OG_lfc_df_from_dropout, x='Selumetinib_repA', y='Selumetinib_repB')\n",
    "gpplot.add_correlation(data=OG_lfc_df_from_dropout, x='Selumetinib_repA', y='Selumetinib_repB')\n",
    "sns.despine()\n",
    "plt.xlabel('Selumetinib repA LFC')\n",
    "plt.ylabel('Selumetinib repB LFC')\n",
    "plt.title('Narrow p65 setA: Drug effect')\n"
   ]
  },
  {
   "cell_type": "markdown",
   "id": "23700b65",
   "metadata": {},
   "source": [
    "# 4 Calculate Z-scores"
   ]
  },
  {
   "cell_type": "markdown",
   "id": "ecd5891f",
   "metadata": {},
   "source": [
    "#### Drug Screens"
   ]
  },
  {
   "cell_type": "code",
   "execution_count": 62,
   "id": "7d901956",
   "metadata": {},
   "outputs": [],
   "source": [
    "# find the olfactory gene mean and sd\n",
    "olfactory_gene_df = OG_lfc_df_from_dropout[OG_lfc_df_from_dropout['Construct IDs'].isin(olfactory_gene)]\n",
    "olfactory_mean = statistics.mean(olfactory_gene_df.avg_lfc_selumetinib)\n",
    "olfactory_sd = statistics.stdev(olfactory_gene_df.avg_lfc_selumetinib)"
   ]
  },
  {
   "cell_type": "code",
   "execution_count": 63,
   "id": "7d8157b0",
   "metadata": {},
   "outputs": [
    {
     "data": {
      "text/html": [
       "<div>\n",
       "<style scoped>\n",
       "    .dataframe tbody tr th:only-of-type {\n",
       "        vertical-align: middle;\n",
       "    }\n",
       "\n",
       "    .dataframe tbody tr th {\n",
       "        vertical-align: top;\n",
       "    }\n",
       "\n",
       "    .dataframe thead th {\n",
       "        text-align: right;\n",
       "    }\n",
       "</style>\n",
       "<table border=\"1\" class=\"dataframe\">\n",
       "  <thead>\n",
       "    <tr style=\"text-align: right;\">\n",
       "      <th></th>\n",
       "      <th>Construct Barcode</th>\n",
       "      <th>Construct IDs</th>\n",
       "      <th>Selumetinib_repA</th>\n",
       "      <th>Selumetinib_repB</th>\n",
       "      <th>avg_lfc_selumetinib</th>\n",
       "      <th>z_scored_olfactory_gene</th>\n",
       "    </tr>\n",
       "  </thead>\n",
       "  <tbody>\n",
       "    <tr>\n",
       "      <th>0</th>\n",
       "      <td>TCCTTCCCGGAAGGCGGGGGCAG</td>\n",
       "      <td>A1BG</td>\n",
       "      <td>-0.396404</td>\n",
       "      <td>-0.393190</td>\n",
       "      <td>-0.394797</td>\n",
       "      <td>-0.805793</td>\n",
       "    </tr>\n",
       "    <tr>\n",
       "      <th>1</th>\n",
       "      <td>CAATTCCTGGGAGTTAAACTTTA</td>\n",
       "      <td>A1CF</td>\n",
       "      <td>-0.023206</td>\n",
       "      <td>-0.291131</td>\n",
       "      <td>-0.157168</td>\n",
       "      <td>-0.108814</td>\n",
       "    </tr>\n",
       "    <tr>\n",
       "      <th>2</th>\n",
       "      <td>GCCCGCCAGGAATTAACCTTGAC</td>\n",
       "      <td>A2M</td>\n",
       "      <td>1.541118</td>\n",
       "      <td>1.572873</td>\n",
       "      <td>1.556996</td>\n",
       "      <td>4.918924</td>\n",
       "    </tr>\n",
       "    <tr>\n",
       "      <th>3</th>\n",
       "      <td>CTCCTTCTGTAACCACCAGGTTA</td>\n",
       "      <td>A2ML1</td>\n",
       "      <td>-0.065846</td>\n",
       "      <td>-0.516745</td>\n",
       "      <td>-0.291296</td>\n",
       "      <td>-0.502217</td>\n",
       "    </tr>\n",
       "    <tr>\n",
       "      <th>4</th>\n",
       "      <td>TGAGGAGCTGCACCCACAGGAGC</td>\n",
       "      <td>A3GALT2</td>\n",
       "      <td>-0.295961</td>\n",
       "      <td>-0.121220</td>\n",
       "      <td>-0.208591</td>\n",
       "      <td>-0.259639</td>\n",
       "    </tr>\n",
       "  </tbody>\n",
       "</table>\n",
       "</div>"
      ],
      "text/plain": [
       "         Construct Barcode Construct IDs  Selumetinib_repA  Selumetinib_repB  \\\n",
       "0  TCCTTCCCGGAAGGCGGGGGCAG  A1BG         -0.396404         -0.393190           \n",
       "1  CAATTCCTGGGAGTTAAACTTTA  A1CF         -0.023206         -0.291131           \n",
       "2  GCCCGCCAGGAATTAACCTTGAC  A2M           1.541118          1.572873           \n",
       "3  CTCCTTCTGTAACCACCAGGTTA  A2ML1        -0.065846         -0.516745           \n",
       "4  TGAGGAGCTGCACCCACAGGAGC  A3GALT2      -0.295961         -0.121220           \n",
       "\n",
       "   avg_lfc_selumetinib  z_scored_olfactory_gene  \n",
       "0 -0.394797            -0.805793                 \n",
       "1 -0.157168            -0.108814                 \n",
       "2  1.556996             4.918924                 \n",
       "3 -0.291296            -0.502217                 \n",
       "4 -0.208591            -0.259639                 "
      ]
     },
     "execution_count": 63,
     "metadata": {},
     "output_type": "execute_result"
    }
   ],
   "source": [
    "# Z-score in respect to the olfactory genes\n",
    "OG_lfc_df_from_dropout['z_scored_olfactory_gene'] = (OG_lfc_df_from_dropout.avg_lfc_selumetinib - olfactory_mean)/olfactory_sd\n",
    "OG_lfc_df_from_dropout.head()"
   ]
  },
  {
   "cell_type": "code",
   "execution_count": 65,
   "id": "18a33c85",
   "metadata": {},
   "outputs": [],
   "source": [
    "OG_lfc_df_from_dropout.to_csv('primary screen processed data/narrow_p65_seta_lfc_drug_effect.csv',\n",
    "                             index = False)\n"
   ]
  },
  {
   "cell_type": "markdown",
   "id": "95fcd804",
   "metadata": {},
   "source": [
    "#### Viability effect"
   ]
  },
  {
   "cell_type": "code",
   "execution_count": 66,
   "id": "5ae198b6",
   "metadata": {},
   "outputs": [],
   "source": [
    "# find the olfactory gene mean and sd\n",
    "olfactory_gene_df_via = OG_lfc_df_from_pDNA[OG_lfc_df_from_pDNA['Construct IDs'].isin(olfactory_gene)]\n",
    "olfactory_mean_via = statistics.mean(olfactory_gene_df_via.avg_lfc_untreated)\n",
    "olfactory_sd_via = statistics.stdev(olfactory_gene_df_via.avg_lfc_untreated)"
   ]
  },
  {
   "cell_type": "code",
   "execution_count": 67,
   "id": "80aae974",
   "metadata": {},
   "outputs": [
    {
     "data": {
      "text/html": [
       "<div>\n",
       "<style scoped>\n",
       "    .dataframe tbody tr th:only-of-type {\n",
       "        vertical-align: middle;\n",
       "    }\n",
       "\n",
       "    .dataframe tbody tr th {\n",
       "        vertical-align: top;\n",
       "    }\n",
       "\n",
       "    .dataframe thead th {\n",
       "        text-align: right;\n",
       "    }\n",
       "</style>\n",
       "<table border=\"1\" class=\"dataframe\">\n",
       "  <thead>\n",
       "    <tr style=\"text-align: right;\">\n",
       "      <th></th>\n",
       "      <th>Construct IDs</th>\n",
       "      <th>untreated_repA</th>\n",
       "      <th>untreated_repB</th>\n",
       "      <th>Selumetinib_repA</th>\n",
       "      <th>Selumetinib_repB</th>\n",
       "      <th>Construct Barcode</th>\n",
       "      <th>avg_lfc_untreated</th>\n",
       "      <th>z_scored_olfactory_gene</th>\n",
       "    </tr>\n",
       "  </thead>\n",
       "  <tbody>\n",
       "    <tr>\n",
       "      <th>0</th>\n",
       "      <td>A1BG</td>\n",
       "      <td>-0.322807</td>\n",
       "      <td>-0.467678</td>\n",
       "      <td>-0.719211</td>\n",
       "      <td>-0.860868</td>\n",
       "      <td>TCCTTCCCGGAAGGCGGGGGCAG</td>\n",
       "      <td>-0.395242</td>\n",
       "      <td>-0.862750</td>\n",
       "    </tr>\n",
       "    <tr>\n",
       "      <th>1</th>\n",
       "      <td>A1CF</td>\n",
       "      <td>-0.487370</td>\n",
       "      <td>-0.528547</td>\n",
       "      <td>-0.510576</td>\n",
       "      <td>-0.819678</td>\n",
       "      <td>CAATTCCTGGGAGTTAAACTTTA</td>\n",
       "      <td>-0.507958</td>\n",
       "      <td>-1.135484</td>\n",
       "    </tr>\n",
       "    <tr>\n",
       "      <th>2</th>\n",
       "      <td>A2M</td>\n",
       "      <td>1.112104</td>\n",
       "      <td>1.221908</td>\n",
       "      <td>2.653222</td>\n",
       "      <td>2.794782</td>\n",
       "      <td>GCCCGCCAGGAATTAACCTTGAC</td>\n",
       "      <td>1.167006</td>\n",
       "      <td>2.917346</td>\n",
       "    </tr>\n",
       "    <tr>\n",
       "      <th>3</th>\n",
       "      <td>A2ML1</td>\n",
       "      <td>0.151806</td>\n",
       "      <td>0.503482</td>\n",
       "      <td>0.085960</td>\n",
       "      <td>-0.013263</td>\n",
       "      <td>CTCCTTCTGTAACCACCAGGTTA</td>\n",
       "      <td>0.327644</td>\n",
       "      <td>0.886383</td>\n",
       "    </tr>\n",
       "    <tr>\n",
       "      <th>4</th>\n",
       "      <td>A3GALT2</td>\n",
       "      <td>0.614051</td>\n",
       "      <td>0.255288</td>\n",
       "      <td>0.318090</td>\n",
       "      <td>0.134068</td>\n",
       "      <td>TGAGGAGCTGCACCCACAGGAGC</td>\n",
       "      <td>0.434670</td>\n",
       "      <td>1.145348</td>\n",
       "    </tr>\n",
       "  </tbody>\n",
       "</table>\n",
       "</div>"
      ],
      "text/plain": [
       "  Construct IDs  untreated_repA  untreated_repB  Selumetinib_repA  \\\n",
       "0  A1BG         -0.322807       -0.467678       -0.719211           \n",
       "1  A1CF         -0.487370       -0.528547       -0.510576           \n",
       "2  A2M           1.112104        1.221908        2.653222           \n",
       "3  A2ML1         0.151806        0.503482        0.085960           \n",
       "4  A3GALT2       0.614051        0.255288        0.318090           \n",
       "\n",
       "   Selumetinib_repB        Construct Barcode  avg_lfc_untreated  \\\n",
       "0 -0.860868          TCCTTCCCGGAAGGCGGGGGCAG -0.395242            \n",
       "1 -0.819678          CAATTCCTGGGAGTTAAACTTTA -0.507958            \n",
       "2  2.794782          GCCCGCCAGGAATTAACCTTGAC  1.167006            \n",
       "3 -0.013263          CTCCTTCTGTAACCACCAGGTTA  0.327644            \n",
       "4  0.134068          TGAGGAGCTGCACCCACAGGAGC  0.434670            \n",
       "\n",
       "   z_scored_olfactory_gene  \n",
       "0 -0.862750                 \n",
       "1 -1.135484                 \n",
       "2  2.917346                 \n",
       "3  0.886383                 \n",
       "4  1.145348                 "
      ]
     },
     "execution_count": 67,
     "metadata": {},
     "output_type": "execute_result"
    }
   ],
   "source": [
    "# Z-score in respect to the olfactory genes\n",
    "OG_lfc_df_from_pDNA['z_scored_olfactory_gene'] = (OG_lfc_df_from_pDNA.avg_lfc_untreated - olfactory_mean_via)/olfactory_sd_via\n",
    "OG_lfc_df_from_pDNA.head()"
   ]
  },
  {
   "cell_type": "code",
   "execution_count": 68,
   "id": "f547b572",
   "metadata": {},
   "outputs": [],
   "source": [
    "OG_lfc_df_from_pDNA.to_csv('../../manuscript data/primary screen processed data/narrow_p65_seta_lfc_viability_effect.csv',\n",
    "                             index = False)\n"
   ]
  }
 ],
 "metadata": {
  "kernelspec": {
   "display_name": "Python 3 (ipykernel)",
   "language": "python",
   "name": "python3"
  },
  "language_info": {
   "codemirror_mode": {
    "name": "ipython",
    "version": 3
   },
   "file_extension": ".py",
   "mimetype": "text/x-python",
   "name": "python",
   "nbconvert_exporter": "python",
   "pygments_lexer": "ipython3",
   "version": "3.8.13"
  }
 },
 "nbformat": 4,
 "nbformat_minor": 5
}
