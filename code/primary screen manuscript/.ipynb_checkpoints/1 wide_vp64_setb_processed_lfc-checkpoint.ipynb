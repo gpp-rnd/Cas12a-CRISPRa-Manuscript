{
 "cells": [
  {
   "cell_type": "markdown",
   "id": "51598699",
   "metadata": {},
   "source": [
    "# 0 Import packages"
   ]
  },
  {
   "cell_type": "code",
   "execution_count": 1,
   "id": "166a924c",
   "metadata": {},
   "outputs": [
    {
     "name": "stderr",
     "output_type": "stream",
     "text": [
      "/var/folders/h4/ryygmkjj3m32xw7cjfk2gbvr0000gq/T/ipykernel_93097/478852975.py:15: FutureWarning: Passing a negative integer is deprecated in version 1.0 and will not be supported in future version. Instead, use None to not limit the column width.\n",
      "  pd.set_option('max_colwidth', -1)\n"
     ]
    }
   ],
   "source": [
    "import pandas as pd\n",
    "from poola import core as pool\n",
    "import seaborn as sns\n",
    "import gpplot\n",
    "import matplotlib.pyplot as plt\n",
    "import matplotlib as mpl\n",
    "import numpy as np\n",
    "import gpplot as gpp\n",
    "import function as f\n",
    "import statistics \n",
    "import scipy.stats as stats\n",
    "import researchpy as rp\n",
    "import re\n",
    "\n",
    "pd.set_option('max_colwidth', -1)"
   ]
  },
  {
   "cell_type": "markdown",
   "id": "06672997",
   "metadata": {},
   "source": [
    "# 1 Import Files"
   ]
  },
  {
   "cell_type": "code",
   "execution_count": 2,
   "id": "c701d863",
   "metadata": {},
   "outputs": [],
   "source": [
    "path = ('../../manuscript data/Supplementary Data Files/')\n",
    "supp_data_3 = pd.read_excel(path + '/Supplementary Data 3.xlsx', 'Library annotation')\n",
    "supp_data_3 = supp_data_3[(supp_data_3['Design window'] == 'wide') & (supp_data_3['Set'] == 'B')]\n",
    "\n",
    "wide_setb_anno = pd.read_excel(path + '/Supplementary Data 3.xlsx', 'SetB;Wide',skiprows=2, \n",
    "                                 names = ['Construct IDs',\n",
    "                                          'pDNA_Wide_VP64_setB',\n",
    "                                          'pDNA_Wide_p65_setB',\n",
    "                                          'Wide_VP64_setB_untreated_repA',\n",
    "                                          'Wide_VP64_setB_untreated_repB',\n",
    "                                          'Wide_VP64_setB_Selumetinib_repA',\n",
    "                                          'Wide_VP64_setB_Selumetinib_repB',\n",
    "                                          'Wide_p65_setB_untreated_repA',\n",
    "                                          'Wide_p65_setB_untreated_repB',\n",
    "                                          'Wide_p65_setB_Selumetinib_repA',\n",
    "                                          'Wide_p65_setB_Selumetinib_repB'])"
   ]
  },
  {
   "cell_type": "code",
   "execution_count": 3,
   "id": "e773470b",
   "metadata": {},
   "outputs": [],
   "source": [
    "wide_vp64_setb = pd.merge(wide_setb_anno[['Construct IDs',\n",
    "                                          'pDNA_Wide_VP64_setB',\n",
    "                                          'Wide_VP64_setB_untreated_repA',\n",
    "                                          'Wide_VP64_setB_untreated_repB',\n",
    "                                          'Wide_VP64_setB_Selumetinib_repA',\n",
    "                                          'Wide_VP64_setB_Selumetinib_repB']],\n",
    "         supp_data_3[['Guide 1', 'Gene Symbol']].\n",
    "                           rename(columns={'Guide 1': 'Construct Barcode','Gene Symbol':'Construct IDs'}),\n",
    "         on = 'Construct IDs')\n",
    "         "
   ]
  },
  {
   "cell_type": "code",
   "execution_count": 4,
   "id": "4378fb3f",
   "metadata": {},
   "outputs": [
    {
     "data": {
      "text/html": [
       "<div>\n",
       "<style scoped>\n",
       "    .dataframe tbody tr th:only-of-type {\n",
       "        vertical-align: middle;\n",
       "    }\n",
       "\n",
       "    .dataframe tbody tr th {\n",
       "        vertical-align: top;\n",
       "    }\n",
       "\n",
       "    .dataframe thead th {\n",
       "        text-align: right;\n",
       "    }\n",
       "</style>\n",
       "<table border=\"1\" class=\"dataframe\">\n",
       "  <thead>\n",
       "    <tr style=\"text-align: right;\">\n",
       "      <th></th>\n",
       "      <th>Construct IDs</th>\n",
       "      <th>pDNA_Wide_VP64_setB</th>\n",
       "      <th>Wide_VP64_setB_untreated_repA</th>\n",
       "      <th>Wide_VP64_setB_untreated_repB</th>\n",
       "      <th>Wide_VP64_setB_Selumetinib_repA</th>\n",
       "      <th>Wide_VP64_setB_Selumetinib_repB</th>\n",
       "      <th>Construct Barcode</th>\n",
       "    </tr>\n",
       "  </thead>\n",
       "  <tbody>\n",
       "    <tr>\n",
       "      <th>0</th>\n",
       "      <td>A1BG</td>\n",
       "      <td>499.0</td>\n",
       "      <td>392.0</td>\n",
       "      <td>405.0</td>\n",
       "      <td>286.0</td>\n",
       "      <td>280.0</td>\n",
       "      <td>AGCCCCGGCACTCTCCACTTGAC</td>\n",
       "    </tr>\n",
       "    <tr>\n",
       "      <th>1</th>\n",
       "      <td>A1CF</td>\n",
       "      <td>957.0</td>\n",
       "      <td>797.0</td>\n",
       "      <td>700.0</td>\n",
       "      <td>790.0</td>\n",
       "      <td>596.0</td>\n",
       "      <td>CAATTCCTGGGAGTTAAACTTTA</td>\n",
       "    </tr>\n",
       "    <tr>\n",
       "      <th>2</th>\n",
       "      <td>A2M</td>\n",
       "      <td>789.0</td>\n",
       "      <td>713.0</td>\n",
       "      <td>703.0</td>\n",
       "      <td>683.0</td>\n",
       "      <td>512.0</td>\n",
       "      <td>TGGCGGGCTAAATAGAATCCCTG</td>\n",
       "    </tr>\n",
       "    <tr>\n",
       "      <th>3</th>\n",
       "      <td>A2ML1</td>\n",
       "      <td>939.0</td>\n",
       "      <td>904.0</td>\n",
       "      <td>903.0</td>\n",
       "      <td>976.0</td>\n",
       "      <td>703.0</td>\n",
       "      <td>CCATTATGAATACTCAGCTCTGG</td>\n",
       "    </tr>\n",
       "    <tr>\n",
       "      <th>4</th>\n",
       "      <td>A3GALT2</td>\n",
       "      <td>185.0</td>\n",
       "      <td>199.0</td>\n",
       "      <td>213.0</td>\n",
       "      <td>173.0</td>\n",
       "      <td>135.0</td>\n",
       "      <td>AGGTGATTGGCCCCAAAAGGGTT</td>\n",
       "    </tr>\n",
       "  </tbody>\n",
       "</table>\n",
       "</div>"
      ],
      "text/plain": [
       "  Construct IDs  pDNA_Wide_VP64_setB  Wide_VP64_setB_untreated_repA  \\\n",
       "0  A1BG          499.0                392.0                           \n",
       "1  A1CF          957.0                797.0                           \n",
       "2  A2M           789.0                713.0                           \n",
       "3  A2ML1         939.0                904.0                           \n",
       "4  A3GALT2       185.0                199.0                           \n",
       "\n",
       "   Wide_VP64_setB_untreated_repB  Wide_VP64_setB_Selumetinib_repA  \\\n",
       "0  405.0                          286.0                             \n",
       "1  700.0                          790.0                             \n",
       "2  703.0                          683.0                             \n",
       "3  903.0                          976.0                             \n",
       "4  213.0                          173.0                             \n",
       "\n",
       "   Wide_VP64_setB_Selumetinib_repB        Construct Barcode  \n",
       "0  280.0                            AGCCCCGGCACTCTCCACTTGAC  \n",
       "1  596.0                            CAATTCCTGGGAGTTAAACTTTA  \n",
       "2  512.0                            TGGCGGGCTAAATAGAATCCCTG  \n",
       "3  703.0                            CCATTATGAATACTCAGCTCTGG  \n",
       "4  135.0                            AGGTGATTGGCCCCAAAAGGGTT  "
      ]
     },
     "execution_count": 4,
     "metadata": {},
     "output_type": "execute_result"
    }
   ],
   "source": [
    "wide_vp64_setb.head()"
   ]
  },
  {
   "cell_type": "markdown",
   "id": "d2bbcf2f",
   "metadata": {},
   "source": [
    "# 2 Find Olfactory Genes"
   ]
  },
  {
   "cell_type": "code",
   "execution_count": 5,
   "id": "8db4b6d8",
   "metadata": {},
   "outputs": [],
   "source": [
    "\n",
    "olfactory_gene = [gene for gene in wide_vp64_setb['Construct IDs'].tolist() if gene.startswith('OR')]\n",
    "# A nomenclature system has been devised for the olfactory receptor family[33] and is the basis for the official Human Genome Project (HUGO) symbols for the genes that encode these receptors. The names of individual olfactory receptor family members are in the format \"ORnXm\" where:\n",
    "\n",
    "# OR is the root name (Olfactory Receptor superfamily)\n",
    "# n = an integer representing a family (e.g., 1-56) whose members have greater than 40% sequence identity,\n",
    "# X = a single letter (A, B, C, ...) denoting a subfamily (>60% sequence identity), and\n",
    "# m = an integer representing an individual family member (isoform).\n",
    "# checked X could be mutiple letters\n",
    "\n",
    "ofg_l = []\n",
    "no_ofg_l = []\n",
    "for ofg in olfactory_gene:\n",
    "    match = re.search('^OR\\d{1,2}[A-Z]{1,2}[0-9]?[0-9]', ofg)\n",
    "    if match:\n",
    "        ofg_l.append(ofg)\n",
    "    else:\n",
    "        no_ofg_l.append(ofg)\n",
    "        \n",
    "\n",
    "\n",
    "olfactory_gene = ofg_l\n"
   ]
  },
  {
   "cell_type": "markdown",
   "id": "1e4bca7f",
   "metadata": {},
   "source": [
    "# 3 Calculate LFC "
   ]
  },
  {
   "cell_type": "code",
   "execution_count": 6,
   "id": "7dd9a77c",
   "metadata": {},
   "outputs": [],
   "source": [
    "OG_read_counts = wide_vp64_setb"
   ]
  },
  {
   "cell_type": "code",
   "execution_count": 7,
   "id": "52454822",
   "metadata": {},
   "outputs": [],
   "source": [
    "OG_read_counts.rename(columns = {'pDNA_Wide_VP64_setB':\"pDNA\", \n",
    "                                 'Wide_VP64_setB_untreated_repA':\"untreated_repA\",\n",
    "                                 'Wide_VP64_setB_untreated_repB':\"untreated_repB\", \n",
    "                                 'Wide_VP64_setB_Selumetinib_repA':\"Selumetinib_repA\",\n",
    "                                 'Wide_VP64_setB_Selumetinib_repB':\"Selumetinib_repB\"\n",
    "                                }, inplace= True)\n"
   ]
  },
  {
   "cell_type": "code",
   "execution_count": 8,
   "id": "a2826445",
   "metadata": {},
   "outputs": [
    {
     "data": {
      "text/html": [
       "<div>\n",
       "<style scoped>\n",
       "    .dataframe tbody tr th:only-of-type {\n",
       "        vertical-align: middle;\n",
       "    }\n",
       "\n",
       "    .dataframe tbody tr th {\n",
       "        vertical-align: top;\n",
       "    }\n",
       "\n",
       "    .dataframe thead th {\n",
       "        text-align: right;\n",
       "    }\n",
       "</style>\n",
       "<table border=\"1\" class=\"dataframe\">\n",
       "  <thead>\n",
       "    <tr style=\"text-align: right;\">\n",
       "      <th></th>\n",
       "      <th>Construct IDs</th>\n",
       "      <th>pDNA</th>\n",
       "      <th>untreated_repA</th>\n",
       "      <th>untreated_repB</th>\n",
       "      <th>Selumetinib_repA</th>\n",
       "      <th>Selumetinib_repB</th>\n",
       "      <th>Construct Barcode</th>\n",
       "    </tr>\n",
       "  </thead>\n",
       "  <tbody>\n",
       "    <tr>\n",
       "      <th>0</th>\n",
       "      <td>A1BG</td>\n",
       "      <td>499.0</td>\n",
       "      <td>392.0</td>\n",
       "      <td>405.0</td>\n",
       "      <td>286.0</td>\n",
       "      <td>280.0</td>\n",
       "      <td>AGCCCCGGCACTCTCCACTTGAC</td>\n",
       "    </tr>\n",
       "    <tr>\n",
       "      <th>1</th>\n",
       "      <td>A1CF</td>\n",
       "      <td>957.0</td>\n",
       "      <td>797.0</td>\n",
       "      <td>700.0</td>\n",
       "      <td>790.0</td>\n",
       "      <td>596.0</td>\n",
       "      <td>CAATTCCTGGGAGTTAAACTTTA</td>\n",
       "    </tr>\n",
       "    <tr>\n",
       "      <th>2</th>\n",
       "      <td>A2M</td>\n",
       "      <td>789.0</td>\n",
       "      <td>713.0</td>\n",
       "      <td>703.0</td>\n",
       "      <td>683.0</td>\n",
       "      <td>512.0</td>\n",
       "      <td>TGGCGGGCTAAATAGAATCCCTG</td>\n",
       "    </tr>\n",
       "    <tr>\n",
       "      <th>3</th>\n",
       "      <td>A2ML1</td>\n",
       "      <td>939.0</td>\n",
       "      <td>904.0</td>\n",
       "      <td>903.0</td>\n",
       "      <td>976.0</td>\n",
       "      <td>703.0</td>\n",
       "      <td>CCATTATGAATACTCAGCTCTGG</td>\n",
       "    </tr>\n",
       "    <tr>\n",
       "      <th>4</th>\n",
       "      <td>A3GALT2</td>\n",
       "      <td>185.0</td>\n",
       "      <td>199.0</td>\n",
       "      <td>213.0</td>\n",
       "      <td>173.0</td>\n",
       "      <td>135.0</td>\n",
       "      <td>AGGTGATTGGCCCCAAAAGGGTT</td>\n",
       "    </tr>\n",
       "  </tbody>\n",
       "</table>\n",
       "</div>"
      ],
      "text/plain": [
       "  Construct IDs   pDNA  untreated_repA  untreated_repB  Selumetinib_repA  \\\n",
       "0  A1BG          499.0  392.0           405.0           286.0              \n",
       "1  A1CF          957.0  797.0           700.0           790.0              \n",
       "2  A2M           789.0  713.0           703.0           683.0              \n",
       "3  A2ML1         939.0  904.0           903.0           976.0              \n",
       "4  A3GALT2       185.0  199.0           213.0           173.0              \n",
       "\n",
       "   Selumetinib_repB        Construct Barcode  \n",
       "0  280.0             AGCCCCGGCACTCTCCACTTGAC  \n",
       "1  596.0             CAATTCCTGGGAGTTAAACTTTA  \n",
       "2  512.0             TGGCGGGCTAAATAGAATCCCTG  \n",
       "3  703.0             CCATTATGAATACTCAGCTCTGG  \n",
       "4  135.0             AGGTGATTGGCCCCAAAAGGGTT  "
      ]
     },
     "execution_count": 8,
     "metadata": {},
     "output_type": "execute_result"
    }
   ],
   "source": [
    "OG_read_counts.head()"
   ]
  },
  {
   "cell_type": "code",
   "execution_count": 9,
   "id": "b76194c4",
   "metadata": {},
   "outputs": [],
   "source": [
    "#calculating lognorms\n",
    "OG_lognorms = pool.lognorm_columns(reads_df=OG_read_counts, columns=['pDNA', 'untreated_repA',\n",
    "                                                                     'untreated_repB','Selumetinib_repA',\n",
    "                                                                     'Selumetinib_repB'])\n"
   ]
  },
  {
   "cell_type": "code",
   "execution_count": 10,
   "id": "5aa48b00",
   "metadata": {},
   "outputs": [
    {
     "data": {
      "text/html": [
       "<div>\n",
       "<style scoped>\n",
       "    .dataframe tbody tr th:only-of-type {\n",
       "        vertical-align: middle;\n",
       "    }\n",
       "\n",
       "    .dataframe tbody tr th {\n",
       "        vertical-align: top;\n",
       "    }\n",
       "\n",
       "    .dataframe thead th {\n",
       "        text-align: right;\n",
       "    }\n",
       "</style>\n",
       "<table border=\"1\" class=\"dataframe\">\n",
       "  <thead>\n",
       "    <tr style=\"text-align: right;\">\n",
       "      <th></th>\n",
       "      <th>Construct IDs</th>\n",
       "      <th>pDNA</th>\n",
       "      <th>untreated_repA</th>\n",
       "      <th>untreated_repB</th>\n",
       "      <th>Selumetinib_repA</th>\n",
       "      <th>Selumetinib_repB</th>\n",
       "      <th>Construct Barcode</th>\n",
       "    </tr>\n",
       "  </thead>\n",
       "  <tbody>\n",
       "    <tr>\n",
       "      <th>0</th>\n",
       "      <td>A1BG</td>\n",
       "      <td>5.014237</td>\n",
       "      <td>5.083036</td>\n",
       "      <td>5.037127</td>\n",
       "      <td>4.544767</td>\n",
       "      <td>4.678808</td>\n",
       "      <td>AGCCCCGGCACTCTCCACTTGAC</td>\n",
       "    </tr>\n",
       "    <tr>\n",
       "      <th>1</th>\n",
       "      <td>A1CF</td>\n",
       "      <td>5.932192</td>\n",
       "      <td>6.084969</td>\n",
       "      <td>5.807923</td>\n",
       "      <td>5.970622</td>\n",
       "      <td>5.738516</td>\n",
       "      <td>CAATTCCTGGGAGTTAAACTTTA</td>\n",
       "    </tr>\n",
       "    <tr>\n",
       "      <th>2</th>\n",
       "      <td>A2M</td>\n",
       "      <td>5.658720</td>\n",
       "      <td>5.926793</td>\n",
       "      <td>5.813983</td>\n",
       "      <td>5.764255</td>\n",
       "      <td>5.523774</td>\n",
       "      <td>TGGCGGGCTAAATAGAATCCCTG</td>\n",
       "    </tr>\n",
       "    <tr>\n",
       "      <th>3</th>\n",
       "      <td>A2ML1</td>\n",
       "      <td>5.905251</td>\n",
       "      <td>6.264195</td>\n",
       "      <td>6.169493</td>\n",
       "      <td>6.271259</td>\n",
       "      <td>5.972610</td>\n",
       "      <td>CCATTATGAATACTCAGCTCTGG</td>\n",
       "    </tr>\n",
       "    <tr>\n",
       "      <th>4</th>\n",
       "      <td>A3GALT2</td>\n",
       "      <td>3.656570</td>\n",
       "      <td>4.145650</td>\n",
       "      <td>4.149132</td>\n",
       "      <td>3.859343</td>\n",
       "      <td>3.685606</td>\n",
       "      <td>AGGTGATTGGCCCCAAAAGGGTT</td>\n",
       "    </tr>\n",
       "  </tbody>\n",
       "</table>\n",
       "</div>"
      ],
      "text/plain": [
       "  Construct IDs      pDNA  untreated_repA  untreated_repB  Selumetinib_repA  \\\n",
       "0  A1BG          5.014237  5.083036        5.037127        4.544767           \n",
       "1  A1CF          5.932192  6.084969        5.807923        5.970622           \n",
       "2  A2M           5.658720  5.926793        5.813983        5.764255           \n",
       "3  A2ML1         5.905251  6.264195        6.169493        6.271259           \n",
       "4  A3GALT2       3.656570  4.145650        4.149132        3.859343           \n",
       "\n",
       "   Selumetinib_repB        Construct Barcode  \n",
       "0  4.678808          AGCCCCGGCACTCTCCACTTGAC  \n",
       "1  5.738516          CAATTCCTGGGAGTTAAACTTTA  \n",
       "2  5.523774          TGGCGGGCTAAATAGAATCCCTG  \n",
       "3  5.972610          CCATTATGAATACTCAGCTCTGG  \n",
       "4  3.685606          AGGTGATTGGCCCCAAAAGGGTT  "
      ]
     },
     "execution_count": 10,
     "metadata": {},
     "output_type": "execute_result"
    }
   ],
   "source": [
    "OG_lognorms.head()"
   ]
  },
  {
   "cell_type": "code",
   "execution_count": 11,
   "id": "37f9d311",
   "metadata": {},
   "outputs": [
    {
     "name": "stdout",
     "output_type": "stream",
     "text": [
      "Filtered 107 rows due to low pDNA abundance\n"
     ]
    }
   ],
   "source": [
    "# remove pDNA with low abundance\n",
    "OG_filtered_lognorms = pool.filter_pdna(lognorm_df=OG_lognorms, pdna_cols=['pDNA'], z_low=-3)\n",
    "print('Filtered ' + str(OG_lognorms.shape[0] - OG_filtered_lognorms.shape[0]) + ' rows due to low pDNA abundance')"
   ]
  },
  {
   "cell_type": "markdown",
   "id": "8cfc676f",
   "metadata": {},
   "source": [
    "### Dropout - pdna (viability effect)"
   ]
  },
  {
   "cell_type": "code",
   "execution_count": 12,
   "id": "33513779",
   "metadata": {},
   "outputs": [],
   "source": [
    "#calculating lfc from pDNA\n",
    "OG_lfc_df_from_pDNA = pool.calculate_lfcs(lognorm_df=OG_filtered_lognorms, ref_col='pDNA', \n",
    "                             target_cols=['untreated_repA','untreated_repB','Selumetinib_repA',\n",
    "                                                                     'Selumetinib_repB'])"
   ]
  },
  {
   "cell_type": "code",
   "execution_count": 13,
   "id": "08c28b1f",
   "metadata": {},
   "outputs": [],
   "source": [
    "#calculating avg lfc for untreated samples\n",
    "OG_lfc_df_from_pDNA['avg_lfc_untreated'] = OG_lfc_df_from_pDNA[['untreated_repA', 'untreated_repB']].mean(axis=1)"
   ]
  },
  {
   "cell_type": "code",
   "execution_count": 14,
   "id": "75163734",
   "metadata": {},
   "outputs": [
    {
     "data": {
      "text/plain": [
       "Text(0.5, 1.0, 'Wide VP64 setB: Viability effect')"
      ]
     },
     "execution_count": 14,
     "metadata": {},
     "output_type": "execute_result"
    },
    {
     "data": {
      "image/png": "[encoded data removed]",
      "text/plain": [
       "<Figure size 288x288 with 1 Axes>"
      ]
     },
     "metadata": {
      "needs_background": "light"
     },
     "output_type": "display_data"
    }
   ],
   "source": [
    "#plotting dropout replicate correlations (lfc from pDNA)\n",
    "plt.subplots(figsize=(4,4))\n",
    "gpplot.point_densityplot(data=OG_lfc_df_from_pDNA, x='untreated_repA', y='untreated_repB')\n",
    "gpplot.add_correlation(data=OG_lfc_df_from_pDNA, x='untreated_repA', y='untreated_repB')\n",
    "sns.despine()\n",
    "plt.xlabel('untreated repA LFC')\n",
    "plt.ylabel('untreated repB LFC')\n",
    "plt.title('Wide VP64 setB: Viability effect')\n"
   ]
  },
  {
   "cell_type": "markdown",
   "id": "f2f040b5",
   "metadata": {},
   "source": [
    "### Selumetinib - Dropout \n"
   ]
  },
  {
   "cell_type": "code",
   "execution_count": 15,
   "id": "734affeb",
   "metadata": {},
   "outputs": [],
   "source": [
    "OG_filtered_lognorms_repA = OG_filtered_lognorms[['Construct Barcode', 'Construct IDs','Selumetinib_repA','untreated_repA']]\n",
    "OG_filtered_lognorms_repB = OG_filtered_lognorms[['Construct Barcode', 'Construct IDs','Selumetinib_repB','untreated_repB']]"
   ]
  },
  {
   "cell_type": "code",
   "execution_count": 16,
   "id": "72f0d7c6",
   "metadata": {},
   "outputs": [],
   "source": [
    "#calculating lfc from dropout\n",
    "OG_lfc_df_from_dropout_repA = pool.calculate_lfcs(lognorm_df=OG_filtered_lognorms_repA, ref_col='untreated_repA', \n",
    "                             target_cols=['Selumetinib_repA'])"
   ]
  },
  {
   "cell_type": "code",
   "execution_count": 17,
   "id": "4dd462d5",
   "metadata": {},
   "outputs": [],
   "source": [
    "OG_lfc_df_from_dropout_repB = pool.calculate_lfcs(lognorm_df=OG_filtered_lognorms_repB, ref_col='untreated_repB', \n",
    "                             target_cols=['Selumetinib_repB'])"
   ]
  },
  {
   "cell_type": "code",
   "execution_count": 18,
   "id": "d8e9d953",
   "metadata": {},
   "outputs": [],
   "source": [
    "OG_lfc_df_from_dropout = pd.merge(OG_lfc_df_from_dropout_repA, OG_lfc_df_from_dropout_repB)\n",
    "#calculating avg lfc for selumetinib samples\n",
    "OG_lfc_df_from_dropout['avg_lfc_selumetinib'] = OG_lfc_df_from_dropout[['Selumetinib_repA', 'Selumetinib_repB']].mean(axis=1)"
   ]
  },
  {
   "cell_type": "code",
   "execution_count": 19,
   "id": "f1539af4",
   "metadata": {},
   "outputs": [
    {
     "data": {
      "text/plain": [
       "Text(0.5, 1.0, 'Wide VP64 setB: Drug effect')"
      ]
     },
     "execution_count": 19,
     "metadata": {},
     "output_type": "execute_result"
    },
    {
     "data": {
      "image/png": "[encoded data removed]",
      "text/plain": [
       "<Figure size 288x288 with 1 Axes>"
      ]
     },
     "metadata": {
      "needs_background": "light"
     },
     "output_type": "display_data"
    }
   ],
   "source": [
    "plt.subplots(figsize=(4,4))\n",
    "gpplot.point_densityplot(data=OG_lfc_df_from_dropout, x='Selumetinib_repA', y='Selumetinib_repB')\n",
    "gpplot.add_correlation(data=OG_lfc_df_from_dropout, x='Selumetinib_repA', y='Selumetinib_repB')\n",
    "sns.despine()\n",
    "plt.xlabel('Selumetinib repA LFC')\n",
    "plt.ylabel('Selumetinib repB LFC')\n",
    "plt.title('Wide VP64 setB: Drug effect')\n"
   ]
  },
  {
   "cell_type": "markdown",
   "id": "23700b65",
   "metadata": {},
   "source": [
    "# 4 Calculate Z-scores"
   ]
  },
  {
   "cell_type": "markdown",
   "id": "ecd5891f",
   "metadata": {},
   "source": [
    "#### Drug Screens"
   ]
  },
  {
   "cell_type": "code",
   "execution_count": 20,
   "id": "7d901956",
   "metadata": {},
   "outputs": [],
   "source": [
    "# find the olfactory gene mean and sd\n",
    "olfactory_gene_df = OG_lfc_df_from_dropout[OG_lfc_df_from_dropout['Construct IDs'].isin(olfactory_gene)]\n",
    "olfactory_mean = statistics.mean(olfactory_gene_df.avg_lfc_selumetinib)\n",
    "olfactory_sd = statistics.stdev(olfactory_gene_df.avg_lfc_selumetinib)"
   ]
  },
  {
   "cell_type": "code",
   "execution_count": 21,
   "id": "7d8157b0",
   "metadata": {},
   "outputs": [
    {
     "data": {
      "text/html": [
       "<div>\n",
       "<style scoped>\n",
       "    .dataframe tbody tr th:only-of-type {\n",
       "        vertical-align: middle;\n",
       "    }\n",
       "\n",
       "    .dataframe tbody tr th {\n",
       "        vertical-align: top;\n",
       "    }\n",
       "\n",
       "    .dataframe thead th {\n",
       "        text-align: right;\n",
       "    }\n",
       "</style>\n",
       "<table border=\"1\" class=\"dataframe\">\n",
       "  <thead>\n",
       "    <tr style=\"text-align: right;\">\n",
       "      <th></th>\n",
       "      <th>Construct Barcode</th>\n",
       "      <th>Construct IDs</th>\n",
       "      <th>Selumetinib_repA</th>\n",
       "      <th>Selumetinib_repB</th>\n",
       "      <th>avg_lfc_selumetinib</th>\n",
       "      <th>z_scored_olfactory_gene</th>\n",
       "    </tr>\n",
       "  </thead>\n",
       "  <tbody>\n",
       "    <tr>\n",
       "      <th>0</th>\n",
       "      <td>AGCCCCGGCACTCTCCACTTGAC</td>\n",
       "      <td>A1BG</td>\n",
       "      <td>-0.538269</td>\n",
       "      <td>-0.358319</td>\n",
       "      <td>-0.448294</td>\n",
       "      <td>-1.524444</td>\n",
       "    </tr>\n",
       "    <tr>\n",
       "      <th>1</th>\n",
       "      <td>CAATTCCTGGGAGTTAAACTTTA</td>\n",
       "      <td>A1CF</td>\n",
       "      <td>-0.114347</td>\n",
       "      <td>-0.069407</td>\n",
       "      <td>-0.091877</td>\n",
       "      <td>-0.229405</td>\n",
       "    </tr>\n",
       "    <tr>\n",
       "      <th>2</th>\n",
       "      <td>TGGCGGGCTAAATAGAATCCCTG</td>\n",
       "      <td>A2M</td>\n",
       "      <td>-0.162539</td>\n",
       "      <td>-0.290209</td>\n",
       "      <td>-0.226374</td>\n",
       "      <td>-0.718099</td>\n",
       "    </tr>\n",
       "    <tr>\n",
       "      <th>3</th>\n",
       "      <td>CCATTATGAATACTCAGCTCTGG</td>\n",
       "      <td>A2ML1</td>\n",
       "      <td>0.007065</td>\n",
       "      <td>-0.196884</td>\n",
       "      <td>-0.094910</td>\n",
       "      <td>-0.240422</td>\n",
       "    </tr>\n",
       "    <tr>\n",
       "      <th>4</th>\n",
       "      <td>AGGTGATTGGCCCCAAAAGGGTT</td>\n",
       "      <td>A3GALT2</td>\n",
       "      <td>-0.286307</td>\n",
       "      <td>-0.463526</td>\n",
       "      <td>-0.374917</td>\n",
       "      <td>-1.257828</td>\n",
       "    </tr>\n",
       "  </tbody>\n",
       "</table>\n",
       "</div>"
      ],
      "text/plain": [
       "         Construct Barcode Construct IDs  Selumetinib_repA  Selumetinib_repB  \\\n",
       "0  AGCCCCGGCACTCTCCACTTGAC  A1BG         -0.538269         -0.358319           \n",
       "1  CAATTCCTGGGAGTTAAACTTTA  A1CF         -0.114347         -0.069407           \n",
       "2  TGGCGGGCTAAATAGAATCCCTG  A2M          -0.162539         -0.290209           \n",
       "3  CCATTATGAATACTCAGCTCTGG  A2ML1         0.007065         -0.196884           \n",
       "4  AGGTGATTGGCCCCAAAAGGGTT  A3GALT2      -0.286307         -0.463526           \n",
       "\n",
       "   avg_lfc_selumetinib  z_scored_olfactory_gene  \n",
       "0 -0.448294            -1.524444                 \n",
       "1 -0.091877            -0.229405                 \n",
       "2 -0.226374            -0.718099                 \n",
       "3 -0.094910            -0.240422                 \n",
       "4 -0.374917            -1.257828                 "
      ]
     },
     "execution_count": 21,
     "metadata": {},
     "output_type": "execute_result"
    }
   ],
   "source": [
    "# Z-score in respect to the olfactory genes\n",
    "OG_lfc_df_from_dropout['z_scored_olfactory_gene'] = (OG_lfc_df_from_dropout.avg_lfc_selumetinib - olfactory_mean)/olfactory_sd\n",
    "OG_lfc_df_from_dropout.head()"
   ]
  },
  {
   "cell_type": "code",
   "execution_count": 22,
   "id": "18a33c85",
   "metadata": {},
   "outputs": [],
   "source": [
    "OG_lfc_df_from_dropout.to_csv('primary screen processed data/wide_VP64_setb_lfc_drug_effect.csv',\n",
    "                             index = False)\n"
   ]
  },
  {
   "cell_type": "markdown",
   "id": "95fcd804",
   "metadata": {},
   "source": [
    "#### Viability effect"
   ]
  },
  {
   "cell_type": "code",
   "execution_count": 23,
   "id": "5ae198b6",
   "metadata": {},
   "outputs": [],
   "source": [
    "# find the olfactory gene mean and sd\n",
    "olfactory_gene_df_via = OG_lfc_df_from_pDNA[OG_lfc_df_from_pDNA['Construct IDs'].isin(olfactory_gene)]\n",
    "olfactory_mean_via = statistics.mean(olfactory_gene_df_via.avg_lfc_untreated)\n",
    "olfactory_sd_via = statistics.stdev(olfactory_gene_df_via.avg_lfc_untreated)"
   ]
  },
  {
   "cell_type": "code",
   "execution_count": 24,
   "id": "80aae974",
   "metadata": {},
   "outputs": [
    {
     "data": {
      "text/html": [
       "<div>\n",
       "<style scoped>\n",
       "    .dataframe tbody tr th:only-of-type {\n",
       "        vertical-align: middle;\n",
       "    }\n",
       "\n",
       "    .dataframe tbody tr th {\n",
       "        vertical-align: top;\n",
       "    }\n",
       "\n",
       "    .dataframe thead th {\n",
       "        text-align: right;\n",
       "    }\n",
       "</style>\n",
       "<table border=\"1\" class=\"dataframe\">\n",
       "  <thead>\n",
       "    <tr style=\"text-align: right;\">\n",
       "      <th></th>\n",
       "      <th>Construct IDs</th>\n",
       "      <th>untreated_repA</th>\n",
       "      <th>untreated_repB</th>\n",
       "      <th>Selumetinib_repA</th>\n",
       "      <th>Selumetinib_repB</th>\n",
       "      <th>Construct Barcode</th>\n",
       "      <th>avg_lfc_untreated</th>\n",
       "      <th>z_scored_olfactory_gene</th>\n",
       "    </tr>\n",
       "  </thead>\n",
       "  <tbody>\n",
       "    <tr>\n",
       "      <th>0</th>\n",
       "      <td>A1BG</td>\n",
       "      <td>0.068798</td>\n",
       "      <td>0.022890</td>\n",
       "      <td>-0.469470</td>\n",
       "      <td>-0.335429</td>\n",
       "      <td>AGCCCCGGCACTCTCCACTTGAC</td>\n",
       "      <td>0.045844</td>\n",
       "      <td>-0.038300</td>\n",
       "    </tr>\n",
       "    <tr>\n",
       "      <th>1</th>\n",
       "      <td>A1CF</td>\n",
       "      <td>0.152777</td>\n",
       "      <td>-0.124269</td>\n",
       "      <td>0.038430</td>\n",
       "      <td>-0.193676</td>\n",
       "      <td>CAATTCCTGGGAGTTAAACTTTA</td>\n",
       "      <td>0.014254</td>\n",
       "      <td>-0.121528</td>\n",
       "    </tr>\n",
       "    <tr>\n",
       "      <th>2</th>\n",
       "      <td>A2M</td>\n",
       "      <td>0.268073</td>\n",
       "      <td>0.155263</td>\n",
       "      <td>0.105534</td>\n",
       "      <td>-0.134946</td>\n",
       "      <td>TGGCGGGCTAAATAGAATCCCTG</td>\n",
       "      <td>0.211668</td>\n",
       "      <td>0.398588</td>\n",
       "    </tr>\n",
       "    <tr>\n",
       "      <th>3</th>\n",
       "      <td>A2ML1</td>\n",
       "      <td>0.358944</td>\n",
       "      <td>0.264243</td>\n",
       "      <td>0.366008</td>\n",
       "      <td>0.067359</td>\n",
       "      <td>CCATTATGAATACTCAGCTCTGG</td>\n",
       "      <td>0.311593</td>\n",
       "      <td>0.661856</td>\n",
       "    </tr>\n",
       "    <tr>\n",
       "      <th>4</th>\n",
       "      <td>A3GALT2</td>\n",
       "      <td>0.489080</td>\n",
       "      <td>0.492562</td>\n",
       "      <td>0.202773</td>\n",
       "      <td>0.029036</td>\n",
       "      <td>AGGTGATTGGCCCCAAAAGGGTT</td>\n",
       "      <td>0.490821</td>\n",
       "      <td>1.134060</td>\n",
       "    </tr>\n",
       "  </tbody>\n",
       "</table>\n",
       "</div>"
      ],
      "text/plain": [
       "  Construct IDs  untreated_repA  untreated_repB  Selumetinib_repA  \\\n",
       "0  A1BG          0.068798        0.022890       -0.469470           \n",
       "1  A1CF          0.152777       -0.124269        0.038430           \n",
       "2  A2M           0.268073        0.155263        0.105534           \n",
       "3  A2ML1         0.358944        0.264243        0.366008           \n",
       "4  A3GALT2       0.489080        0.492562        0.202773           \n",
       "\n",
       "   Selumetinib_repB        Construct Barcode  avg_lfc_untreated  \\\n",
       "0 -0.335429          AGCCCCGGCACTCTCCACTTGAC  0.045844            \n",
       "1 -0.193676          CAATTCCTGGGAGTTAAACTTTA  0.014254            \n",
       "2 -0.134946          TGGCGGGCTAAATAGAATCCCTG  0.211668            \n",
       "3  0.067359          CCATTATGAATACTCAGCTCTGG  0.311593            \n",
       "4  0.029036          AGGTGATTGGCCCCAAAAGGGTT  0.490821            \n",
       "\n",
       "   z_scored_olfactory_gene  \n",
       "0 -0.038300                 \n",
       "1 -0.121528                 \n",
       "2  0.398588                 \n",
       "3  0.661856                 \n",
       "4  1.134060                 "
      ]
     },
     "execution_count": 24,
     "metadata": {},
     "output_type": "execute_result"
    }
   ],
   "source": [
    "# Z-score in respect to the olfactory genes\n",
    "OG_lfc_df_from_pDNA['z_scored_olfactory_gene'] = (OG_lfc_df_from_pDNA.avg_lfc_untreated - olfactory_mean_via)/olfactory_sd_via\n",
    "OG_lfc_df_from_pDNA.head()"
   ]
  },
  {
   "cell_type": "code",
   "execution_count": 25,
   "id": "f547b572",
   "metadata": {},
   "outputs": [],
   "source": [
    "OG_lfc_df_from_pDNA.to_csv('../../manuscript data/primary screen processed data/wide_VP64_setb_lfc_viability_effect.csv',\n",
    "                             index = False)\n"
   ]
  }
 ],
 "metadata": {
  "kernelspec": {
   "display_name": "Python 3 (ipykernel)",
   "language": "python",
   "name": "python3"
  },
  "language_info": {
   "codemirror_mode": {
    "name": "ipython",
    "version": 3
   },
   "file_extension": ".py",
   "mimetype": "text/x-python",
   "name": "python",
   "nbconvert_exporter": "python",
   "pygments_lexer": "ipython3",
   "version": "3.8.13"
  }
 },
 "nbformat": 4,
 "nbformat_minor": 5
}
