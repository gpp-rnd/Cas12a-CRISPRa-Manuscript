{
 "cells": [
  {
   "cell_type": "markdown",
   "id": "51598699",
   "metadata": {},
   "source": [
    "# 0 Import packages"
   ]
  },
  {
   "cell_type": "code",
   "execution_count": 1,
   "id": "166a924c",
   "metadata": {},
   "outputs": [],
   "source": [
    "import pandas as pd\n",
    "from poola import core as pool\n",
    "import seaborn as sns\n",
    "import gpplot\n",
    "import matplotlib.pyplot as plt\n",
    "import matplotlib as mpl\n",
    "import numpy as np\n",
    "import gpplot as gpp\n",
    "import function as f\n",
    "import statistics \n",
    "import scipy.stats as stats\n",
    "import researchpy as rp\n",
    "import re\n",
    "\n",
    "pd.set_option('max_colwidth', None)"
   ]
  },
  {
   "cell_type": "markdown",
   "id": "06672997",
   "metadata": {},
   "source": [
    "# 1 Import Files"
   ]
  },
  {
   "cell_type": "code",
   "execution_count": 2,
   "id": "c701d863",
   "metadata": {},
   "outputs": [],
   "source": [
    "path = ('../../manuscript data/Supplementary Data Files/')\n",
    "supp_data_3 = pd.read_excel(path + '/Supplementary Data 3.xlsx', 'Library annotation')\n",
    "supp_data_3 = supp_data_3[(supp_data_3['Design window'] == 'narrow') & (supp_data_3['Set'] == 'B')]\n",
    "\n",
    "narrow_setb_anno = pd.read_excel(path + '/Supplementary Data 3.xlsx', 'SetB;Narrow',skiprows=2, \n",
    "                                 names = ['Construct IDs',\n",
    "                                          'pDNA_Narrow_VP64_setB',\n",
    "                                          'pDNA_Narrow_p65_setB',\n",
    "                                          'Narrow_VP64_setB_untreated_repA',\n",
    "                                          'Narrow_VP64_setB_untreated_repB',\n",
    "                                          'Narrow_VP64_setB_Selumetinib_repA',\n",
    "                                          'Narrow_VP64_setB_Selumetinib_repB',\n",
    "                                          'Narrow_p65_setB_untreated_repA',\n",
    "                                          'Narrow_p65_setB_untreated_repB',\n",
    "                                          'Narrow_p65_setB_Selumetinib_repA',\n",
    "                                          'Narrow_p65_setB_Selumetinib_repB'])"
   ]
  },
  {
   "cell_type": "code",
   "execution_count": 3,
   "id": "e773470b",
   "metadata": {},
   "outputs": [],
   "source": [
    "narrow_vp64_setb = pd.merge(narrow_setb_anno[['Construct IDs',\n",
    "                                          'pDNA_Narrow_VP64_setB',\n",
    "                                          'Narrow_VP64_setB_untreated_repA',\n",
    "                                          'Narrow_VP64_setB_untreated_repB',\n",
    "                                          'Narrow_VP64_setB_Selumetinib_repA',\n",
    "                                          'Narrow_VP64_setB_Selumetinib_repB']],\n",
    "         supp_data_3[['Guide 1', 'Gene Symbol']].\n",
    "                           rename(columns={'Guide 1': 'Construct Barcode','Gene Symbol':'Construct IDs'}),\n",
    "         on = 'Construct IDs')\n",
    "         "
   ]
  },
  {
   "cell_type": "code",
   "execution_count": 4,
   "id": "4378fb3f",
   "metadata": {},
   "outputs": [
    {
     "data": {
      "text/html": [
       "<div>\n",
       "<style scoped>\n",
       "    .dataframe tbody tr th:only-of-type {\n",
       "        vertical-align: middle;\n",
       "    }\n",
       "\n",
       "    .dataframe tbody tr th {\n",
       "        vertical-align: top;\n",
       "    }\n",
       "\n",
       "    .dataframe thead th {\n",
       "        text-align: right;\n",
       "    }\n",
       "</style>\n",
       "<table border=\"1\" class=\"dataframe\">\n",
       "  <thead>\n",
       "    <tr style=\"text-align: right;\">\n",
       "      <th></th>\n",
       "      <th>Construct IDs</th>\n",
       "      <th>pDNA_Narrow_VP64_setB</th>\n",
       "      <th>Narrow_VP64_setB_untreated_repA</th>\n",
       "      <th>Narrow_VP64_setB_untreated_repB</th>\n",
       "      <th>Narrow_VP64_setB_Selumetinib_repA</th>\n",
       "      <th>Narrow_VP64_setB_Selumetinib_repB</th>\n",
       "      <th>Construct Barcode</th>\n",
       "    </tr>\n",
       "  </thead>\n",
       "  <tbody>\n",
       "    <tr>\n",
       "      <th>0</th>\n",
       "      <td>A1BG</td>\n",
       "      <td>259.0</td>\n",
       "      <td>306.0</td>\n",
       "      <td>395.0</td>\n",
       "      <td>141.0</td>\n",
       "      <td>355.0</td>\n",
       "      <td>CCCTGACCCCATGGGGGCCCTGC</td>\n",
       "    </tr>\n",
       "    <tr>\n",
       "      <th>1</th>\n",
       "      <td>A1CF</td>\n",
       "      <td>597.0</td>\n",
       "      <td>505.0</td>\n",
       "      <td>382.0</td>\n",
       "      <td>245.0</td>\n",
       "      <td>455.0</td>\n",
       "      <td>TGGGAGTTAAACTTTAACTCACC</td>\n",
       "    </tr>\n",
       "    <tr>\n",
       "      <th>2</th>\n",
       "      <td>A2M</td>\n",
       "      <td>761.0</td>\n",
       "      <td>1155.0</td>\n",
       "      <td>1011.0</td>\n",
       "      <td>557.0</td>\n",
       "      <td>1098.0</td>\n",
       "      <td>TATTTAGCCCGCCAGGAATTAAC</td>\n",
       "    </tr>\n",
       "    <tr>\n",
       "      <th>3</th>\n",
       "      <td>A2ML1</td>\n",
       "      <td>759.0</td>\n",
       "      <td>1312.0</td>\n",
       "      <td>898.0</td>\n",
       "      <td>529.0</td>\n",
       "      <td>1121.0</td>\n",
       "      <td>CAGGTGCCAGGAGGTGACTGACT</td>\n",
       "    </tr>\n",
       "    <tr>\n",
       "      <th>4</th>\n",
       "      <td>A3GALT2</td>\n",
       "      <td>569.0</td>\n",
       "      <td>709.0</td>\n",
       "      <td>705.0</td>\n",
       "      <td>436.0</td>\n",
       "      <td>744.0</td>\n",
       "      <td>TCGCAGGCAGTCCATCCTGACTG</td>\n",
       "    </tr>\n",
       "  </tbody>\n",
       "</table>\n",
       "</div>"
      ],
      "text/plain": [
       "  Construct IDs  pDNA_Narrow_VP64_setB  Narrow_VP64_setB_untreated_repA  \\\n",
       "0          A1BG                  259.0                            306.0   \n",
       "1          A1CF                  597.0                            505.0   \n",
       "2           A2M                  761.0                           1155.0   \n",
       "3         A2ML1                  759.0                           1312.0   \n",
       "4       A3GALT2                  569.0                            709.0   \n",
       "\n",
       "   Narrow_VP64_setB_untreated_repB  Narrow_VP64_setB_Selumetinib_repA  \\\n",
       "0                            395.0                              141.0   \n",
       "1                            382.0                              245.0   \n",
       "2                           1011.0                              557.0   \n",
       "3                            898.0                              529.0   \n",
       "4                            705.0                              436.0   \n",
       "\n",
       "   Narrow_VP64_setB_Selumetinib_repB        Construct Barcode  \n",
       "0                              355.0  CCCTGACCCCATGGGGGCCCTGC  \n",
       "1                              455.0  TGGGAGTTAAACTTTAACTCACC  \n",
       "2                             1098.0  TATTTAGCCCGCCAGGAATTAAC  \n",
       "3                             1121.0  CAGGTGCCAGGAGGTGACTGACT  \n",
       "4                              744.0  TCGCAGGCAGTCCATCCTGACTG  "
      ]
     },
     "execution_count": 4,
     "metadata": {},
     "output_type": "execute_result"
    }
   ],
   "source": [
    "narrow_vp64_setb.head()"
   ]
  },
  {
   "cell_type": "markdown",
   "id": "d2bbcf2f",
   "metadata": {},
   "source": [
    "# 2 Find Olfactory Genes"
   ]
  },
  {
   "cell_type": "code",
   "execution_count": 5,
   "id": "8db4b6d8",
   "metadata": {},
   "outputs": [],
   "source": [
    "\n",
    "olfactory_gene = [gene for gene in narrow_vp64_setb['Construct IDs'].tolist() if gene.startswith('OR')]\n",
    "# A nomenclature system has been devised for the olfactory receptor family[33] and is the basis for the official Human Genome Project (HUGO) symbols for the genes that encode these receptors. The names of individual olfactory receptor family members are in the format \"ORnXm\" where:\n",
    "\n",
    "# OR is the root name (Olfactory Receptor superfamily)\n",
    "# n = an integer representing a family (e.g., 1-56) whose members have greater than 40% sequence identity,\n",
    "# X = a single letter (A, B, C, ...) denoting a subfamily (>60% sequence identity), and\n",
    "# m = an integer representing an individual family member (isoform).\n",
    "# checked X could be mutiple letters\n",
    "\n",
    "ofg_l = []\n",
    "no_ofg_l = []\n",
    "for ofg in olfactory_gene:\n",
    "    match = re.search('^OR\\d{1,2}[A-Z]{1,2}[0-9]?[0-9]', ofg)\n",
    "    if match:\n",
    "        ofg_l.append(ofg)\n",
    "    else:\n",
    "        no_ofg_l.append(ofg)\n",
    "        \n",
    "\n",
    "\n",
    "olfactory_gene = ofg_l\n"
   ]
  },
  {
   "cell_type": "markdown",
   "id": "1e4bca7f",
   "metadata": {},
   "source": [
    "# 3 Calculate LFC "
   ]
  },
  {
   "cell_type": "code",
   "execution_count": 6,
   "id": "7dd9a77c",
   "metadata": {},
   "outputs": [],
   "source": [
    "OG_read_counts = narrow_vp64_setb"
   ]
  },
  {
   "cell_type": "code",
   "execution_count": 7,
   "id": "52454822",
   "metadata": {},
   "outputs": [],
   "source": [
    "OG_read_counts.rename(columns = {'pDNA_Narrow_VP64_setB':\"pDNA\", \n",
    "                                 'Narrow_VP64_setB_untreated_repA':\"untreated_repA\",\n",
    "                                 'Narrow_VP64_setB_untreated_repB':\"untreated_repB\", \n",
    "                                 'Narrow_VP64_setB_Selumetinib_repA':\"Selumetinib_repA\",\n",
    "                                 'Narrow_VP64_setB_Selumetinib_repB':\"Selumetinib_repB\"\n",
    "                                }, inplace= True)\n"
   ]
  },
  {
   "cell_type": "code",
   "execution_count": 8,
   "id": "a2826445",
   "metadata": {},
   "outputs": [
    {
     "data": {
      "text/html": [
       "<div>\n",
       "<style scoped>\n",
       "    .dataframe tbody tr th:only-of-type {\n",
       "        vertical-align: middle;\n",
       "    }\n",
       "\n",
       "    .dataframe tbody tr th {\n",
       "        vertical-align: top;\n",
       "    }\n",
       "\n",
       "    .dataframe thead th {\n",
       "        text-align: right;\n",
       "    }\n",
       "</style>\n",
       "<table border=\"1\" class=\"dataframe\">\n",
       "  <thead>\n",
       "    <tr style=\"text-align: right;\">\n",
       "      <th></th>\n",
       "      <th>Construct IDs</th>\n",
       "      <th>pDNA</th>\n",
       "      <th>untreated_repA</th>\n",
       "      <th>untreated_repB</th>\n",
       "      <th>Selumetinib_repA</th>\n",
       "      <th>Selumetinib_repB</th>\n",
       "      <th>Construct Barcode</th>\n",
       "    </tr>\n",
       "  </thead>\n",
       "  <tbody>\n",
       "    <tr>\n",
       "      <th>0</th>\n",
       "      <td>A1BG</td>\n",
       "      <td>259.0</td>\n",
       "      <td>306.0</td>\n",
       "      <td>395.0</td>\n",
       "      <td>141.0</td>\n",
       "      <td>355.0</td>\n",
       "      <td>CCCTGACCCCATGGGGGCCCTGC</td>\n",
       "    </tr>\n",
       "    <tr>\n",
       "      <th>1</th>\n",
       "      <td>A1CF</td>\n",
       "      <td>597.0</td>\n",
       "      <td>505.0</td>\n",
       "      <td>382.0</td>\n",
       "      <td>245.0</td>\n",
       "      <td>455.0</td>\n",
       "      <td>TGGGAGTTAAACTTTAACTCACC</td>\n",
       "    </tr>\n",
       "    <tr>\n",
       "      <th>2</th>\n",
       "      <td>A2M</td>\n",
       "      <td>761.0</td>\n",
       "      <td>1155.0</td>\n",
       "      <td>1011.0</td>\n",
       "      <td>557.0</td>\n",
       "      <td>1098.0</td>\n",
       "      <td>TATTTAGCCCGCCAGGAATTAAC</td>\n",
       "    </tr>\n",
       "    <tr>\n",
       "      <th>3</th>\n",
       "      <td>A2ML1</td>\n",
       "      <td>759.0</td>\n",
       "      <td>1312.0</td>\n",
       "      <td>898.0</td>\n",
       "      <td>529.0</td>\n",
       "      <td>1121.0</td>\n",
       "      <td>CAGGTGCCAGGAGGTGACTGACT</td>\n",
       "    </tr>\n",
       "    <tr>\n",
       "      <th>4</th>\n",
       "      <td>A3GALT2</td>\n",
       "      <td>569.0</td>\n",
       "      <td>709.0</td>\n",
       "      <td>705.0</td>\n",
       "      <td>436.0</td>\n",
       "      <td>744.0</td>\n",
       "      <td>TCGCAGGCAGTCCATCCTGACTG</td>\n",
       "    </tr>\n",
       "  </tbody>\n",
       "</table>\n",
       "</div>"
      ],
      "text/plain": [
       "  Construct IDs   pDNA  untreated_repA  untreated_repB  Selumetinib_repA  \\\n",
       "0          A1BG  259.0           306.0           395.0             141.0   \n",
       "1          A1CF  597.0           505.0           382.0             245.0   \n",
       "2           A2M  761.0          1155.0          1011.0             557.0   \n",
       "3         A2ML1  759.0          1312.0           898.0             529.0   \n",
       "4       A3GALT2  569.0           709.0           705.0             436.0   \n",
       "\n",
       "   Selumetinib_repB        Construct Barcode  \n",
       "0             355.0  CCCTGACCCCATGGGGGCCCTGC  \n",
       "1             455.0  TGGGAGTTAAACTTTAACTCACC  \n",
       "2            1098.0  TATTTAGCCCGCCAGGAATTAAC  \n",
       "3            1121.0  CAGGTGCCAGGAGGTGACTGACT  \n",
       "4             744.0  TCGCAGGCAGTCCATCCTGACTG  "
      ]
     },
     "execution_count": 8,
     "metadata": {},
     "output_type": "execute_result"
    }
   ],
   "source": [
    "OG_read_counts.head()"
   ]
  },
  {
   "cell_type": "code",
   "execution_count": 9,
   "id": "b76194c4",
   "metadata": {},
   "outputs": [],
   "source": [
    "#calculating lognorms\n",
    "OG_lognorms = pool.lognorm_columns(reads_df=OG_read_counts, columns=['pDNA', 'untreated_repA',\n",
    "                                                                     'untreated_repB','Selumetinib_repA',\n",
    "                                                                     'Selumetinib_repB'])\n"
   ]
  },
  {
   "cell_type": "code",
   "execution_count": 10,
   "id": "5aa48b00",
   "metadata": {},
   "outputs": [
    {
     "data": {
      "text/html": [
       "<div>\n",
       "<style scoped>\n",
       "    .dataframe tbody tr th:only-of-type {\n",
       "        vertical-align: middle;\n",
       "    }\n",
       "\n",
       "    .dataframe tbody tr th {\n",
       "        vertical-align: top;\n",
       "    }\n",
       "\n",
       "    .dataframe thead th {\n",
       "        text-align: right;\n",
       "    }\n",
       "</style>\n",
       "<table border=\"1\" class=\"dataframe\">\n",
       "  <thead>\n",
       "    <tr style=\"text-align: right;\">\n",
       "      <th></th>\n",
       "      <th>Construct IDs</th>\n",
       "      <th>pDNA</th>\n",
       "      <th>untreated_repA</th>\n",
       "      <th>untreated_repB</th>\n",
       "      <th>Selumetinib_repA</th>\n",
       "      <th>Selumetinib_repB</th>\n",
       "      <th>Construct Barcode</th>\n",
       "    </tr>\n",
       "  </thead>\n",
       "  <tbody>\n",
       "    <tr>\n",
       "      <th>0</th>\n",
       "      <td>A1BG</td>\n",
       "      <td>4.971563</td>\n",
       "      <td>4.823025</td>\n",
       "      <td>5.565050</td>\n",
       "      <td>4.813999</td>\n",
       "      <td>5.186710</td>\n",
       "      <td>CCCTGACCCCATGGGGGCCCTGC</td>\n",
       "    </tr>\n",
       "    <tr>\n",
       "      <th>1</th>\n",
       "      <td>A1CF</td>\n",
       "      <td>6.150071</td>\n",
       "      <td>5.525552</td>\n",
       "      <td>5.517807</td>\n",
       "      <td>5.589148</td>\n",
       "      <td>5.536025</td>\n",
       "      <td>TGGGAGTTAAACTTTAACTCACC</td>\n",
       "    </tr>\n",
       "    <tr>\n",
       "      <th>2</th>\n",
       "      <td>A2M</td>\n",
       "      <td>6.495852</td>\n",
       "      <td>6.701355</td>\n",
       "      <td>6.902220</td>\n",
       "      <td>6.757159</td>\n",
       "      <td>6.788640</td>\n",
       "      <td>TATTTAGCCCGCCAGGAATTAAC</td>\n",
       "    </tr>\n",
       "    <tr>\n",
       "      <th>3</th>\n",
       "      <td>A2ML1</td>\n",
       "      <td>6.492097</td>\n",
       "      <td>6.883570</td>\n",
       "      <td>6.732741</td>\n",
       "      <td>6.683455</td>\n",
       "      <td>6.818281</td>\n",
       "      <td>CAGGTGCCAGGAGGTGACTGACT</td>\n",
       "    </tr>\n",
       "    <tr>\n",
       "      <th>4</th>\n",
       "      <td>A3GALT2</td>\n",
       "      <td>6.081768</td>\n",
       "      <td>6.006014</td>\n",
       "      <td>6.387358</td>\n",
       "      <td>6.407506</td>\n",
       "      <td>6.233333</td>\n",
       "      <td>TCGCAGGCAGTCCATCCTGACTG</td>\n",
       "    </tr>\n",
       "  </tbody>\n",
       "</table>\n",
       "</div>"
      ],
      "text/plain": [
       "  Construct IDs      pDNA  untreated_repA  untreated_repB  Selumetinib_repA  \\\n",
       "0          A1BG  4.971563        4.823025        5.565050          4.813999   \n",
       "1          A1CF  6.150071        5.525552        5.517807          5.589148   \n",
       "2           A2M  6.495852        6.701355        6.902220          6.757159   \n",
       "3         A2ML1  6.492097        6.883570        6.732741          6.683455   \n",
       "4       A3GALT2  6.081768        6.006014        6.387358          6.407506   \n",
       "\n",
       "   Selumetinib_repB        Construct Barcode  \n",
       "0          5.186710  CCCTGACCCCATGGGGGCCCTGC  \n",
       "1          5.536025  TGGGAGTTAAACTTTAACTCACC  \n",
       "2          6.788640  TATTTAGCCCGCCAGGAATTAAC  \n",
       "3          6.818281  CAGGTGCCAGGAGGTGACTGACT  \n",
       "4          6.233333  TCGCAGGCAGTCCATCCTGACTG  "
      ]
     },
     "execution_count": 10,
     "metadata": {},
     "output_type": "execute_result"
    }
   ],
   "source": [
    "OG_lognorms.head()"
   ]
  },
  {
   "cell_type": "code",
   "execution_count": 11,
   "id": "37f9d311",
   "metadata": {},
   "outputs": [
    {
     "name": "stdout",
     "output_type": "stream",
     "text": [
      "Filtered 206 rows due to low pDNA abundance\n"
     ]
    }
   ],
   "source": [
    "# remove pDNA with low abundance\n",
    "OG_filtered_lognorms = pool.filter_pdna(lognorm_df=OG_lognorms, pdna_cols=['pDNA'], z_low=-3)\n",
    "print('Filtered ' + str(OG_lognorms.shape[0] - OG_filtered_lognorms.shape[0]) + ' rows due to low pDNA abundance')"
   ]
  },
  {
   "cell_type": "markdown",
   "id": "8cfc676f",
   "metadata": {},
   "source": [
    "### Dropout - pdna (viability effect)"
   ]
  },
  {
   "cell_type": "code",
   "execution_count": 12,
   "id": "33513779",
   "metadata": {},
   "outputs": [],
   "source": [
    "#calculating lfc from pDNA\n",
    "OG_lfc_df_from_pDNA = pool.calculate_lfcs(lognorm_df=OG_filtered_lognorms, ref_col='pDNA', \n",
    "                             target_cols=['untreated_repA','untreated_repB','Selumetinib_repA',\n",
    "                                                                     'Selumetinib_repB'])"
   ]
  },
  {
   "cell_type": "code",
   "execution_count": 13,
   "id": "08c28b1f",
   "metadata": {},
   "outputs": [],
   "source": [
    "#calculating avg lfc for untreated samples\n",
    "OG_lfc_df_from_pDNA['avg_lfc_untreated'] = OG_lfc_df_from_pDNA[['untreated_repA', 'untreated_repB']].mean(axis=1)"
   ]
  },
  {
   "cell_type": "code",
   "execution_count": 14,
   "id": "75163734",
   "metadata": {},
   "outputs": [
    {
     "data": {
      "text/plain": [
       "Text(0.5, 1.0, 'Narrow VP64 setB: Viability effect')"
      ]
     },
     "execution_count": 14,
     "metadata": {},
     "output_type": "execute_result"
    },
    {
     "data": {
      "image/png": "[encoded data removed]",
      "text/plain": [
       "<Figure size 288x288 with 1 Axes>"
      ]
     },
     "metadata": {
      "needs_background": "light"
     },
     "output_type": "display_data"
    }
   ],
   "source": [
    "#plotting dropout replicate correlations (lfc from pDNA)\n",
    "plt.subplots(figsize=(4,4))\n",
    "gpplot.point_densityplot(data=OG_lfc_df_from_pDNA, x='untreated_repA', y='untreated_repB')\n",
    "gpplot.add_correlation(data=OG_lfc_df_from_pDNA, x='untreated_repA', y='untreated_repB')\n",
    "sns.despine()\n",
    "plt.xlabel('untreated repA LFC')\n",
    "plt.ylabel('untreated repB LFC')\n",
    "plt.title('Narrow VP64 setB: Viability effect')\n"
   ]
  },
  {
   "cell_type": "markdown",
   "id": "f2f040b5",
   "metadata": {},
   "source": [
    "### Selumetinib - Dropout \n"
   ]
  },
  {
   "cell_type": "code",
   "execution_count": 15,
   "id": "734affeb",
   "metadata": {},
   "outputs": [],
   "source": [
    "OG_filtered_lognorms_repA = OG_filtered_lognorms[['Construct Barcode', 'Construct IDs','Selumetinib_repA','untreated_repA']]\n",
    "OG_filtered_lognorms_repB = OG_filtered_lognorms[['Construct Barcode', 'Construct IDs','Selumetinib_repB','untreated_repB']]"
   ]
  },
  {
   "cell_type": "code",
   "execution_count": 16,
   "id": "72f0d7c6",
   "metadata": {},
   "outputs": [],
   "source": [
    "#calculating lfc from dropout\n",
    "OG_lfc_df_from_dropout_repA = pool.calculate_lfcs(lognorm_df=OG_filtered_lognorms_repA, ref_col='untreated_repA', \n",
    "                             target_cols=['Selumetinib_repA'])"
   ]
  },
  {
   "cell_type": "code",
   "execution_count": 17,
   "id": "4dd462d5",
   "metadata": {},
   "outputs": [],
   "source": [
    "OG_lfc_df_from_dropout_repB = pool.calculate_lfcs(lognorm_df=OG_filtered_lognorms_repB, ref_col='untreated_repB', \n",
    "                             target_cols=['Selumetinib_repB'])"
   ]
  },
  {
   "cell_type": "code",
   "execution_count": 18,
   "id": "d8e9d953",
   "metadata": {},
   "outputs": [],
   "source": [
    "OG_lfc_df_from_dropout = pd.merge(OG_lfc_df_from_dropout_repA, OG_lfc_df_from_dropout_repB)\n",
    "#calculating avg lfc for selumetinib samples\n",
    "OG_lfc_df_from_dropout['avg_lfc_selumetinib'] = OG_lfc_df_from_dropout[['Selumetinib_repA', 'Selumetinib_repB']].mean(axis=1)"
   ]
  },
  {
   "cell_type": "code",
   "execution_count": 19,
   "id": "f1539af4",
   "metadata": {},
   "outputs": [
    {
     "data": {
      "text/plain": [
       "Text(0.5, 1.0, 'Narrow VP64 setB: Drug effect')"
      ]
     },
     "execution_count": 19,
     "metadata": {},
     "output_type": "execute_result"
    },
    {
     "data": {
      "image/png": "[encoded data removed]",
      "text/plain": [
       "<Figure size 288x288 with 1 Axes>"
      ]
     },
     "metadata": {
      "needs_background": "light"
     },
     "output_type": "display_data"
    }
   ],
   "source": [
    "plt.subplots(figsize=(4,4))\n",
    "gpplot.point_densityplot(data=OG_lfc_df_from_dropout, x='Selumetinib_repA', y='Selumetinib_repB')\n",
    "gpplot.add_correlation(data=OG_lfc_df_from_dropout, x='Selumetinib_repA', y='Selumetinib_repB')\n",
    "sns.despine()\n",
    "plt.xlabel('Selumetinib repA LFC')\n",
    "plt.ylabel('Selumetinib repB LFC')\n",
    "plt.title('Narrow VP64 setB: Drug effect')\n"
   ]
  },
  {
   "cell_type": "markdown",
   "id": "23700b65",
   "metadata": {},
   "source": [
    "# 4 Calculate Z-scores"
   ]
  },
  {
   "cell_type": "markdown",
   "id": "ecd5891f",
   "metadata": {},
   "source": [
    "#### Drug Screens"
   ]
  },
  {
   "cell_type": "code",
   "execution_count": 20,
   "id": "7d901956",
   "metadata": {},
   "outputs": [],
   "source": [
    "# find the olfactory gene mean and sd\n",
    "olfactory_gene_df = OG_lfc_df_from_dropout[OG_lfc_df_from_dropout['Construct IDs'].isin(olfactory_gene)]\n",
    "olfactory_mean = statistics.mean(olfactory_gene_df.avg_lfc_selumetinib)\n",
    "olfactory_sd = statistics.stdev(olfactory_gene_df.avg_lfc_selumetinib)"
   ]
  },
  {
   "cell_type": "code",
   "execution_count": 21,
   "id": "7d8157b0",
   "metadata": {},
   "outputs": [
    {
     "data": {
      "text/html": [
       "<div>\n",
       "<style scoped>\n",
       "    .dataframe tbody tr th:only-of-type {\n",
       "        vertical-align: middle;\n",
       "    }\n",
       "\n",
       "    .dataframe tbody tr th {\n",
       "        vertical-align: top;\n",
       "    }\n",
       "\n",
       "    .dataframe thead th {\n",
       "        text-align: right;\n",
       "    }\n",
       "</style>\n",
       "<table border=\"1\" class=\"dataframe\">\n",
       "  <thead>\n",
       "    <tr style=\"text-align: right;\">\n",
       "      <th></th>\n",
       "      <th>Construct Barcode</th>\n",
       "      <th>Construct IDs</th>\n",
       "      <th>Selumetinib_repA</th>\n",
       "      <th>Selumetinib_repB</th>\n",
       "      <th>avg_lfc_selumetinib</th>\n",
       "      <th>z_scored_olfactory_gene</th>\n",
       "    </tr>\n",
       "  </thead>\n",
       "  <tbody>\n",
       "    <tr>\n",
       "      <th>0</th>\n",
       "      <td>CCCTGACCCCATGGGGGCCCTGC</td>\n",
       "      <td>A1BG</td>\n",
       "      <td>-0.009026</td>\n",
       "      <td>-0.378340</td>\n",
       "      <td>-0.193683</td>\n",
       "      <td>-0.600894</td>\n",
       "    </tr>\n",
       "    <tr>\n",
       "      <th>1</th>\n",
       "      <td>TGGGAGTTAAACTTTAACTCACC</td>\n",
       "      <td>A1CF</td>\n",
       "      <td>0.063597</td>\n",
       "      <td>0.018219</td>\n",
       "      <td>0.040908</td>\n",
       "      <td>0.358597</td>\n",
       "    </tr>\n",
       "    <tr>\n",
       "      <th>2</th>\n",
       "      <td>TATTTAGCCCGCCAGGAATTAAC</td>\n",
       "      <td>A2M</td>\n",
       "      <td>0.055804</td>\n",
       "      <td>-0.113580</td>\n",
       "      <td>-0.028888</td>\n",
       "      <td>0.073128</td>\n",
       "    </tr>\n",
       "    <tr>\n",
       "      <th>3</th>\n",
       "      <td>CAGGTGCCAGGAGGTGACTGACT</td>\n",
       "      <td>A2ML1</td>\n",
       "      <td>-0.200115</td>\n",
       "      <td>0.085540</td>\n",
       "      <td>-0.057288</td>\n",
       "      <td>-0.043029</td>\n",
       "    </tr>\n",
       "    <tr>\n",
       "      <th>4</th>\n",
       "      <td>TCGCAGGCAGTCCATCCTGACTG</td>\n",
       "      <td>A3GALT2</td>\n",
       "      <td>0.401492</td>\n",
       "      <td>-0.154025</td>\n",
       "      <td>0.123733</td>\n",
       "      <td>0.697358</td>\n",
       "    </tr>\n",
       "  </tbody>\n",
       "</table>\n",
       "</div>"
      ],
      "text/plain": [
       "         Construct Barcode Construct IDs  Selumetinib_repA  Selumetinib_repB  \\\n",
       "0  CCCTGACCCCATGGGGGCCCTGC          A1BG         -0.009026         -0.378340   \n",
       "1  TGGGAGTTAAACTTTAACTCACC          A1CF          0.063597          0.018219   \n",
       "2  TATTTAGCCCGCCAGGAATTAAC           A2M          0.055804         -0.113580   \n",
       "3  CAGGTGCCAGGAGGTGACTGACT         A2ML1         -0.200115          0.085540   \n",
       "4  TCGCAGGCAGTCCATCCTGACTG       A3GALT2          0.401492         -0.154025   \n",
       "\n",
       "   avg_lfc_selumetinib  z_scored_olfactory_gene  \n",
       "0            -0.193683                -0.600894  \n",
       "1             0.040908                 0.358597  \n",
       "2            -0.028888                 0.073128  \n",
       "3            -0.057288                -0.043029  \n",
       "4             0.123733                 0.697358  "
      ]
     },
     "execution_count": 21,
     "metadata": {},
     "output_type": "execute_result"
    }
   ],
   "source": [
    "# Z-score in respect to the olfactory genes\n",
    "OG_lfc_df_from_dropout['z_scored_olfactory_gene'] = (OG_lfc_df_from_dropout.avg_lfc_selumetinib - olfactory_mean)/olfactory_sd\n",
    "OG_lfc_df_from_dropout.head()"
   ]
  },
  {
   "cell_type": "code",
   "execution_count": 22,
   "id": "18a33c85",
   "metadata": {},
   "outputs": [],
   "source": [
    "OG_lfc_df_from_dropout.to_csv('primary screen processed data/narrow_VP64_setb_lfc_drug_effect.csv',\n",
    "                             index = False)\n"
   ]
  },
  {
   "cell_type": "markdown",
   "id": "95fcd804",
   "metadata": {},
   "source": [
    "#### Viability effect"
   ]
  },
  {
   "cell_type": "code",
   "execution_count": 23,
   "id": "5ae198b6",
   "metadata": {},
   "outputs": [],
   "source": [
    "# find the olfactory gene mean and sd\n",
    "olfactory_gene_df_via = OG_lfc_df_from_pDNA[OG_lfc_df_from_pDNA['Construct IDs'].isin(olfactory_gene)]\n",
    "olfactory_mean_via = statistics.mean(olfactory_gene_df_via.avg_lfc_untreated)\n",
    "olfactory_sd_via = statistics.stdev(olfactory_gene_df_via.avg_lfc_untreated)"
   ]
  },
  {
   "cell_type": "code",
   "execution_count": 24,
   "id": "80aae974",
   "metadata": {},
   "outputs": [
    {
     "data": {
      "text/html": [
       "<div>\n",
       "<style scoped>\n",
       "    .dataframe tbody tr th:only-of-type {\n",
       "        vertical-align: middle;\n",
       "    }\n",
       "\n",
       "    .dataframe tbody tr th {\n",
       "        vertical-align: top;\n",
       "    }\n",
       "\n",
       "    .dataframe thead th {\n",
       "        text-align: right;\n",
       "    }\n",
       "</style>\n",
       "<table border=\"1\" class=\"dataframe\">\n",
       "  <thead>\n",
       "    <tr style=\"text-align: right;\">\n",
       "      <th></th>\n",
       "      <th>Construct IDs</th>\n",
       "      <th>untreated_repA</th>\n",
       "      <th>untreated_repB</th>\n",
       "      <th>Selumetinib_repA</th>\n",
       "      <th>Selumetinib_repB</th>\n",
       "      <th>Construct Barcode</th>\n",
       "      <th>avg_lfc_untreated</th>\n",
       "      <th>z_scored_olfactory_gene</th>\n",
       "    </tr>\n",
       "  </thead>\n",
       "  <tbody>\n",
       "    <tr>\n",
       "      <th>0</th>\n",
       "      <td>A1BG</td>\n",
       "      <td>-0.148538</td>\n",
       "      <td>0.593487</td>\n",
       "      <td>-0.157564</td>\n",
       "      <td>0.215147</td>\n",
       "      <td>CCCTGACCCCATGGGGGCCCTGC</td>\n",
       "      <td>0.222475</td>\n",
       "      <td>0.757587</td>\n",
       "    </tr>\n",
       "    <tr>\n",
       "      <th>1</th>\n",
       "      <td>A1CF</td>\n",
       "      <td>-0.624519</td>\n",
       "      <td>-0.632264</td>\n",
       "      <td>-0.560923</td>\n",
       "      <td>-0.614046</td>\n",
       "      <td>TGGGAGTTAAACTTTAACTCACC</td>\n",
       "      <td>-0.628392</td>\n",
       "      <td>-1.744940</td>\n",
       "    </tr>\n",
       "    <tr>\n",
       "      <th>2</th>\n",
       "      <td>A2M</td>\n",
       "      <td>0.205503</td>\n",
       "      <td>0.406368</td>\n",
       "      <td>0.261307</td>\n",
       "      <td>0.292789</td>\n",
       "      <td>TATTTAGCCCGCCAGGAATTAAC</td>\n",
       "      <td>0.305936</td>\n",
       "      <td>1.003059</td>\n",
       "    </tr>\n",
       "    <tr>\n",
       "      <th>3</th>\n",
       "      <td>A2ML1</td>\n",
       "      <td>0.391472</td>\n",
       "      <td>0.240644</td>\n",
       "      <td>0.191357</td>\n",
       "      <td>0.326184</td>\n",
       "      <td>CAGGTGCCAGGAGGTGACTGACT</td>\n",
       "      <td>0.316058</td>\n",
       "      <td>1.032831</td>\n",
       "    </tr>\n",
       "    <tr>\n",
       "      <th>4</th>\n",
       "      <td>A3GALT2</td>\n",
       "      <td>-0.075754</td>\n",
       "      <td>0.305590</td>\n",
       "      <td>0.325738</td>\n",
       "      <td>0.151565</td>\n",
       "      <td>TCGCAGGCAGTCCATCCTGACTG</td>\n",
       "      <td>0.114918</td>\n",
       "      <td>0.441247</td>\n",
       "    </tr>\n",
       "  </tbody>\n",
       "</table>\n",
       "</div>"
      ],
      "text/plain": [
       "  Construct IDs  untreated_repA  untreated_repB  Selumetinib_repA  \\\n",
       "0          A1BG       -0.148538        0.593487         -0.157564   \n",
       "1          A1CF       -0.624519       -0.632264         -0.560923   \n",
       "2           A2M        0.205503        0.406368          0.261307   \n",
       "3         A2ML1        0.391472        0.240644          0.191357   \n",
       "4       A3GALT2       -0.075754        0.305590          0.325738   \n",
       "\n",
       "   Selumetinib_repB        Construct Barcode  avg_lfc_untreated  \\\n",
       "0          0.215147  CCCTGACCCCATGGGGGCCCTGC           0.222475   \n",
       "1         -0.614046  TGGGAGTTAAACTTTAACTCACC          -0.628392   \n",
       "2          0.292789  TATTTAGCCCGCCAGGAATTAAC           0.305936   \n",
       "3          0.326184  CAGGTGCCAGGAGGTGACTGACT           0.316058   \n",
       "4          0.151565  TCGCAGGCAGTCCATCCTGACTG           0.114918   \n",
       "\n",
       "   z_scored_olfactory_gene  \n",
       "0                 0.757587  \n",
       "1                -1.744940  \n",
       "2                 1.003059  \n",
       "3                 1.032831  \n",
       "4                 0.441247  "
      ]
     },
     "execution_count": 24,
     "metadata": {},
     "output_type": "execute_result"
    }
   ],
   "source": [
    "# Z-score in respect to the olfactory genes\n",
    "OG_lfc_df_from_pDNA['z_scored_olfactory_gene'] = (OG_lfc_df_from_pDNA.avg_lfc_untreated - olfactory_mean_via)/olfactory_sd_via\n",
    "OG_lfc_df_from_pDNA.head()"
   ]
  },
  {
   "cell_type": "code",
   "execution_count": 25,
   "id": "f547b572",
   "metadata": {},
   "outputs": [],
   "source": [
    "OG_lfc_df_from_pDNA.to_csv('../../manuscript data/primary screen processed data/narrow_VP64_setb_lfc_viability_effect.csv',\n",
    "                             index = False)\n"
   ]
  }
 ],
 "metadata": {
  "kernelspec": {
   "display_name": "Python 3 (ipykernel)",
   "language": "python",
   "name": "python3"
  },
  "language_info": {
   "codemirror_mode": {
    "name": "ipython",
    "version": 3
   },
   "file_extension": ".py",
   "mimetype": "text/x-python",
   "name": "python",
   "nbconvert_exporter": "python",
   "pygments_lexer": "ipython3",
   "version": "3.8.13"
  }
 },
 "nbformat": 4,
 "nbformat_minor": 5
}
