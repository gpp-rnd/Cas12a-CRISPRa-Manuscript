{
 "cells": [
  {
   "cell_type": "code",
   "execution_count": 1,
   "id": "c454a581",
   "metadata": {},
   "outputs": [],
   "source": [
    "import pandas as pd\n",
    "import function as f\n",
    "from functools import reduce\n",
    "import seaborn as sns\n",
    "import matplotlib.pyplot as plt\n",
    "import warnings\n",
    "import gpplot as gpp\n",
    "import statistics \n",
    "import numpy as np\n",
    "from poola import core as pool\n",
    "from statsmodels.stats.multitest import multipletests\n",
    "from scipy import stats\n",
    "import regex as re\n",
    "import math \n",
    "import scipy as sp\n",
    "\n",
    "warnings.filterwarnings(\"ignore\")\n"
   ]
  },
  {
   "cell_type": "code",
   "execution_count": 2,
   "id": "8ccd0d13",
   "metadata": {},
   "outputs": [],
   "source": [
    "\n",
    "def generate_olfactory_gene(df, gene_col):\n",
    "    olfactory_gene = [gene for gene in df[gene_col].tolist() if gene.startswith('OR')]\n",
    "    ofg_l = []\n",
    "    no_ofg_l = []\n",
    "    for ofg in olfactory_gene:\n",
    "        match = re.search('^OR\\d{1,2}[A-Z]{1,2}[0-9]?[0-9]', ofg)\n",
    "        if match:\n",
    "            ofg_l.append(ofg)\n",
    "        else:\n",
    "            no_ofg_l.append(ofg)\n",
    "    return(ofg_l)"
   ]
  },
  {
   "cell_type": "markdown",
   "id": "aa1cb4f0",
   "metadata": {},
   "source": [
    "# Drug Effect"
   ]
  },
  {
   "cell_type": "code",
   "execution_count": 3,
   "id": "05ff29ae",
   "metadata": {},
   "outputs": [],
   "source": [
    "narrow_vp64_seta = pd.read_csv('../../manuscript data/primary screen processed data/narrow_vp64_seta_lfc_drug_effect.csv')\n",
    "narrow_vp64_setb = pd.read_csv('../../manuscript data/primary screen processed data/narrow_vp64_setb_lfc_drug_effect.csv')\n",
    "wide_vp64_seta = pd.read_csv('../../manuscript data/primary screen processed data/wide_vp64_seta_lfc_drug_effect.csv')\n",
    "wide_vp64_setb = pd.read_csv('../../manuscript data/primary screen processed data/wide_vp64_setb_lfc_drug_effect.csv')\n",
    "\n",
    "narrow_p65_seta = pd.read_csv('../../manuscript data/primary screen processed data/narrow_p65_seta_lfc_drug_effect.csv')\n",
    "narrow_p65_setb = pd.read_csv('../../manuscript data/primary screen processed data/narrow_p65_setb_lfc_drug_effect.csv')\n",
    "wide_p65_seta = pd.read_csv('../../manuscript data/primary screen processed data/wide_p65_seta_lfc_drug_effect.csv')\n",
    "wide_p65_setb = pd.read_csv('../../manuscript dataprimary screen processed data/wide_p65_setb_lfc_drug_effect.csv')"
   ]
  },
  {
   "cell_type": "code",
   "execution_count": 4,
   "id": "f8d03473",
   "metadata": {},
   "outputs": [],
   "source": [
    "path = ('../../manuscript data/Supplementary Data Files/')\n",
    "supp_data_3 = pd.read_excel(path + '/Supplementary Data 3.xlsx', 'Library annotation')"
   ]
  },
  {
   "cell_type": "code",
   "execution_count": 5,
   "id": "64c071c0",
   "metadata": {},
   "outputs": [],
   "source": [
    "oligo_wide_setA = supp_data_3[(supp_data_3['Design window'] == 'wide') & (supp_data_3['Set'] == 'A')]\n",
    "oligo_wide_setB = supp_data_3[(supp_data_3['Design window'] == 'wide') & (supp_data_3['Set'] == 'B')]\n",
    "oligo_narrow_setA = supp_data_3[(supp_data_3['Design window'] == 'narrow') & (supp_data_3['Set'] == 'A')]\n",
    "oligo_narrow_setB = supp_data_3[(supp_data_3['Design window'] == 'narrow') & (supp_data_3['Set'] == 'B')]"
   ]
  },
  {
   "cell_type": "code",
   "execution_count": 6,
   "id": "5aada903",
   "metadata": {},
   "outputs": [],
   "source": [
    "cols = ['Construct Barcode', 'Construct IDs', 'z_scored_olfactory_gene']\n",
    "narrow_vp64_seta = narrow_vp64_seta[cols]\n",
    "narrow_vp64_setb = narrow_vp64_setb[cols]\n",
    "wide_vp64_seta = wide_vp64_seta[cols]\n",
    "wide_vp64_setb = wide_vp64_setb[cols]\n",
    "\n",
    "narrow_p65_seta = narrow_p65_seta[cols]\n",
    "narrow_p65_setb = narrow_p65_setb[cols]\n",
    "wide_p65_seta = wide_p65_seta[cols]\n",
    "wide_p65_setb = wide_p65_setb[cols]\n"
   ]
  },
  {
   "cell_type": "markdown",
   "id": "1cfd5375",
   "metadata": {},
   "source": [
    "## VP64"
   ]
  },
  {
   "cell_type": "code",
   "execution_count": 7,
   "id": "f1d0bfa7",
   "metadata": {},
   "outputs": [],
   "source": [
    "dfs_vp64 = [narrow_vp64_seta, \n",
    "            narrow_vp64_setb,\n",
    "            wide_vp64_seta,\n",
    "            wide_vp64_setb]\n",
    "df_merged_lfc_inner_vp64 = reduce(lambda  left,right: pd.merge(left,right,on=['Construct IDs'],\n",
    "                                            how='inner'), dfs_vp64)"
   ]
  },
  {
   "cell_type": "code",
   "execution_count": 8,
   "id": "c794f0d0",
   "metadata": {},
   "outputs": [],
   "source": [
    "oligo_vp64_narraw_seta = pd.merge(narrow_vp64_seta.\n",
    "                                  rename(columns = {'Construct Barcode': 'Guide 1'}),\n",
    "                                  oligo_narrow_setA, \n",
    "                                  on =  'Guide 1')\n",
    "oligo_vp64_narraw_setb = pd.merge(narrow_vp64_setb.\n",
    "                                  rename(columns = {'Construct Barcode': 'Guide 1'}),\n",
    "                                  oligo_narrow_setB, \n",
    "                                  on =  'Guide 1')\n",
    "\n",
    "oligo_vp64_wide_seta = pd.merge(wide_vp64_seta.\n",
    "                                  rename(columns = {'Construct Barcode': 'Guide 1'}),\n",
    "                                oligo_wide_setA, \n",
    "                                  on =  'Guide 1')\n",
    "oligo_vp64_wide_setb = pd.merge(wide_vp64_setb.\n",
    "                                  rename(columns = {'Construct Barcode': 'Guide 1'}),\n",
    "                                oligo_wide_setB, \n",
    "                                  on =  'Guide 1')\n",
    "cancat_oligo_vp64 = pd.concat([oligo_vp64_narraw_seta, \n",
    "                               oligo_vp64_narraw_setb,\n",
    "                            oligo_vp64_wide_seta, \n",
    "                               oligo_vp64_wide_setb], axis=0)\n",
    "\n"
   ]
  },
  {
   "cell_type": "code",
   "execution_count": 9,
   "id": "c39fb89f",
   "metadata": {},
   "outputs": [],
   "source": [
    "cancat_oligo_vp64.to_csv('../../manuscript data/primary screen processed data/oligo_vp64_sel_z.csv',\n",
    "                             index = False)"
   ]
  },
  {
   "cell_type": "markdown",
   "id": "dc3ce627",
   "metadata": {},
   "source": [
    "## p65"
   ]
  },
  {
   "cell_type": "code",
   "execution_count": 10,
   "id": "62ec8724",
   "metadata": {},
   "outputs": [],
   "source": [
    "dfs_p65 = [narrow_p65_seta, \n",
    "            narrow_p65_setb,\n",
    "            wide_p65_seta,\n",
    "            wide_p65_setb]\n",
    "df_merged_lfc_inner_p65 = reduce(lambda  left,right: pd.merge(left,right,on=['Construct IDs'],\n",
    "                                            how='inner'), dfs_p65)"
   ]
  },
  {
   "cell_type": "code",
   "execution_count": 11,
   "id": "e353be78",
   "metadata": {},
   "outputs": [],
   "source": [
    "oligo_p65_narraw_seta = pd.merge(narrow_p65_seta.\n",
    "                                  rename(columns = {'Construct Barcode': 'Guide 1'}),\n",
    "                                  oligo_narrow_setA, \n",
    "                                  on =  'Guide 1')\n",
    "oligo_p65_narraw_setb = pd.merge(narrow_p65_setb.\n",
    "                                  rename(columns = {'Construct Barcode': 'Guide 1'}),\n",
    "                                  oligo_narrow_setB, \n",
    "                                  on =  'Guide 1')\n",
    "\n",
    "oligo_p65_wide_seta = pd.merge(wide_p65_seta.\n",
    "                                  rename(columns = {'Construct Barcode': 'Guide 1'}),\n",
    "                                oligo_wide_setA, \n",
    "                                  on =  'Guide 1')\n",
    "oligo_p65_wide_setb = pd.merge(wide_p65_setb.\n",
    "                                  rename(columns = {'Construct Barcode': 'Guide 1'}),\n",
    "                                oligo_wide_setB, \n",
    "                                  on =  'Guide 1')\n",
    "cancat_oligo_p65 = pd.concat([oligo_p65_narraw_seta, \n",
    "                               oligo_p65_narraw_setb,\n",
    "                            oligo_p65_wide_seta, \n",
    "                               oligo_p65_wide_setb], axis=0)\n",
    "\n",
    "cancat_oligo_p65.to_csv('../../manuscript data/primary screen processed data/oligo_p65_sel_z.csv',\n",
    "                             index = False)"
   ]
  },
  {
   "cell_type": "markdown",
   "id": "5b88be70",
   "metadata": {},
   "source": [
    "# Viability effect"
   ]
  },
  {
   "cell_type": "code",
   "execution_count": 12,
   "id": "14286ea5",
   "metadata": {},
   "outputs": [],
   "source": [
    "narrow_vp64_seta_viability = pd.read_csv('../../manuscript data/primary screen processed data/narrow_vp64_seta_lfc_viability_effect.csv')\n",
    "narrow_vp64_setb_viability = pd.read_csv('../../manuscript data/primary screen processed data/narrow_vp64_setb_lfc_viability_effect.csv')\n",
    "wide_vp64_seta_viability = pd.read_csv('../../manuscript data/primary screen processed data/wide_vp64_seta_lfc_viability_effect.csv')\n",
    "wide_vp64_setb_viability = pd.read_csv('../../manuscript data/primary screen processed data/wide_vp64_setb_lfc_viability_effect.csv')\n",
    "\n",
    "narrow_p65_seta_viability = pd.read_csv('../../manuscript data/primary screen processed data/narrow_p65_seta_lfc_viability_effect.csv')\n",
    "narrow_p65_setb_viability = pd.read_csv('../../manuscript data/primary screen processed data/narrow_p65_setb_lfc_viability_effect.csv')\n",
    "wide_p65_seta_viability = pd.read_csv('../../manuscript data/primary screen processed data/wide_p65_seta_lfc_viability_effect.csv')\n",
    "wide_p65_setb_viability = pd.read_csv('../../manuscript data/primary screen processed data/wide_p65_setb_lfc_viability_effect.csv')"
   ]
  },
  {
   "cell_type": "code",
   "execution_count": 13,
   "id": "85454d80",
   "metadata": {},
   "outputs": [],
   "source": [
    "narrow_vp64_seta_viability = narrow_vp64_seta_viability[cols]\n",
    "narrow_vp64_setb_viability = narrow_vp64_setb_viability[cols]\n",
    "wide_vp64_seta_viability = wide_vp64_seta_viability[cols]\n",
    "wide_vp64_setb_viability = wide_vp64_setb_viability[cols]\n",
    "\n",
    "narrow_p65_seta_viability = narrow_p65_seta_viability[cols]\n",
    "narrow_p65_setb_viability = narrow_p65_setb_viability[cols]\n",
    "wide_p65_seta_viability = wide_p65_seta_viability[cols]\n",
    "wide_p65_setb_viability = wide_p65_setb_viability[cols]\n"
   ]
  },
  {
   "cell_type": "markdown",
   "id": "ee3e32d8",
   "metadata": {},
   "source": [
    "## VP64"
   ]
  },
  {
   "cell_type": "code",
   "execution_count": 14,
   "id": "c4c4d588",
   "metadata": {},
   "outputs": [],
   "source": [
    "dfs_vp64_viability = [narrow_vp64_seta_viability, \n",
    "            narrow_vp64_setb_viability,\n",
    "            wide_vp64_seta_viability,\n",
    "            wide_vp64_setb_viability]"
   ]
  },
  {
   "cell_type": "code",
   "execution_count": 15,
   "id": "b1068ac0",
   "metadata": {},
   "outputs": [],
   "source": [
    "oligo_vp64_narraw_seta_viability = pd.merge(narrow_vp64_seta_viability.\n",
    "                                  rename(columns = {'Construct Barcode': 'Guide 1'}),\n",
    "                                  oligo_narrow_setA, \n",
    "                                  on =  'Guide 1')\n",
    "oligo_vp64_narraw_setb_viability = pd.merge(narrow_vp64_setb_viability.\n",
    "                                  rename(columns = {'Construct Barcode': 'Guide 1'}),\n",
    "                                  oligo_narrow_setB, \n",
    "                                  on =  'Guide 1')\n",
    "\n",
    "oligo_vp64_wide_seta_viability = pd.merge(wide_vp64_seta_viability.\n",
    "                                  rename(columns = {'Construct Barcode': 'Guide 1'}),\n",
    "                                oligo_wide_setA, \n",
    "                                  on =  'Guide 1')\n",
    "oligo_vp64_wide_setb_viability = pd.merge(wide_vp64_setb_viability.\n",
    "                                  rename(columns = {'Construct Barcode': 'Guide 1'}),\n",
    "                                oligo_wide_setB, \n",
    "                                  on =  'Guide 1')\n",
    "cancat_oligo_vp64_viability = pd.concat([oligo_vp64_narraw_seta_viability, \n",
    "                               oligo_vp64_narraw_setb_viability,\n",
    "                            oligo_vp64_wide_seta_viability, \n",
    "                               oligo_vp64_wide_setb_viability], axis=0)"
   ]
  },
  {
   "cell_type": "code",
   "execution_count": 16,
   "id": "d2aeb5fc",
   "metadata": {},
   "outputs": [],
   "source": [
    "cancat_oligo_vp64_viability.to_csv('../../manuscript data/primary screen processed data/oligo_vp64_via_z.csv',\n",
    "                             index = False)"
   ]
  },
  {
   "cell_type": "markdown",
   "id": "c797cd44",
   "metadata": {},
   "source": [
    "## p65"
   ]
  },
  {
   "cell_type": "code",
   "execution_count": 17,
   "id": "80df8431",
   "metadata": {},
   "outputs": [],
   "source": [
    "dfs_p65_viability = [narrow_p65_seta_viability, \n",
    "            narrow_p65_setb_viability,\n",
    "            wide_p65_seta_viability,\n",
    "            wide_p65_setb_viability]"
   ]
  },
  {
   "cell_type": "code",
   "execution_count": 18,
   "id": "48fa81a3",
   "metadata": {},
   "outputs": [],
   "source": [
    "oligo_p65_narraw_seta_viability = pd.merge(narrow_p65_seta_viability.\n",
    "                                  rename(columns = {'Construct Barcode': 'Guide 1'}),\n",
    "                                  oligo_narrow_setA, \n",
    "                                  on =  'Guide 1')\n",
    "oligo_p65_narraw_setb_viability = pd.merge(narrow_p65_setb_viability.\n",
    "                                  rename(columns = {'Construct Barcode': 'Guide 1'}),\n",
    "                                  oligo_narrow_setB, \n",
    "                                  on =  'Guide 1')\n",
    "\n",
    "oligo_p65_wide_seta_viability = pd.merge(wide_p65_seta_viability.\n",
    "                                  rename(columns = {'Construct Barcode': 'Guide 1'}),\n",
    "                                oligo_wide_setA, \n",
    "                                  on =  'Guide 1')\n",
    "oligo_p65_wide_setb_viability = pd.merge(wide_p65_setb_viability.\n",
    "                                  rename(columns = {'Construct Barcode': 'Guide 1'}),\n",
    "                                oligo_wide_setB, \n",
    "                                  on =  'Guide 1')\n",
    "cancat_oligo_p65_viability = pd.concat([oligo_p65_narraw_seta_viability, \n",
    "                               oligo_p65_narraw_setb_viability,\n",
    "                            oligo_p65_wide_seta_viability, \n",
    "                               oligo_p65_wide_setb_viability], axis=0)"
   ]
  },
  {
   "cell_type": "code",
   "execution_count": 19,
   "id": "d7ca6aa7",
   "metadata": {},
   "outputs": [],
   "source": [
    "cancat_oligo_p65_viability.to_csv('../../manuscript data/primary screen processed data/oligo_p65_via_z.csv',\n",
    "                             index = False)"
   ]
  },
  {
   "cell_type": "markdown",
   "id": "11a7447b",
   "metadata": {},
   "source": [
    "# Agg Z-scores"
   ]
  },
  {
   "cell_type": "markdown",
   "id": "7d6113ac",
   "metadata": {},
   "source": [
    "## drug arm"
   ]
  },
  {
   "cell_type": "code",
   "execution_count": 20,
   "id": "16edccac",
   "metadata": {},
   "outputs": [],
   "source": [
    "sel_p65_aggZ = (cancat_oligo_p65.groupby(['Construct IDs'])\n",
    "            .agg(cas12a_z = ('z_scored_olfactory_gene', 'mean'),\n",
    "                 n_obs = ('z_scored_olfactory_gene', 'count'))\n",
    "            .reset_index())\n",
    "sel_p65_aggZ_4 = sel_p65_aggZ[sel_p65_aggZ['n_obs'] == 4]"
   ]
  },
  {
   "cell_type": "code",
   "execution_count": 21,
   "id": "67f8000d",
   "metadata": {},
   "outputs": [],
   "source": [
    "sel_vp64_aggZ = (cancat_oligo_vp64.groupby(['Construct IDs'])\n",
    "            .agg(cas12a_z = ('z_scored_olfactory_gene', 'mean'),\n",
    "                 n_obs = ('z_scored_olfactory_gene', 'count'))\n",
    "            .reset_index())\n",
    "sel_vp64_aggZ_4 = sel_vp64_aggZ[sel_vp64_aggZ['n_obs'] == 4]"
   ]
  },
  {
   "cell_type": "code",
   "execution_count": 22,
   "id": "cd7c24fd",
   "metadata": {},
   "outputs": [
    {
     "data": {
      "text/html": [
       "<div>\n",
       "<style scoped>\n",
       "    .dataframe tbody tr th:only-of-type {\n",
       "        vertical-align: middle;\n",
       "    }\n",
       "\n",
       "    .dataframe tbody tr th {\n",
       "        vertical-align: top;\n",
       "    }\n",
       "\n",
       "    .dataframe thead th {\n",
       "        text-align: right;\n",
       "    }\n",
       "</style>\n",
       "<table border=\"1\" class=\"dataframe\">\n",
       "  <thead>\n",
       "    <tr style=\"text-align: right;\">\n",
       "      <th></th>\n",
       "      <th>Construct IDs</th>\n",
       "      <th>cas12a_z</th>\n",
       "      <th>n_obs</th>\n",
       "    </tr>\n",
       "  </thead>\n",
       "  <tbody>\n",
       "    <tr>\n",
       "      <th>0</th>\n",
       "      <td>A1BG</td>\n",
       "      <td>-0.510450</td>\n",
       "      <td>4</td>\n",
       "    </tr>\n",
       "    <tr>\n",
       "      <th>1</th>\n",
       "      <td>A1CF</td>\n",
       "      <td>0.129457</td>\n",
       "      <td>4</td>\n",
       "    </tr>\n",
       "    <tr>\n",
       "      <th>2</th>\n",
       "      <td>A2M</td>\n",
       "      <td>2.249824</td>\n",
       "      <td>4</td>\n",
       "    </tr>\n",
       "    <tr>\n",
       "      <th>3</th>\n",
       "      <td>A2ML1</td>\n",
       "      <td>-0.619489</td>\n",
       "      <td>4</td>\n",
       "    </tr>\n",
       "    <tr>\n",
       "      <th>4</th>\n",
       "      <td>A3GALT2</td>\n",
       "      <td>-0.270194</td>\n",
       "      <td>4</td>\n",
       "    </tr>\n",
       "    <tr>\n",
       "      <th>...</th>\n",
       "      <td>...</td>\n",
       "      <td>...</td>\n",
       "      <td>...</td>\n",
       "    </tr>\n",
       "    <tr>\n",
       "      <th>18969</th>\n",
       "      <td>ZXDC</td>\n",
       "      <td>0.709703</td>\n",
       "      <td>4</td>\n",
       "    </tr>\n",
       "    <tr>\n",
       "      <th>18970</th>\n",
       "      <td>ZYG11A</td>\n",
       "      <td>-0.036818</td>\n",
       "      <td>4</td>\n",
       "    </tr>\n",
       "    <tr>\n",
       "      <th>18971</th>\n",
       "      <td>ZYG11B</td>\n",
       "      <td>0.535001</td>\n",
       "      <td>4</td>\n",
       "    </tr>\n",
       "    <tr>\n",
       "      <th>18972</th>\n",
       "      <td>ZYX</td>\n",
       "      <td>-0.537455</td>\n",
       "      <td>4</td>\n",
       "    </tr>\n",
       "    <tr>\n",
       "      <th>18973</th>\n",
       "      <td>ZZZ3</td>\n",
       "      <td>0.224553</td>\n",
       "      <td>4</td>\n",
       "    </tr>\n",
       "  </tbody>\n",
       "</table>\n",
       "<p>17809 rows × 3 columns</p>\n",
       "</div>"
      ],
      "text/plain": [
       "      Construct IDs  cas12a_z  n_obs\n",
       "0              A1BG -0.510450      4\n",
       "1              A1CF  0.129457      4\n",
       "2               A2M  2.249824      4\n",
       "3             A2ML1 -0.619489      4\n",
       "4           A3GALT2 -0.270194      4\n",
       "...             ...       ...    ...\n",
       "18969          ZXDC  0.709703      4\n",
       "18970        ZYG11A -0.036818      4\n",
       "18971        ZYG11B  0.535001      4\n",
       "18972           ZYX -0.537455      4\n",
       "18973          ZZZ3  0.224553      4\n",
       "\n",
       "[17809 rows x 3 columns]"
      ]
     },
     "execution_count": 22,
     "metadata": {},
     "output_type": "execute_result"
    }
   ],
   "source": [
    "sel_p65_aggZ_4"
   ]
  },
  {
   "cell_type": "markdown",
   "id": "7e6c73e4",
   "metadata": {},
   "source": [
    "## Viability arm"
   ]
  },
  {
   "cell_type": "code",
   "execution_count": 23,
   "id": "44b12259",
   "metadata": {},
   "outputs": [],
   "source": [
    "via_p65_aggZ = (cancat_oligo_p65_viability.groupby(['Construct IDs'])\n",
    "            .agg(cas12a_z = ('z_scored_olfactory_gene', 'mean'),\n",
    "                 n_obs = ('z_scored_olfactory_gene', 'count'))\n",
    "            .reset_index())\n",
    "via_p65_aggZ_4 = via_p65_aggZ[via_p65_aggZ['n_obs'] == 4]\n"
   ]
  },
  {
   "cell_type": "code",
   "execution_count": 24,
   "id": "b1e02ff3",
   "metadata": {},
   "outputs": [],
   "source": [
    "via_vp64_aggZ = (cancat_oligo_vp64_viability.groupby(['Construct IDs'])\n",
    "            .agg(cas12a_z = ('z_scored_olfactory_gene', 'mean'),\n",
    "                 n_obs = ('z_scored_olfactory_gene', 'count'))\n",
    "            .reset_index())\n",
    "via_vp64_aggZ_4 = via_vp64_aggZ[via_vp64_aggZ['n_obs'] == 4]"
   ]
  },
  {
   "cell_type": "code",
   "execution_count": 25,
   "id": "43513b8c",
   "metadata": {},
   "outputs": [
    {
     "data": {
      "text/html": [
       "<div>\n",
       "<style scoped>\n",
       "    .dataframe tbody tr th:only-of-type {\n",
       "        vertical-align: middle;\n",
       "    }\n",
       "\n",
       "    .dataframe tbody tr th {\n",
       "        vertical-align: top;\n",
       "    }\n",
       "\n",
       "    .dataframe thead th {\n",
       "        text-align: right;\n",
       "    }\n",
       "</style>\n",
       "<table border=\"1\" class=\"dataframe\">\n",
       "  <thead>\n",
       "    <tr style=\"text-align: right;\">\n",
       "      <th></th>\n",
       "      <th>Construct IDs</th>\n",
       "      <th>cas12a_z</th>\n",
       "      <th>n_obs</th>\n",
       "    </tr>\n",
       "  </thead>\n",
       "  <tbody>\n",
       "    <tr>\n",
       "      <th>0</th>\n",
       "      <td>A1BG</td>\n",
       "      <td>0.476447</td>\n",
       "      <td>4</td>\n",
       "    </tr>\n",
       "    <tr>\n",
       "      <th>1</th>\n",
       "      <td>A1CF</td>\n",
       "      <td>-1.236262</td>\n",
       "      <td>4</td>\n",
       "    </tr>\n",
       "    <tr>\n",
       "      <th>2</th>\n",
       "      <td>A2M</td>\n",
       "      <td>1.023616</td>\n",
       "      <td>4</td>\n",
       "    </tr>\n",
       "    <tr>\n",
       "      <th>3</th>\n",
       "      <td>A2ML1</td>\n",
       "      <td>0.289711</td>\n",
       "      <td>4</td>\n",
       "    </tr>\n",
       "    <tr>\n",
       "      <th>4</th>\n",
       "      <td>A3GALT2</td>\n",
       "      <td>1.053232</td>\n",
       "      <td>4</td>\n",
       "    </tr>\n",
       "    <tr>\n",
       "      <th>...</th>\n",
       "      <td>...</td>\n",
       "      <td>...</td>\n",
       "      <td>...</td>\n",
       "    </tr>\n",
       "    <tr>\n",
       "      <th>18969</th>\n",
       "      <td>ZXDC</td>\n",
       "      <td>0.412832</td>\n",
       "      <td>4</td>\n",
       "    </tr>\n",
       "    <tr>\n",
       "      <th>18970</th>\n",
       "      <td>ZYG11A</td>\n",
       "      <td>0.107067</td>\n",
       "      <td>4</td>\n",
       "    </tr>\n",
       "    <tr>\n",
       "      <th>18971</th>\n",
       "      <td>ZYG11B</td>\n",
       "      <td>-0.760433</td>\n",
       "      <td>4</td>\n",
       "    </tr>\n",
       "    <tr>\n",
       "      <th>18972</th>\n",
       "      <td>ZYX</td>\n",
       "      <td>0.405004</td>\n",
       "      <td>4</td>\n",
       "    </tr>\n",
       "    <tr>\n",
       "      <th>18973</th>\n",
       "      <td>ZZZ3</td>\n",
       "      <td>-0.766275</td>\n",
       "      <td>4</td>\n",
       "    </tr>\n",
       "  </tbody>\n",
       "</table>\n",
       "<p>17813 rows × 3 columns</p>\n",
       "</div>"
      ],
      "text/plain": [
       "      Construct IDs  cas12a_z  n_obs\n",
       "0              A1BG  0.476447      4\n",
       "1              A1CF -1.236262      4\n",
       "2               A2M  1.023616      4\n",
       "3             A2ML1  0.289711      4\n",
       "4           A3GALT2  1.053232      4\n",
       "...             ...       ...    ...\n",
       "18969          ZXDC  0.412832      4\n",
       "18970        ZYG11A  0.107067      4\n",
       "18971        ZYG11B -0.760433      4\n",
       "18972           ZYX  0.405004      4\n",
       "18973          ZZZ3 -0.766275      4\n",
       "\n",
       "[17813 rows x 3 columns]"
      ]
     },
     "execution_count": 25,
     "metadata": {},
     "output_type": "execute_result"
    }
   ],
   "source": [
    "via_vp64_aggZ_4"
   ]
  },
  {
   "cell_type": "markdown",
   "id": "8c4cc931",
   "metadata": {},
   "source": [
    "# Figure 4"
   ]
  },
  {
   "cell_type": "code",
   "execution_count": 26,
   "id": "503a31b8",
   "metadata": {},
   "outputs": [],
   "source": [
    "sel_aggZ = pd.merge(sel_p65_aggZ_4[['Construct IDs', 'cas12a_z']].\n",
    "                    rename(columns = {'cas12a_z': 'p65 Average Z-score'}), \n",
    "                    \n",
    "                    sel_vp64_aggZ_4[['Construct IDs', 'cas12a_z']].\n",
    "                    rename(columns = {'cas12a_z': 'VP64 Average Z-score'}), \n",
    "                    on = 'Construct IDs', how = 'inner')"
   ]
  },
  {
   "cell_type": "code",
   "execution_count": 27,
   "id": "cbff7082",
   "metadata": {},
   "outputs": [
    {
     "data": {
      "text/html": [
       "<div>\n",
       "<style scoped>\n",
       "    .dataframe tbody tr th:only-of-type {\n",
       "        vertical-align: middle;\n",
       "    }\n",
       "\n",
       "    .dataframe tbody tr th {\n",
       "        vertical-align: top;\n",
       "    }\n",
       "\n",
       "    .dataframe thead th {\n",
       "        text-align: right;\n",
       "    }\n",
       "</style>\n",
       "<table border=\"1\" class=\"dataframe\">\n",
       "  <thead>\n",
       "    <tr style=\"text-align: right;\">\n",
       "      <th></th>\n",
       "      <th>Construct IDs</th>\n",
       "      <th>p65 Average Z-score</th>\n",
       "      <th>VP64 Average Z-score</th>\n",
       "      <th>olfactory_gene</th>\n",
       "    </tr>\n",
       "  </thead>\n",
       "  <tbody>\n",
       "    <tr>\n",
       "      <th>0</th>\n",
       "      <td>A1BG</td>\n",
       "      <td>-0.510450</td>\n",
       "      <td>-0.923003</td>\n",
       "      <td>False</td>\n",
       "    </tr>\n",
       "    <tr>\n",
       "      <th>1</th>\n",
       "      <td>A1CF</td>\n",
       "      <td>0.129457</td>\n",
       "      <td>0.163837</td>\n",
       "      <td>False</td>\n",
       "    </tr>\n",
       "    <tr>\n",
       "      <th>2</th>\n",
       "      <td>A2M</td>\n",
       "      <td>2.249824</td>\n",
       "      <td>2.026073</td>\n",
       "      <td>False</td>\n",
       "    </tr>\n",
       "    <tr>\n",
       "      <th>3</th>\n",
       "      <td>A2ML1</td>\n",
       "      <td>-0.619489</td>\n",
       "      <td>-0.162971</td>\n",
       "      <td>False</td>\n",
       "    </tr>\n",
       "    <tr>\n",
       "      <th>4</th>\n",
       "      <td>A3GALT2</td>\n",
       "      <td>-0.270194</td>\n",
       "      <td>-0.455432</td>\n",
       "      <td>False</td>\n",
       "    </tr>\n",
       "  </tbody>\n",
       "</table>\n",
       "</div>"
      ],
      "text/plain": [
       "  Construct IDs  p65 Average Z-score  VP64 Average Z-score  olfactory_gene\n",
       "0          A1BG            -0.510450             -0.923003           False\n",
       "1          A1CF             0.129457              0.163837           False\n",
       "2           A2M             2.249824              2.026073           False\n",
       "3         A2ML1            -0.619489             -0.162971           False\n",
       "4       A3GALT2            -0.270194             -0.455432           False"
      ]
     },
     "execution_count": 27,
     "metadata": {},
     "output_type": "execute_result"
    }
   ],
   "source": [
    "OR_list = generate_olfactory_gene(sel_aggZ, 'Construct IDs')\n",
    "sel_aggZ['olfactory_gene'] = sel_aggZ['Construct IDs'].isin(OR_list)\n",
    "sel_aggZ.head()"
   ]
  },
  {
   "cell_type": "code",
   "execution_count": 42,
   "id": "fcc8fd0a",
   "metadata": {},
   "outputs": [],
   "source": [
    "sel_aggZ.to_csv('../../manuscript data/primary screen processed data/p65_vp64_scatterplot_selumetinib_4_perturb.csv',\n",
    "                             index = False)"
   ]
  },
  {
   "cell_type": "code",
   "execution_count": 29,
   "id": "7bfbcedd",
   "metadata": {},
   "outputs": [
    {
     "data": {
      "text/plain": [
       "Text(0.07, 0.92, 'r = 0.57')"
      ]
     },
     "execution_count": 29,
     "metadata": {},
     "output_type": "execute_result"
    },
    {
     "data": {
      "image/png": "[encoded data removed]",
      "text/plain": [
       "<Figure size 288x288 with 1 Axes>"
      ]
     },
     "metadata": {
      "needs_background": "light"
     },
     "output_type": "display_data"
    }
   ],
   "source": [
    "plt.subplots(figsize=(4,4))\n",
    "sns.set_palette(\"Set2\")\n",
    "\n",
    "ax = sns.scatterplot(data=sel_aggZ, x = 'p65 Average Z-score', \n",
    "                y='VP64 Average Z-score', alpha = 0.8,\n",
    "               color = sns.color_palette('Set2')[2]).set(title='VP64 vs p65 (selumetinib)')\n",
    "ax = sns.scatterplot(data=sel_aggZ[sel_aggZ['olfactory_gene'] == True], x='p65 Average Z-score', \n",
    "                y='VP64 Average Z-score', alpha = 0.8,\n",
    "               color = sns.color_palette('Set2')[1])\n",
    "sns.despine()\n",
    "top_gene = sel_aggZ[sel_aggZ['Construct IDs'].isin(['DUSP6','DUSP4','GATA6','BRAF', 'NRAS', 'RAF1' ])]\n",
    "\n",
    "plt.xlabel('p65 Average Z-score',fontsize=14)\n",
    "plt.ylabel('VP64 Average Z-score',fontsize=14)\n",
    "plt.title('Selumetinib Modifier',fontsize=16)\n",
    "\n",
    "for index, row in top_gene.iterrows():\n",
    "    plt.text(float(row['p65 Average Z-score'])+0.02, \n",
    "                 float(row['VP64 Average Z-score'])+0.02, \n",
    "                 row['Construct IDs'], \n",
    "                 horizontalalignment='left', size='small', color='black')\n",
    "    plt.scatter(row['p65 Average Z-score'], row['VP64 Average Z-score'], color='r', s=17)\n",
    "r, p = sp.stats.pearsonr(x=sel_aggZ['p65 Average Z-score'], \n",
    "                         y=sel_aggZ['VP64 Average Z-score'])\n",
    "plt.text(.07, 0.92, 'r = {:.2f}'.format(r), transform=ax.transAxes)\n"
   ]
  },
  {
   "cell_type": "markdown",
   "id": "8b4aa0a0",
   "metadata": {},
   "source": [
    "# Supplementary Figure 4"
   ]
  },
  {
   "cell_type": "code",
   "execution_count": 30,
   "id": "195d1a6f",
   "metadata": {},
   "outputs": [],
   "source": [
    "###"
   ]
  },
  {
   "cell_type": "code",
   "execution_count": 31,
   "id": "edf8d606",
   "metadata": {},
   "outputs": [],
   "source": [
    "via_aggZ = pd.merge(via_p65_aggZ_4[['Construct IDs', 'cas12a_z']].\n",
    "                    rename(columns = {'cas12a_z': 'p65 Average Z-score'}), \n",
    "                    \n",
    "                    via_vp64_aggZ_4[['Construct IDs', 'cas12a_z']].\n",
    "                    rename(columns = {'cas12a_z': 'VP64 Average Z-score'}), \n",
    "                    on = 'Construct IDs', how = 'inner')"
   ]
  },
  {
   "cell_type": "code",
   "execution_count": 32,
   "id": "9d0082a4",
   "metadata": {},
   "outputs": [
    {
     "data": {
      "text/html": [
       "<div>\n",
       "<style scoped>\n",
       "    .dataframe tbody tr th:only-of-type {\n",
       "        vertical-align: middle;\n",
       "    }\n",
       "\n",
       "    .dataframe tbody tr th {\n",
       "        vertical-align: top;\n",
       "    }\n",
       "\n",
       "    .dataframe thead th {\n",
       "        text-align: right;\n",
       "    }\n",
       "</style>\n",
       "<table border=\"1\" class=\"dataframe\">\n",
       "  <thead>\n",
       "    <tr style=\"text-align: right;\">\n",
       "      <th></th>\n",
       "      <th>Construct IDs</th>\n",
       "      <th>p65 Average Z-score</th>\n",
       "      <th>VP64 Average Z-score</th>\n",
       "      <th>olfactory_gene</th>\n",
       "    </tr>\n",
       "  </thead>\n",
       "  <tbody>\n",
       "    <tr>\n",
       "      <th>0</th>\n",
       "      <td>A1BG</td>\n",
       "      <td>-0.214051</td>\n",
       "      <td>0.476447</td>\n",
       "      <td>False</td>\n",
       "    </tr>\n",
       "    <tr>\n",
       "      <th>1</th>\n",
       "      <td>A1CF</td>\n",
       "      <td>-0.562051</td>\n",
       "      <td>-1.236262</td>\n",
       "      <td>False</td>\n",
       "    </tr>\n",
       "    <tr>\n",
       "      <th>2</th>\n",
       "      <td>A2M</td>\n",
       "      <td>0.558284</td>\n",
       "      <td>1.023616</td>\n",
       "      <td>False</td>\n",
       "    </tr>\n",
       "    <tr>\n",
       "      <th>3</th>\n",
       "      <td>A2ML1</td>\n",
       "      <td>0.244503</td>\n",
       "      <td>0.289711</td>\n",
       "      <td>False</td>\n",
       "    </tr>\n",
       "    <tr>\n",
       "      <th>4</th>\n",
       "      <td>A3GALT2</td>\n",
       "      <td>0.860106</td>\n",
       "      <td>1.053232</td>\n",
       "      <td>False</td>\n",
       "    </tr>\n",
       "  </tbody>\n",
       "</table>\n",
       "</div>"
      ],
      "text/plain": [
       "  Construct IDs  p65 Average Z-score  VP64 Average Z-score  olfactory_gene\n",
       "0          A1BG            -0.214051              0.476447           False\n",
       "1          A1CF            -0.562051             -1.236262           False\n",
       "2           A2M             0.558284              1.023616           False\n",
       "3         A2ML1             0.244503              0.289711           False\n",
       "4       A3GALT2             0.860106              1.053232           False"
      ]
     },
     "execution_count": 32,
     "metadata": {},
     "output_type": "execute_result"
    }
   ],
   "source": [
    "OR_list = generate_olfactory_gene(via_aggZ, 'Construct IDs')\n",
    "via_aggZ['olfactory_gene'] = via_aggZ['Construct IDs'].isin(OR_list)\n",
    "via_aggZ.head()"
   ]
  },
  {
   "cell_type": "code",
   "execution_count": 41,
   "id": "e54c7dbc",
   "metadata": {},
   "outputs": [],
   "source": [
    "via_aggZ.to_csv('../../manuscript data/primary screen processed data/p65_vp64_scatterplot_untreated_4_perturb.csv',\n",
    "                             index = False)"
   ]
  },
  {
   "cell_type": "code",
   "execution_count": 33,
   "id": "2e486e60",
   "metadata": {},
   "outputs": [
    {
     "data": {
      "text/plain": [
       "Text(0.05, 0.92, 'r = 0.78')"
      ]
     },
     "execution_count": 33,
     "metadata": {},
     "output_type": "execute_result"
    },
    {
     "data": {
      "image/png": "[encoded data removed]",
      "text/plain": [
       "<Figure size 288x288 with 1 Axes>"
      ]
     },
     "metadata": {
      "needs_background": "light"
     },
     "output_type": "display_data"
    }
   ],
   "source": [
    "plt.subplots(figsize=(4,4))\n",
    "\n",
    "ax = sns.scatterplot(data=via_aggZ, x = 'p65 Average Z-score', \n",
    "                y='VP64 Average Z-score', alpha = 0.8,\n",
    "               color = sns.color_palette('Set2')[2])\n",
    "ax = sns.scatterplot(data=via_aggZ[via_aggZ['olfactory_gene'] == True], x='p65 Average Z-score', \n",
    "                y='VP64 Average Z-score', alpha = 0.8,\n",
    "               color = sns.color_palette('Set2')[1])\n",
    "sns.despine()\n",
    "top_gene = via_aggZ[via_aggZ['Construct IDs'].isin(['CDKN1A', 'CDKN1C', 'CDKN2C', \n",
    "                                                                        'JUNB', 'MAP3K11', 'PRDM1'])]\n",
    "\n",
    "\n",
    "plt.xlabel('p65 Average Z-score',fontsize=14)\n",
    "plt.ylabel('VP64 Average Z-score',fontsize=14)\n",
    "plt.title('Viability',fontsize=16)\n",
    "for index, row in top_gene.iterrows():\n",
    "    plt.text(float(row['p65 Average Z-score'])+0.02, \n",
    "                 float(row['VP64 Average Z-score'])+0.02, \n",
    "                 row['Construct IDs'], \n",
    "                 horizontalalignment='left', size='small', color='black')\n",
    "    plt.scatter(row['p65 Average Z-score'], row['VP64 Average Z-score'], color='r', s=17)\n",
    "r, p = sp.stats.pearsonr(x=via_aggZ['p65 Average Z-score'], \n",
    "                         y=via_aggZ['VP64 Average Z-score'])\n",
    "plt.text(.05, 0.92, 'r = {:.2f}'.format(r), transform=ax.transAxes)\n"
   ]
  },
  {
   "cell_type": "markdown",
   "id": "d53f4b15",
   "metadata": {},
   "source": [
    "### CDKNs"
   ]
  },
  {
   "cell_type": "code",
   "execution_count": 34,
   "id": "9a677b37",
   "metadata": {},
   "outputs": [],
   "source": [
    "cols = ['Construct IDs', 'z_scored_olfactory_gene']\n",
    "narrow_vp64_seta_viability = narrow_vp64_seta_viability[cols]\n",
    "narrow_vp64_seta_viability = narrow_vp64_seta_viability.rename({'z_scored_olfactory_gene': 'z_narrow_vp64_seta'}, axis=1)  # new method\n",
    "\n",
    "narrow_vp64_setb_viability = narrow_vp64_setb_viability[cols]\n",
    "narrow_vp64_setb_viability = narrow_vp64_setb_viability.rename({'z_scored_olfactory_gene': 'z_narrow_vp64_setb'}, axis=1)  # new method\n",
    "\n",
    "wide_vp64_seta_viability = wide_vp64_seta_viability[cols]\n",
    "wide_vp64_seta_viability = wide_vp64_seta_viability.rename({'z_scored_olfactory_gene': 'z_wide_vp64_seta'}, axis=1)  # new method\n",
    "\n",
    "wide_vp64_setb_viability = wide_vp64_setb_viability[cols]\n",
    "wide_vp64_setb_viability = wide_vp64_setb_viability.rename({'z_scored_olfactory_gene': 'z_wide_vp64_setb'}, axis=1)  # new method\n",
    "\n",
    "narrow_p65_seta_viability = narrow_p65_seta_viability[cols]\n",
    "narrow_p65_seta_viability = narrow_p65_seta_viability.rename({'z_scored_olfactory_gene': 'z_narrow_p65_seta'}, axis=1)  # new method\n",
    "\n",
    "narrow_p65_setb_viability = narrow_p65_setb_viability[cols]\n",
    "narrow_p65_setb_viability = narrow_p65_setb_viability.rename({'z_scored_olfactory_gene': 'z_narrow_p65_setb'}, axis=1)  # new method\n",
    "\n",
    "wide_p65_seta_viability = wide_p65_seta_viability[cols]\n",
    "wide_p65_seta_viability = wide_p65_seta_viability.rename({'z_scored_olfactory_gene': 'z_wide_p65_seta'}, axis=1)  # new method\n",
    "\n",
    "wide_p65_setb_viability = wide_p65_setb_viability[cols]\n",
    "wide_p65_setb_viability = wide_p65_setb_viability.rename({'z_scored_olfactory_gene': 'z_wide_p65_setb'}, axis=1)  # new method\n",
    "cdkn_df = [narrow_vp64_seta_viability, narrow_vp64_setb_viability, wide_vp64_seta_viability, wide_vp64_setb_viability, \n",
    "               narrow_p65_seta_viability, narrow_p65_setb_viability, wide_p65_seta_viability, wide_p65_setb_viability]\n"
   ]
  },
  {
   "cell_type": "code",
   "execution_count": 35,
   "id": "aeb5a8fc",
   "metadata": {},
   "outputs": [],
   "source": [
    "cdkn_list = ['CDKN1A', 'CDKN1B', 'CDKN1C', 'CDKN2A', 'CDKN2B','CDKN2C','CDKN2D']"
   ]
  },
  {
   "cell_type": "code",
   "execution_count": 36,
   "id": "b3af2daa",
   "metadata": {},
   "outputs": [],
   "source": [
    "cdkn_df_merged = reduce(lambda  left,right: pd.merge(left,right,on=['Construct IDs'],\n",
    "                                            how='inner'), cdkn_df)\n"
   ]
  },
  {
   "cell_type": "code",
   "execution_count": 37,
   "id": "9e8a4600",
   "metadata": {},
   "outputs": [],
   "source": [
    "cdk = cdkn_df_merged[cdkn_df_merged['Construct IDs'].isin(cdkn_list)]"
   ]
  },
  {
   "cell_type": "code",
   "execution_count": 38,
   "id": "36d5c444",
   "metadata": {},
   "outputs": [],
   "source": [
    "cdk_melt = pd.melt(cdk, id_vars=['Construct IDs'])"
   ]
  },
  {
   "cell_type": "code",
   "execution_count": 39,
   "id": "edfaff7a",
   "metadata": {},
   "outputs": [
    {
     "data": {
      "image/png": "[encoded data removed]",
      "text/plain": [
       "<Figure size 432x288 with 1 Axes>"
      ]
     },
     "metadata": {},
     "output_type": "display_data"
    }
   ],
   "source": [
    "plt.rcParams.update({'font.size': 7})\n",
    "\n",
    "gpp.set_aesthetics(context = 'paper')\n",
    "ax = sns.boxplot(x=\"Construct IDs\", y=\"Z-score\", color='white',\n",
    "            data=cdk_melt.rename(columns= {'value': 'Z-score'}),\n",
    "                order = cdk_melt.groupby([\"Construct IDs\"])[\"value\"].median().sort_values().index)\n",
    "#order=  ['CDKN1A', 'CDKN1B', 'CDKN1C', 'CDKN2A', 'CDKN2B', 'CDKN2C', 'CDKN2D']\n",
    "ax = sns.stripplot(x = \"Construct IDs\",\n",
    "              y = \"Z-score\",\n",
    "              color = 'black',\n",
    "              data = cdk_melt.rename(columns= {'value': 'Z-score'}),\n",
    "                order = cdk_melt.groupby([\"Construct IDs\"])[\"value\"].median().sort_values().index)\n",
    "ax.spines['right'].set_color('none')\n",
    "ax.spines['top'].set_color('none')"
   ]
  },
  {
   "cell_type": "code",
   "execution_count": null,
   "id": "cc54a9d2",
   "metadata": {},
   "outputs": [],
   "source": []
  }
 ],
 "metadata": {
  "kernelspec": {
   "display_name": "Python 3 (ipykernel)",
   "language": "python",
   "name": "python3"
  },
  "language_info": {
   "codemirror_mode": {
    "name": "ipython",
    "version": 3
   },
   "file_extension": ".py",
   "mimetype": "text/x-python",
   "name": "python",
   "nbconvert_exporter": "python",
   "pygments_lexer": "ipython3",
   "version": "3.8.13"
  }
 },
 "nbformat": 4,
 "nbformat_minor": 5
}
