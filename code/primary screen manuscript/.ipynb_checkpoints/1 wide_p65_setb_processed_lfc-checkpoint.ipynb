{
 "cells": [
  {
   "cell_type": "markdown",
   "id": "51598699",
   "metadata": {},
   "source": [
    "# 0 Import packages"
   ]
  },
  {
   "cell_type": "code",
   "execution_count": 1,
   "id": "166a924c",
   "metadata": {},
   "outputs": [],
   "source": [
    "import pandas as pd\n",
    "from poola import core as pool\n",
    "import seaborn as sns\n",
    "import gpplot\n",
    "import matplotlib.pyplot as plt\n",
    "import matplotlib as mpl\n",
    "import numpy as np\n",
    "import gpplot as gpp\n",
    "import function as f\n",
    "import statistics \n",
    "import scipy.stats as stats\n",
    "import researchpy as rp\n",
    "import re\n",
    "\n",
    "pd.set_option('max_colwidth', None)"
   ]
  },
  {
   "cell_type": "markdown",
   "id": "06672997",
   "metadata": {},
   "source": [
    "# 1 Import Files"
   ]
  },
  {
   "cell_type": "code",
   "execution_count": 2,
   "id": "c701d863",
   "metadata": {},
   "outputs": [],
   "source": [
    "path = ('../../manuscript data/Supplementary Data Files/')\n",
    "supp_data_3 = pd.read_excel(path + '/Supplementary Data 3.xlsx', 'Library annotation')\n",
    "supp_data_3 = supp_data_3[(supp_data_3['Design window'] == 'wide') & (supp_data_3['Set'] == 'B')]\n",
    "\n",
    "wide_setb_anno = pd.read_excel(path + '/Supplementary Data 3.xlsx', 'SetB;Wide',skiprows=2, \n",
    "                                 names = ['Construct IDs',\n",
    "                                          'pDNA_Wide_VP64_setB',\n",
    "                                          'pDNA_Wide_p65_setB',\n",
    "                                          'Wide_VP64_setB_untreated_repA',\n",
    "                                          'Wide_VP64_setB_untreated_repB',\n",
    "                                          'Wide_VP64_setB_Selumetinib_repA',\n",
    "                                          'Wide_VP64_setB_Selumetinib_repB',\n",
    "                                          'Wide_p65_setB_untreated_repA',\n",
    "                                          'Wide_p65_setB_untreated_repB',\n",
    "                                          'Wide_p65_setB_Selumetinib_repA',\n",
    "                                          'Wide_p65_setB_Selumetinib_repB'])"
   ]
  },
  {
   "cell_type": "code",
   "execution_count": 3,
   "id": "e773470b",
   "metadata": {},
   "outputs": [],
   "source": [
    "wide_p65_setb = pd.merge(wide_setb_anno[['Construct IDs',\n",
    "                                          'pDNA_Wide_p65_setB',\n",
    "                                          'Wide_p65_setB_untreated_repA',\n",
    "                                          'Wide_p65_setB_untreated_repB',\n",
    "                                          'Wide_p65_setB_Selumetinib_repA',\n",
    "                                          'Wide_p65_setB_Selumetinib_repB']],\n",
    "         supp_data_3[['Guide 1', 'Gene Symbol']].\n",
    "                           rename(columns={'Guide 1': 'Construct Barcode','Gene Symbol':'Construct IDs'}),\n",
    "         on = 'Construct IDs')\n",
    "         "
   ]
  },
  {
   "cell_type": "code",
   "execution_count": 4,
   "id": "4378fb3f",
   "metadata": {},
   "outputs": [
    {
     "data": {
      "text/html": [
       "<div>\n",
       "<style scoped>\n",
       "    .dataframe tbody tr th:only-of-type {\n",
       "        vertical-align: middle;\n",
       "    }\n",
       "\n",
       "    .dataframe tbody tr th {\n",
       "        vertical-align: top;\n",
       "    }\n",
       "\n",
       "    .dataframe thead th {\n",
       "        text-align: right;\n",
       "    }\n",
       "</style>\n",
       "<table border=\"1\" class=\"dataframe\">\n",
       "  <thead>\n",
       "    <tr style=\"text-align: right;\">\n",
       "      <th></th>\n",
       "      <th>Construct IDs</th>\n",
       "      <th>pDNA_Wide_p65_setB</th>\n",
       "      <th>Wide_p65_setB_untreated_repA</th>\n",
       "      <th>Wide_p65_setB_untreated_repB</th>\n",
       "      <th>Wide_p65_setB_Selumetinib_repA</th>\n",
       "      <th>Wide_p65_setB_Selumetinib_repB</th>\n",
       "      <th>Construct Barcode</th>\n",
       "    </tr>\n",
       "  </thead>\n",
       "  <tbody>\n",
       "    <tr>\n",
       "      <th>0</th>\n",
       "      <td>A1BG</td>\n",
       "      <td>431.0</td>\n",
       "      <td>297.0</td>\n",
       "      <td>354.0</td>\n",
       "      <td>289.0</td>\n",
       "      <td>185.0</td>\n",
       "      <td>AGCCCCGGCACTCTCCACTTGAC</td>\n",
       "    </tr>\n",
       "    <tr>\n",
       "      <th>1</th>\n",
       "      <td>A1CF</td>\n",
       "      <td>1146.0</td>\n",
       "      <td>984.0</td>\n",
       "      <td>1145.0</td>\n",
       "      <td>1625.0</td>\n",
       "      <td>830.0</td>\n",
       "      <td>CAATTCCTGGGAGTTAAACTTTA</td>\n",
       "    </tr>\n",
       "    <tr>\n",
       "      <th>2</th>\n",
       "      <td>A2M</td>\n",
       "      <td>740.0</td>\n",
       "      <td>537.0</td>\n",
       "      <td>520.0</td>\n",
       "      <td>836.0</td>\n",
       "      <td>363.0</td>\n",
       "      <td>TGGCGGGCTAAATAGAATCCCTG</td>\n",
       "    </tr>\n",
       "    <tr>\n",
       "      <th>3</th>\n",
       "      <td>A2ML1</td>\n",
       "      <td>909.0</td>\n",
       "      <td>832.0</td>\n",
       "      <td>1077.0</td>\n",
       "      <td>907.0</td>\n",
       "      <td>728.0</td>\n",
       "      <td>CCATTATGAATACTCAGCTCTGG</td>\n",
       "    </tr>\n",
       "    <tr>\n",
       "      <th>4</th>\n",
       "      <td>A3GALT2</td>\n",
       "      <td>149.0</td>\n",
       "      <td>122.0</td>\n",
       "      <td>79.0</td>\n",
       "      <td>201.0</td>\n",
       "      <td>134.0</td>\n",
       "      <td>AGGTGATTGGCCCCAAAAGGGTT</td>\n",
       "    </tr>\n",
       "  </tbody>\n",
       "</table>\n",
       "</div>"
      ],
      "text/plain": [
       "  Construct IDs  pDNA_Wide_p65_setB  Wide_p65_setB_untreated_repA  \\\n",
       "0          A1BG               431.0                         297.0   \n",
       "1          A1CF              1146.0                         984.0   \n",
       "2           A2M               740.0                         537.0   \n",
       "3         A2ML1               909.0                         832.0   \n",
       "4       A3GALT2               149.0                         122.0   \n",
       "\n",
       "   Wide_p65_setB_untreated_repB  Wide_p65_setB_Selumetinib_repA  \\\n",
       "0                         354.0                           289.0   \n",
       "1                        1145.0                          1625.0   \n",
       "2                         520.0                           836.0   \n",
       "3                        1077.0                           907.0   \n",
       "4                          79.0                           201.0   \n",
       "\n",
       "   Wide_p65_setB_Selumetinib_repB        Construct Barcode  \n",
       "0                           185.0  AGCCCCGGCACTCTCCACTTGAC  \n",
       "1                           830.0  CAATTCCTGGGAGTTAAACTTTA  \n",
       "2                           363.0  TGGCGGGCTAAATAGAATCCCTG  \n",
       "3                           728.0  CCATTATGAATACTCAGCTCTGG  \n",
       "4                           134.0  AGGTGATTGGCCCCAAAAGGGTT  "
      ]
     },
     "execution_count": 4,
     "metadata": {},
     "output_type": "execute_result"
    }
   ],
   "source": [
    "wide_p65_setb.head()"
   ]
  },
  {
   "cell_type": "markdown",
   "id": "d2bbcf2f",
   "metadata": {},
   "source": [
    "# 2 Find Olfactory Genes"
   ]
  },
  {
   "cell_type": "code",
   "execution_count": 5,
   "id": "8db4b6d8",
   "metadata": {},
   "outputs": [],
   "source": [
    "\n",
    "olfactory_gene = [gene for gene in wide_p65_setb['Construct IDs'].tolist() if gene.startswith('OR')]\n",
    "# A nomenclature system has been devised for the olfactory receptor family[33] and is the basis for the official Human Genome Project (HUGO) symbols for the genes that encode these receptors. The names of individual olfactory receptor family members are in the format \"ORnXm\" where:\n",
    "\n",
    "# OR is the root name (Olfactory Receptor superfamily)\n",
    "# n = an integer representing a family (e.g., 1-56) whose members have greater than 40% sequence identity,\n",
    "# X = a single letter (A, B, C, ...) denoting a subfamily (>60% sequence identity), and\n",
    "# m = an integer representing an individual family member (isoform).\n",
    "# checked X could be mutiple letters\n",
    "\n",
    "ofg_l = []\n",
    "no_ofg_l = []\n",
    "for ofg in olfactory_gene:\n",
    "    match = re.search('^OR\\d{1,2}[A-Z]{1,2}[0-9]?[0-9]', ofg)\n",
    "    if match:\n",
    "        ofg_l.append(ofg)\n",
    "    else:\n",
    "        no_ofg_l.append(ofg)\n",
    "        \n",
    "\n",
    "\n",
    "olfactory_gene = ofg_l\n"
   ]
  },
  {
   "cell_type": "markdown",
   "id": "1e4bca7f",
   "metadata": {},
   "source": [
    "# 3 Calculate LFC "
   ]
  },
  {
   "cell_type": "code",
   "execution_count": 6,
   "id": "7dd9a77c",
   "metadata": {},
   "outputs": [],
   "source": [
    "OG_read_counts = wide_p65_setb"
   ]
  },
  {
   "cell_type": "code",
   "execution_count": 7,
   "id": "52454822",
   "metadata": {},
   "outputs": [],
   "source": [
    "OG_read_counts.rename(columns = {'pDNA_Wide_p65_setB':\"pDNA\", \n",
    "                                 'Wide_p65_setB_untreated_repA':\"untreated_repA\",\n",
    "                                 'Wide_p65_setB_untreated_repB':\"untreated_repB\", \n",
    "                                 'Wide_p65_setB_Selumetinib_repA':\"Selumetinib_repA\",\n",
    "                                 'Wide_p65_setB_Selumetinib_repB':\"Selumetinib_repB\"\n",
    "                                }, inplace= True)\n"
   ]
  },
  {
   "cell_type": "code",
   "execution_count": 8,
   "id": "a2826445",
   "metadata": {},
   "outputs": [
    {
     "data": {
      "text/html": [
       "<div>\n",
       "<style scoped>\n",
       "    .dataframe tbody tr th:only-of-type {\n",
       "        vertical-align: middle;\n",
       "    }\n",
       "\n",
       "    .dataframe tbody tr th {\n",
       "        vertical-align: top;\n",
       "    }\n",
       "\n",
       "    .dataframe thead th {\n",
       "        text-align: right;\n",
       "    }\n",
       "</style>\n",
       "<table border=\"1\" class=\"dataframe\">\n",
       "  <thead>\n",
       "    <tr style=\"text-align: right;\">\n",
       "      <th></th>\n",
       "      <th>Construct IDs</th>\n",
       "      <th>pDNA</th>\n",
       "      <th>untreated_repA</th>\n",
       "      <th>untreated_repB</th>\n",
       "      <th>Selumetinib_repA</th>\n",
       "      <th>Selumetinib_repB</th>\n",
       "      <th>Construct Barcode</th>\n",
       "    </tr>\n",
       "  </thead>\n",
       "  <tbody>\n",
       "    <tr>\n",
       "      <th>0</th>\n",
       "      <td>A1BG</td>\n",
       "      <td>431.0</td>\n",
       "      <td>297.0</td>\n",
       "      <td>354.0</td>\n",
       "      <td>289.0</td>\n",
       "      <td>185.0</td>\n",
       "      <td>AGCCCCGGCACTCTCCACTTGAC</td>\n",
       "    </tr>\n",
       "    <tr>\n",
       "      <th>1</th>\n",
       "      <td>A1CF</td>\n",
       "      <td>1146.0</td>\n",
       "      <td>984.0</td>\n",
       "      <td>1145.0</td>\n",
       "      <td>1625.0</td>\n",
       "      <td>830.0</td>\n",
       "      <td>CAATTCCTGGGAGTTAAACTTTA</td>\n",
       "    </tr>\n",
       "    <tr>\n",
       "      <th>2</th>\n",
       "      <td>A2M</td>\n",
       "      <td>740.0</td>\n",
       "      <td>537.0</td>\n",
       "      <td>520.0</td>\n",
       "      <td>836.0</td>\n",
       "      <td>363.0</td>\n",
       "      <td>TGGCGGGCTAAATAGAATCCCTG</td>\n",
       "    </tr>\n",
       "    <tr>\n",
       "      <th>3</th>\n",
       "      <td>A2ML1</td>\n",
       "      <td>909.0</td>\n",
       "      <td>832.0</td>\n",
       "      <td>1077.0</td>\n",
       "      <td>907.0</td>\n",
       "      <td>728.0</td>\n",
       "      <td>CCATTATGAATACTCAGCTCTGG</td>\n",
       "    </tr>\n",
       "    <tr>\n",
       "      <th>4</th>\n",
       "      <td>A3GALT2</td>\n",
       "      <td>149.0</td>\n",
       "      <td>122.0</td>\n",
       "      <td>79.0</td>\n",
       "      <td>201.0</td>\n",
       "      <td>134.0</td>\n",
       "      <td>AGGTGATTGGCCCCAAAAGGGTT</td>\n",
       "    </tr>\n",
       "  </tbody>\n",
       "</table>\n",
       "</div>"
      ],
      "text/plain": [
       "  Construct IDs    pDNA  untreated_repA  untreated_repB  Selumetinib_repA  \\\n",
       "0          A1BG   431.0           297.0           354.0             289.0   \n",
       "1          A1CF  1146.0           984.0          1145.0            1625.0   \n",
       "2           A2M   740.0           537.0           520.0             836.0   \n",
       "3         A2ML1   909.0           832.0          1077.0             907.0   \n",
       "4       A3GALT2   149.0           122.0            79.0             201.0   \n",
       "\n",
       "   Selumetinib_repB        Construct Barcode  \n",
       "0             185.0  AGCCCCGGCACTCTCCACTTGAC  \n",
       "1             830.0  CAATTCCTGGGAGTTAAACTTTA  \n",
       "2             363.0  TGGCGGGCTAAATAGAATCCCTG  \n",
       "3             728.0  CCATTATGAATACTCAGCTCTGG  \n",
       "4             134.0  AGGTGATTGGCCCCAAAAGGGTT  "
      ]
     },
     "execution_count": 8,
     "metadata": {},
     "output_type": "execute_result"
    }
   ],
   "source": [
    "OG_read_counts.head()"
   ]
  },
  {
   "cell_type": "code",
   "execution_count": 9,
   "id": "b76194c4",
   "metadata": {},
   "outputs": [],
   "source": [
    "#calculating lognorms\n",
    "OG_lognorms = pool.lognorm_columns(reads_df=OG_read_counts, columns=['pDNA', 'untreated_repA',\n",
    "                                                                     'untreated_repB','Selumetinib_repA',\n",
    "                                                                     'Selumetinib_repB'])\n"
   ]
  },
  {
   "cell_type": "code",
   "execution_count": 10,
   "id": "5aa48b00",
   "metadata": {},
   "outputs": [
    {
     "data": {
      "text/html": [
       "<div>\n",
       "<style scoped>\n",
       "    .dataframe tbody tr th:only-of-type {\n",
       "        vertical-align: middle;\n",
       "    }\n",
       "\n",
       "    .dataframe tbody tr th {\n",
       "        vertical-align: top;\n",
       "    }\n",
       "\n",
       "    .dataframe thead th {\n",
       "        text-align: right;\n",
       "    }\n",
       "</style>\n",
       "<table border=\"1\" class=\"dataframe\">\n",
       "  <thead>\n",
       "    <tr style=\"text-align: right;\">\n",
       "      <th></th>\n",
       "      <th>Construct IDs</th>\n",
       "      <th>pDNA</th>\n",
       "      <th>untreated_repA</th>\n",
       "      <th>untreated_repB</th>\n",
       "      <th>Selumetinib_repA</th>\n",
       "      <th>Selumetinib_repB</th>\n",
       "      <th>Construct Barcode</th>\n",
       "    </tr>\n",
       "  </thead>\n",
       "  <tbody>\n",
       "    <tr>\n",
       "      <th>0</th>\n",
       "      <td>A1BG</td>\n",
       "      <td>4.832047</td>\n",
       "      <td>4.484639</td>\n",
       "      <td>4.710410</td>\n",
       "      <td>4.044072</td>\n",
       "      <td>3.967086</td>\n",
       "      <td>AGCCCCGGCACTCTCCACTTGAC</td>\n",
       "    </tr>\n",
       "    <tr>\n",
       "      <th>1</th>\n",
       "      <td>A1CF</td>\n",
       "      <td>6.210941</td>\n",
       "      <td>6.167127</td>\n",
       "      <td>6.365356</td>\n",
       "      <td>6.461615</td>\n",
       "      <td>6.059142</td>\n",
       "      <td>CAATTCCTGGGAGTTAAACTTTA</td>\n",
       "    </tr>\n",
       "    <tr>\n",
       "      <th>2</th>\n",
       "      <td>A2M</td>\n",
       "      <td>5.590577</td>\n",
       "      <td>5.310007</td>\n",
       "      <td>5.247473</td>\n",
       "      <td>5.518117</td>\n",
       "      <td>4.893571</td>\n",
       "      <td>TGGCGGGCTAAATAGAATCCCTG</td>\n",
       "    </tr>\n",
       "    <tr>\n",
       "      <th>3</th>\n",
       "      <td>A2ML1</td>\n",
       "      <td>5.881755</td>\n",
       "      <td>5.928716</td>\n",
       "      <td>6.278132</td>\n",
       "      <td>5.633250</td>\n",
       "      <td>5.872998</td>\n",
       "      <td>CCATTATGAATACTCAGCTCTGG</td>\n",
       "    </tr>\n",
       "    <tr>\n",
       "      <th>4</th>\n",
       "      <td>A3GALT2</td>\n",
       "      <td>3.392483</td>\n",
       "      <td>3.290653</td>\n",
       "      <td>2.726686</td>\n",
       "      <td>3.557988</td>\n",
       "      <td>3.536483</td>\n",
       "      <td>AGGTGATTGGCCCCAAAAGGGTT</td>\n",
       "    </tr>\n",
       "  </tbody>\n",
       "</table>\n",
       "</div>"
      ],
      "text/plain": [
       "  Construct IDs      pDNA  untreated_repA  untreated_repB  Selumetinib_repA  \\\n",
       "0          A1BG  4.832047        4.484639        4.710410          4.044072   \n",
       "1          A1CF  6.210941        6.167127        6.365356          6.461615   \n",
       "2           A2M  5.590577        5.310007        5.247473          5.518117   \n",
       "3         A2ML1  5.881755        5.928716        6.278132          5.633250   \n",
       "4       A3GALT2  3.392483        3.290653        2.726686          3.557988   \n",
       "\n",
       "   Selumetinib_repB        Construct Barcode  \n",
       "0          3.967086  AGCCCCGGCACTCTCCACTTGAC  \n",
       "1          6.059142  CAATTCCTGGGAGTTAAACTTTA  \n",
       "2          4.893571  TGGCGGGCTAAATAGAATCCCTG  \n",
       "3          5.872998  CCATTATGAATACTCAGCTCTGG  \n",
       "4          3.536483  AGGTGATTGGCCCCAAAAGGGTT  "
      ]
     },
     "execution_count": 10,
     "metadata": {},
     "output_type": "execute_result"
    }
   ],
   "source": [
    "OG_lognorms.head()"
   ]
  },
  {
   "cell_type": "code",
   "execution_count": 11,
   "id": "37f9d311",
   "metadata": {},
   "outputs": [
    {
     "name": "stdout",
     "output_type": "stream",
     "text": [
      "Filtered 108 rows due to low pDNA abundance\n"
     ]
    }
   ],
   "source": [
    "# remove pDNA with low abundance\n",
    "OG_filtered_lognorms = pool.filter_pdna(lognorm_df=OG_lognorms, pdna_cols=['pDNA'], z_low=-3)\n",
    "print('Filtered ' + str(OG_lognorms.shape[0] - OG_filtered_lognorms.shape[0]) + ' rows due to low pDNA abundance')"
   ]
  },
  {
   "cell_type": "markdown",
   "id": "8cfc676f",
   "metadata": {},
   "source": [
    "### Dropout - pdna (viability effect)"
   ]
  },
  {
   "cell_type": "code",
   "execution_count": 12,
   "id": "33513779",
   "metadata": {},
   "outputs": [],
   "source": [
    "#calculating lfc from pDNA\n",
    "OG_lfc_df_from_pDNA = pool.calculate_lfcs(lognorm_df=OG_filtered_lognorms, ref_col='pDNA', \n",
    "                             target_cols=['untreated_repA','untreated_repB','Selumetinib_repA',\n",
    "                                                                     'Selumetinib_repB'])"
   ]
  },
  {
   "cell_type": "code",
   "execution_count": 13,
   "id": "08c28b1f",
   "metadata": {},
   "outputs": [],
   "source": [
    "#calculating avg lfc for untreated samples\n",
    "OG_lfc_df_from_pDNA['avg_lfc_untreated'] = OG_lfc_df_from_pDNA[['untreated_repA', 'untreated_repB']].mean(axis=1)"
   ]
  },
  {
   "cell_type": "code",
   "execution_count": 14,
   "id": "75163734",
   "metadata": {},
   "outputs": [
    {
     "data": {
      "text/plain": [
       "Text(0.5, 1.0, 'Wide p65 setB: Viability effect')"
      ]
     },
     "execution_count": 14,
     "metadata": {},
     "output_type": "execute_result"
    },
    {
     "data": {
      "image/png": "[encoded data removed]",
      "text/plain": [
       "<Figure size 288x288 with 1 Axes>"
      ]
     },
     "metadata": {
      "needs_background": "light"
     },
     "output_type": "display_data"
    }
   ],
   "source": [
    "#plotting dropout replicate correlations (lfc from pDNA)\n",
    "plt.subplots(figsize=(4,4))\n",
    "gpplot.point_densityplot(data=OG_lfc_df_from_pDNA, x='untreated_repA', y='untreated_repB')\n",
    "gpplot.add_correlation(data=OG_lfc_df_from_pDNA, x='untreated_repA', y='untreated_repB')\n",
    "sns.despine()\n",
    "plt.xlabel('untreated repA LFC')\n",
    "plt.ylabel('untreated repB LFC')\n",
    "plt.title('Wide p65 setB: Viability effect')\n"
   ]
  },
  {
   "cell_type": "markdown",
   "id": "f2f040b5",
   "metadata": {},
   "source": [
    "### Selumetinib - Dropout \n"
   ]
  },
  {
   "cell_type": "code",
   "execution_count": 15,
   "id": "734affeb",
   "metadata": {},
   "outputs": [],
   "source": [
    "OG_filtered_lognorms_repA = OG_filtered_lognorms[['Construct Barcode', 'Construct IDs','Selumetinib_repA','untreated_repA']]\n",
    "OG_filtered_lognorms_repB = OG_filtered_lognorms[['Construct Barcode', 'Construct IDs','Selumetinib_repB','untreated_repB']]"
   ]
  },
  {
   "cell_type": "code",
   "execution_count": 16,
   "id": "72f0d7c6",
   "metadata": {},
   "outputs": [],
   "source": [
    "#calculating lfc from dropout\n",
    "OG_lfc_df_from_dropout_repA = pool.calculate_lfcs(lognorm_df=OG_filtered_lognorms_repA, ref_col='untreated_repA', \n",
    "                             target_cols=['Selumetinib_repA'])"
   ]
  },
  {
   "cell_type": "code",
   "execution_count": 17,
   "id": "4dd462d5",
   "metadata": {},
   "outputs": [],
   "source": [
    "OG_lfc_df_from_dropout_repB = pool.calculate_lfcs(lognorm_df=OG_filtered_lognorms_repB, ref_col='untreated_repB', \n",
    "                             target_cols=['Selumetinib_repB'])"
   ]
  },
  {
   "cell_type": "code",
   "execution_count": 18,
   "id": "d8e9d953",
   "metadata": {},
   "outputs": [],
   "source": [
    "OG_lfc_df_from_dropout = pd.merge(OG_lfc_df_from_dropout_repA, OG_lfc_df_from_dropout_repB)\n",
    "#calculating avg lfc for selumetinib samples\n",
    "OG_lfc_df_from_dropout['avg_lfc_selumetinib'] = OG_lfc_df_from_dropout[['Selumetinib_repA', 'Selumetinib_repB']].mean(axis=1)"
   ]
  },
  {
   "cell_type": "code",
   "execution_count": 19,
   "id": "f1539af4",
   "metadata": {},
   "outputs": [
    {
     "data": {
      "text/plain": [
       "Text(0.5, 1.0, 'Wide p65 setB: Drug effect')"
      ]
     },
     "execution_count": 19,
     "metadata": {},
     "output_type": "execute_result"
    },
    {
     "data": {
      "image/png": "[encoded data removed]",
      "text/plain": [
       "<Figure size 288x288 with 1 Axes>"
      ]
     },
     "metadata": {
      "needs_background": "light"
     },
     "output_type": "display_data"
    }
   ],
   "source": [
    "plt.subplots(figsize=(4,4))\n",
    "gpplot.point_densityplot(data=OG_lfc_df_from_dropout, x='Selumetinib_repA', y='Selumetinib_repB')\n",
    "gpplot.add_correlation(data=OG_lfc_df_from_dropout, x='Selumetinib_repA', y='Selumetinib_repB')\n",
    "sns.despine()\n",
    "plt.xlabel('Selumetinib repA LFC')\n",
    "plt.ylabel('Selumetinib repB LFC')\n",
    "plt.title('Wide p65 setB: Drug effect')\n"
   ]
  },
  {
   "cell_type": "markdown",
   "id": "23700b65",
   "metadata": {},
   "source": [
    "# 4 Calculate Z-scores"
   ]
  },
  {
   "cell_type": "markdown",
   "id": "ecd5891f",
   "metadata": {},
   "source": [
    "#### Drug Screens"
   ]
  },
  {
   "cell_type": "code",
   "execution_count": 20,
   "id": "7d901956",
   "metadata": {},
   "outputs": [],
   "source": [
    "# find the olfactory gene mean and sd\n",
    "olfactory_gene_df = OG_lfc_df_from_dropout[OG_lfc_df_from_dropout['Construct IDs'].isin(olfactory_gene)]\n",
    "olfactory_mean = statistics.mean(olfactory_gene_df.avg_lfc_selumetinib)\n",
    "olfactory_sd = statistics.stdev(olfactory_gene_df.avg_lfc_selumetinib)"
   ]
  },
  {
   "cell_type": "code",
   "execution_count": 21,
   "id": "7d8157b0",
   "metadata": {},
   "outputs": [
    {
     "data": {
      "text/html": [
       "<div>\n",
       "<style scoped>\n",
       "    .dataframe tbody tr th:only-of-type {\n",
       "        vertical-align: middle;\n",
       "    }\n",
       "\n",
       "    .dataframe tbody tr th {\n",
       "        vertical-align: top;\n",
       "    }\n",
       "\n",
       "    .dataframe thead th {\n",
       "        text-align: right;\n",
       "    }\n",
       "</style>\n",
       "<table border=\"1\" class=\"dataframe\">\n",
       "  <thead>\n",
       "    <tr style=\"text-align: right;\">\n",
       "      <th></th>\n",
       "      <th>Construct Barcode</th>\n",
       "      <th>Construct IDs</th>\n",
       "      <th>Selumetinib_repA</th>\n",
       "      <th>Selumetinib_repB</th>\n",
       "      <th>avg_lfc_selumetinib</th>\n",
       "      <th>z_scored_olfactory_gene</th>\n",
       "    </tr>\n",
       "  </thead>\n",
       "  <tbody>\n",
       "    <tr>\n",
       "      <th>0</th>\n",
       "      <td>AGCCCCGGCACTCTCCACTTGAC</td>\n",
       "      <td>A1BG</td>\n",
       "      <td>-0.440567</td>\n",
       "      <td>-0.743324</td>\n",
       "      <td>-0.591946</td>\n",
       "      <td>-1.497798</td>\n",
       "    </tr>\n",
       "    <tr>\n",
       "      <th>1</th>\n",
       "      <td>CAATTCCTGGGAGTTAAACTTTA</td>\n",
       "      <td>A1CF</td>\n",
       "      <td>0.294488</td>\n",
       "      <td>-0.306214</td>\n",
       "      <td>-0.005863</td>\n",
       "      <td>0.133091</td>\n",
       "    </tr>\n",
       "    <tr>\n",
       "      <th>2</th>\n",
       "      <td>TGGCGGGCTAAATAGAATCCCTG</td>\n",
       "      <td>A2M</td>\n",
       "      <td>0.208110</td>\n",
       "      <td>-0.353902</td>\n",
       "      <td>-0.072896</td>\n",
       "      <td>-0.053440</td>\n",
       "    </tr>\n",
       "    <tr>\n",
       "      <th>3</th>\n",
       "      <td>CCATTATGAATACTCAGCTCTGG</td>\n",
       "      <td>A2ML1</td>\n",
       "      <td>-0.295465</td>\n",
       "      <td>-0.405134</td>\n",
       "      <td>-0.350300</td>\n",
       "      <td>-0.825371</td>\n",
       "    </tr>\n",
       "    <tr>\n",
       "      <th>4</th>\n",
       "      <td>AGGTGATTGGCCCCAAAAGGGTT</td>\n",
       "      <td>A3GALT2</td>\n",
       "      <td>0.267335</td>\n",
       "      <td>0.809797</td>\n",
       "      <td>0.538566</td>\n",
       "      <td>1.648072</td>\n",
       "    </tr>\n",
       "  </tbody>\n",
       "</table>\n",
       "</div>"
      ],
      "text/plain": [
       "         Construct Barcode Construct IDs  Selumetinib_repA  Selumetinib_repB  \\\n",
       "0  AGCCCCGGCACTCTCCACTTGAC          A1BG         -0.440567         -0.743324   \n",
       "1  CAATTCCTGGGAGTTAAACTTTA          A1CF          0.294488         -0.306214   \n",
       "2  TGGCGGGCTAAATAGAATCCCTG           A2M          0.208110         -0.353902   \n",
       "3  CCATTATGAATACTCAGCTCTGG         A2ML1         -0.295465         -0.405134   \n",
       "4  AGGTGATTGGCCCCAAAAGGGTT       A3GALT2          0.267335          0.809797   \n",
       "\n",
       "   avg_lfc_selumetinib  z_scored_olfactory_gene  \n",
       "0            -0.591946                -1.497798  \n",
       "1            -0.005863                 0.133091  \n",
       "2            -0.072896                -0.053440  \n",
       "3            -0.350300                -0.825371  \n",
       "4             0.538566                 1.648072  "
      ]
     },
     "execution_count": 21,
     "metadata": {},
     "output_type": "execute_result"
    }
   ],
   "source": [
    "# Z-score in respect to the olfactory genes\n",
    "OG_lfc_df_from_dropout['z_scored_olfactory_gene'] = (OG_lfc_df_from_dropout.avg_lfc_selumetinib - olfactory_mean)/olfactory_sd\n",
    "OG_lfc_df_from_dropout.head()"
   ]
  },
  {
   "cell_type": "code",
   "execution_count": 22,
   "id": "18a33c85",
   "metadata": {},
   "outputs": [],
   "source": [
    "OG_lfc_df_from_dropout.to_csv('primary screen processed data/wide_p65_setb_lfc_drug_effect.csv',\n",
    "                             index = False)\n"
   ]
  },
  {
   "cell_type": "markdown",
   "id": "95fcd804",
   "metadata": {},
   "source": [
    "#### Viability effect"
   ]
  },
  {
   "cell_type": "code",
   "execution_count": 23,
   "id": "5ae198b6",
   "metadata": {},
   "outputs": [],
   "source": [
    "# find the olfactory gene mean and sd\n",
    "olfactory_gene_df_via = OG_lfc_df_from_pDNA[OG_lfc_df_from_pDNA['Construct IDs'].isin(olfactory_gene)]\n",
    "olfactory_mean_via = statistics.mean(olfactory_gene_df_via.avg_lfc_untreated)\n",
    "olfactory_sd_via = statistics.stdev(olfactory_gene_df_via.avg_lfc_untreated)"
   ]
  },
  {
   "cell_type": "code",
   "execution_count": 24,
   "id": "80aae974",
   "metadata": {},
   "outputs": [
    {
     "data": {
      "text/html": [
       "<div>\n",
       "<style scoped>\n",
       "    .dataframe tbody tr th:only-of-type {\n",
       "        vertical-align: middle;\n",
       "    }\n",
       "\n",
       "    .dataframe tbody tr th {\n",
       "        vertical-align: top;\n",
       "    }\n",
       "\n",
       "    .dataframe thead th {\n",
       "        text-align: right;\n",
       "    }\n",
       "</style>\n",
       "<table border=\"1\" class=\"dataframe\">\n",
       "  <thead>\n",
       "    <tr style=\"text-align: right;\">\n",
       "      <th></th>\n",
       "      <th>Construct IDs</th>\n",
       "      <th>untreated_repA</th>\n",
       "      <th>untreated_repB</th>\n",
       "      <th>Selumetinib_repA</th>\n",
       "      <th>Selumetinib_repB</th>\n",
       "      <th>Construct Barcode</th>\n",
       "      <th>avg_lfc_untreated</th>\n",
       "      <th>z_scored_olfactory_gene</th>\n",
       "    </tr>\n",
       "  </thead>\n",
       "  <tbody>\n",
       "    <tr>\n",
       "      <th>0</th>\n",
       "      <td>A1BG</td>\n",
       "      <td>-0.347407</td>\n",
       "      <td>-0.121636</td>\n",
       "      <td>-0.787974</td>\n",
       "      <td>-0.864960</td>\n",
       "      <td>AGCCCCGGCACTCTCCACTTGAC</td>\n",
       "      <td>-0.234522</td>\n",
       "      <td>-0.545430</td>\n",
       "    </tr>\n",
       "    <tr>\n",
       "      <th>1</th>\n",
       "      <td>A1CF</td>\n",
       "      <td>-0.043814</td>\n",
       "      <td>0.154415</td>\n",
       "      <td>0.250674</td>\n",
       "      <td>-0.151799</td>\n",
       "      <td>CAATTCCTGGGAGTTAAACTTTA</td>\n",
       "      <td>0.055301</td>\n",
       "      <td>0.086169</td>\n",
       "    </tr>\n",
       "    <tr>\n",
       "      <th>2</th>\n",
       "      <td>A2M</td>\n",
       "      <td>-0.280571</td>\n",
       "      <td>-0.343105</td>\n",
       "      <td>-0.072460</td>\n",
       "      <td>-0.697006</td>\n",
       "      <td>TGGCGGGCTAAATAGAATCCCTG</td>\n",
       "      <td>-0.311838</td>\n",
       "      <td>-0.713922</td>\n",
       "    </tr>\n",
       "    <tr>\n",
       "      <th>3</th>\n",
       "      <td>A2ML1</td>\n",
       "      <td>0.046960</td>\n",
       "      <td>0.396376</td>\n",
       "      <td>-0.248505</td>\n",
       "      <td>-0.008758</td>\n",
       "      <td>CCATTATGAATACTCAGCTCTGG</td>\n",
       "      <td>0.221668</td>\n",
       "      <td>0.448727</td>\n",
       "    </tr>\n",
       "    <tr>\n",
       "      <th>4</th>\n",
       "      <td>A3GALT2</td>\n",
       "      <td>-0.101829</td>\n",
       "      <td>-0.665796</td>\n",
       "      <td>0.165505</td>\n",
       "      <td>0.144001</td>\n",
       "      <td>AGGTGATTGGCCCCAAAAGGGTT</td>\n",
       "      <td>-0.383813</td>\n",
       "      <td>-0.870774</td>\n",
       "    </tr>\n",
       "  </tbody>\n",
       "</table>\n",
       "</div>"
      ],
      "text/plain": [
       "  Construct IDs  untreated_repA  untreated_repB  Selumetinib_repA  \\\n",
       "0          A1BG       -0.347407       -0.121636         -0.787974   \n",
       "1          A1CF       -0.043814        0.154415          0.250674   \n",
       "2           A2M       -0.280571       -0.343105         -0.072460   \n",
       "3         A2ML1        0.046960        0.396376         -0.248505   \n",
       "4       A3GALT2       -0.101829       -0.665796          0.165505   \n",
       "\n",
       "   Selumetinib_repB        Construct Barcode  avg_lfc_untreated  \\\n",
       "0         -0.864960  AGCCCCGGCACTCTCCACTTGAC          -0.234522   \n",
       "1         -0.151799  CAATTCCTGGGAGTTAAACTTTA           0.055301   \n",
       "2         -0.697006  TGGCGGGCTAAATAGAATCCCTG          -0.311838   \n",
       "3         -0.008758  CCATTATGAATACTCAGCTCTGG           0.221668   \n",
       "4          0.144001  AGGTGATTGGCCCCAAAAGGGTT          -0.383813   \n",
       "\n",
       "   z_scored_olfactory_gene  \n",
       "0                -0.545430  \n",
       "1                 0.086169  \n",
       "2                -0.713922  \n",
       "3                 0.448727  \n",
       "4                -0.870774  "
      ]
     },
     "execution_count": 24,
     "metadata": {},
     "output_type": "execute_result"
    }
   ],
   "source": [
    "# Z-score in respect to the olfactory genes\n",
    "OG_lfc_df_from_pDNA['z_scored_olfactory_gene'] = (OG_lfc_df_from_pDNA.avg_lfc_untreated - olfactory_mean_via)/olfactory_sd_via\n",
    "OG_lfc_df_from_pDNA.head()"
   ]
  },
  {
   "cell_type": "code",
   "execution_count": 25,
   "id": "f547b572",
   "metadata": {},
   "outputs": [],
   "source": [
    "OG_lfc_df_from_pDNA.to_csv('../../manuscript data/primary screen processed data/wide_p65_setb_lfc_viability_effect.csv',\n",
    "                             index = False)\n"
   ]
  }
 ],
 "metadata": {
  "kernelspec": {
   "display_name": "Python 3 (ipykernel)",
   "language": "python",
   "name": "python3"
  },
  "language_info": {
   "codemirror_mode": {
    "name": "ipython",
    "version": 3
   },
   "file_extension": ".py",
   "mimetype": "text/x-python",
   "name": "python",
   "nbconvert_exporter": "python",
   "pygments_lexer": "ipython3",
   "version": "3.8.13"
  }
 },
 "nbformat": 4,
 "nbformat_minor": 5
}
