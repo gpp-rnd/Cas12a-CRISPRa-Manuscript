{
 "cells": [
  {
   "cell_type": "markdown",
   "id": "51598699",
   "metadata": {},
   "source": [
    "# 0 Import packages"
   ]
  },
  {
   "cell_type": "code",
   "execution_count": 26,
   "id": "166a924c",
   "metadata": {},
   "outputs": [],
   "source": [
    "import pandas as pd\n",
    "from poola import core as pool\n",
    "import seaborn as sns\n",
    "import gpplot\n",
    "import matplotlib.pyplot as plt\n",
    "import matplotlib as mpl\n",
    "import numpy as np\n",
    "import gpplot as gpp\n",
    "import function as f\n",
    "import statistics \n",
    "import scipy.stats as stats\n",
    "import researchpy as rp\n",
    "import re\n",
    "\n",
    "pd.set_option('max_colwidth', None)"
   ]
  },
  {
   "cell_type": "markdown",
   "id": "06672997",
   "metadata": {},
   "source": [
    "# 1 Import Files"
   ]
  },
  {
   "cell_type": "code",
   "execution_count": 2,
   "id": "c701d863",
   "metadata": {},
   "outputs": [],
   "source": [
    "path = ('../../manuscript data/Supplementary Data Files/')\n",
    "supp_data_3 = pd.read_excel(path + '/Supplementary Data 3.xlsx', 'Library annotation')\n",
    "supp_data_3 = supp_data_3[(supp_data_3['Design window'] == 'narrow') & (supp_data_3['Set'] == 'A')]\n",
    "\n",
    "narrow_seta_anno = pd.read_excel(path + '/Supplementary Data 3.xlsx', 'SetA;Narrow',skiprows=2, \n",
    "                                 names = ['Construct IDs',\n",
    "                                          'pDNA_Narrow_VP64_setA',\n",
    "                                          'pDNA_Narrow_p65_setA',\n",
    "                                          'Narrow_VP64_setA_untreated_repA',\n",
    "                                          'Narrow_VP64_setA_untreated_repB',\n",
    "                                          'Narrow_VP64_setA_Selumetinib_repA',\n",
    "                                          'Narrow_VP64_setA_Selumetinib_repB',\n",
    "                                          'Narrow_p65_setA_untreated_repA',\n",
    "                                          'Narrow_p65_setA_untreated_repB',\n",
    "                                          'Narrow_p65_setA_Selumetinib_repA',\n",
    "                                          'Narrow_p65_setA_Selumetinib_repB'])"
   ]
  },
  {
   "cell_type": "code",
   "execution_count": 3,
   "id": "e773470b",
   "metadata": {},
   "outputs": [],
   "source": [
    "narrow_vp64_seta = pd.merge(narrow_seta_anno[['Construct IDs',\n",
    "                                          'pDNA_Narrow_VP64_setA',\n",
    "                                          'Narrow_VP64_setA_untreated_repA',\n",
    "                                          'Narrow_VP64_setA_untreated_repB',\n",
    "                                          'Narrow_VP64_setA_Selumetinib_repA',\n",
    "                                          'Narrow_VP64_setA_Selumetinib_repB']],\n",
    "         supp_data_3[['Guide 1', 'Gene Symbol']].\n",
    "                           rename(columns={'Guide 1': 'Construct Barcode','Gene Symbol':'Construct IDs'}),\n",
    "         on = 'Construct IDs')\n",
    "         "
   ]
  },
  {
   "cell_type": "code",
   "execution_count": 4,
   "id": "4378fb3f",
   "metadata": {},
   "outputs": [
    {
     "data": {
      "text/html": [
       "<div>\n",
       "<style scoped>\n",
       "    .dataframe tbody tr th:only-of-type {\n",
       "        vertical-align: middle;\n",
       "    }\n",
       "\n",
       "    .dataframe tbody tr th {\n",
       "        vertical-align: top;\n",
       "    }\n",
       "\n",
       "    .dataframe thead th {\n",
       "        text-align: right;\n",
       "    }\n",
       "</style>\n",
       "<table border=\"1\" class=\"dataframe\">\n",
       "  <thead>\n",
       "    <tr style=\"text-align: right;\">\n",
       "      <th></th>\n",
       "      <th>Construct IDs</th>\n",
       "      <th>pDNA_Narrow_VP64_setA</th>\n",
       "      <th>Narrow_VP64_setA_untreated_repA</th>\n",
       "      <th>Narrow_VP64_setA_untreated_repB</th>\n",
       "      <th>Narrow_VP64_setA_Selumetinib_repA</th>\n",
       "      <th>Narrow_VP64_setA_Selumetinib_repB</th>\n",
       "      <th>Construct Barcode</th>\n",
       "    </tr>\n",
       "  </thead>\n",
       "  <tbody>\n",
       "    <tr>\n",
       "      <th>0</th>\n",
       "      <td>A1BG</td>\n",
       "      <td>640.0</td>\n",
       "      <td>628.0</td>\n",
       "      <td>663.0</td>\n",
       "      <td>541.0</td>\n",
       "      <td>436.0</td>\n",
       "      <td>TCCTTCCCGGAAGGCGGGGGCAG</td>\n",
       "    </tr>\n",
       "    <tr>\n",
       "      <th>1</th>\n",
       "      <td>A1CF</td>\n",
       "      <td>609.0</td>\n",
       "      <td>418.0</td>\n",
       "      <td>425.0</td>\n",
       "      <td>467.0</td>\n",
       "      <td>371.0</td>\n",
       "      <td>CAATTCCTGGGAGTTAAACTTTA</td>\n",
       "    </tr>\n",
       "    <tr>\n",
       "      <th>2</th>\n",
       "      <td>A2M</td>\n",
       "      <td>594.0</td>\n",
       "      <td>869.0</td>\n",
       "      <td>1237.0</td>\n",
       "      <td>1986.0</td>\n",
       "      <td>1637.0</td>\n",
       "      <td>GCCCGCCAGGAATTAACCTTGAC</td>\n",
       "    </tr>\n",
       "    <tr>\n",
       "      <th>3</th>\n",
       "      <td>A2ML1</td>\n",
       "      <td>525.0</td>\n",
       "      <td>700.0</td>\n",
       "      <td>567.0</td>\n",
       "      <td>792.0</td>\n",
       "      <td>518.0</td>\n",
       "      <td>CTCCTTCTGTAACCACCAGGTTA</td>\n",
       "    </tr>\n",
       "    <tr>\n",
       "      <th>4</th>\n",
       "      <td>A3GALT2</td>\n",
       "      <td>460.0</td>\n",
       "      <td>518.0</td>\n",
       "      <td>554.0</td>\n",
       "      <td>646.0</td>\n",
       "      <td>556.0</td>\n",
       "      <td>TGAGGAGCTGCACCCACAGGAGC</td>\n",
       "    </tr>\n",
       "  </tbody>\n",
       "</table>\n",
       "</div>"
      ],
      "text/plain": [
       "  Construct IDs  pDNA_Narrow_VP64_setA  Narrow_VP64_setA_untreated_repA  \\\n",
       "0  A1BG          640.0                  628.0                             \n",
       "1  A1CF          609.0                  418.0                             \n",
       "2  A2M           594.0                  869.0                             \n",
       "3  A2ML1         525.0                  700.0                             \n",
       "4  A3GALT2       460.0                  518.0                             \n",
       "\n",
       "   Narrow_VP64_setA_untreated_repB  Narrow_VP64_setA_Selumetinib_repA  \\\n",
       "0  663.0                            541.0                               \n",
       "1  425.0                            467.0                               \n",
       "2  1237.0                           1986.0                              \n",
       "3  567.0                            792.0                               \n",
       "4  554.0                            646.0                               \n",
       "\n",
       "   Narrow_VP64_setA_Selumetinib_repB        Construct Barcode  \n",
       "0  436.0                              TCCTTCCCGGAAGGCGGGGGCAG  \n",
       "1  371.0                              CAATTCCTGGGAGTTAAACTTTA  \n",
       "2  1637.0                             GCCCGCCAGGAATTAACCTTGAC  \n",
       "3  518.0                              CTCCTTCTGTAACCACCAGGTTA  \n",
       "4  556.0                              TGAGGAGCTGCACCCACAGGAGC  "
      ]
     },
     "execution_count": 4,
     "metadata": {},
     "output_type": "execute_result"
    }
   ],
   "source": [
    "narrow_vp64_seta.head()"
   ]
  },
  {
   "cell_type": "markdown",
   "id": "d2bbcf2f",
   "metadata": {},
   "source": [
    "# 2 Find Olfactory Genes"
   ]
  },
  {
   "cell_type": "code",
   "execution_count": 5,
   "id": "8db4b6d8",
   "metadata": {},
   "outputs": [],
   "source": [
    "\n",
    "olfactory_gene = [gene for gene in narrow_vp64_seta['Construct IDs'].tolist() if gene.startswith('OR')]\n",
    "# A nomenclature system has been devised for the olfactory receptor family[33] and is the basis for the official Human Genome Project (HUGO) symbols for the genes that encode these receptors. The names of individual olfactory receptor family members are in the format \"ORnXm\" where:\n",
    "\n",
    "# OR is the root name (Olfactory Receptor superfamily)\n",
    "# n = an integer representing a family (e.g., 1-56) whose members have greater than 40% sequence identity,\n",
    "# X = a single letter (A, B, C, ...) denoting a subfamily (>60% sequence identity), and\n",
    "# m = an integer representing an individual family member (isoform).\n",
    "# checked X could be mutiple letters\n",
    "\n",
    "ofg_l = []\n",
    "no_ofg_l = []\n",
    "for ofg in olfactory_gene:\n",
    "    match = re.search('^OR\\d{1,2}[A-Z]{1,2}[0-9]?[0-9]', ofg)\n",
    "    if match:\n",
    "        ofg_l.append(ofg)\n",
    "    else:\n",
    "        no_ofg_l.append(ofg)\n",
    "        \n",
    "\n",
    "\n",
    "olfactory_gene = ofg_l\n"
   ]
  },
  {
   "cell_type": "markdown",
   "id": "1e4bca7f",
   "metadata": {},
   "source": [
    "# 3 Calculate LFC "
   ]
  },
  {
   "cell_type": "code",
   "execution_count": 6,
   "id": "7dd9a77c",
   "metadata": {},
   "outputs": [],
   "source": [
    "OG_read_counts = narrow_vp64_seta"
   ]
  },
  {
   "cell_type": "code",
   "execution_count": 7,
   "id": "52454822",
   "metadata": {},
   "outputs": [],
   "source": [
    "OG_read_counts.rename(columns = {'pDNA_Narrow_VP64_setA':\"pDNA\", \n",
    "                                 'Narrow_VP64_setA_untreated_repA':\"untreated_repA\",\n",
    "                                 'Narrow_VP64_setA_untreated_repB':\"untreated_repB\", \n",
    "                                 'Narrow_VP64_setA_Selumetinib_repA':\"Selumetinib_repA\",\n",
    "                                 'Narrow_VP64_setA_Selumetinib_repB':\"Selumetinib_repB\"\n",
    "                                }, inplace= True)\n"
   ]
  },
  {
   "cell_type": "code",
   "execution_count": 8,
   "id": "a2826445",
   "metadata": {},
   "outputs": [
    {
     "data": {
      "text/html": [
       "<div>\n",
       "<style scoped>\n",
       "    .dataframe tbody tr th:only-of-type {\n",
       "        vertical-align: middle;\n",
       "    }\n",
       "\n",
       "    .dataframe tbody tr th {\n",
       "        vertical-align: top;\n",
       "    }\n",
       "\n",
       "    .dataframe thead th {\n",
       "        text-align: right;\n",
       "    }\n",
       "</style>\n",
       "<table border=\"1\" class=\"dataframe\">\n",
       "  <thead>\n",
       "    <tr style=\"text-align: right;\">\n",
       "      <th></th>\n",
       "      <th>Construct IDs</th>\n",
       "      <th>pDNA</th>\n",
       "      <th>untreated_repA</th>\n",
       "      <th>untreated_repB</th>\n",
       "      <th>Selumetinib_repA</th>\n",
       "      <th>Selumetinib_repB</th>\n",
       "      <th>Construct Barcode</th>\n",
       "    </tr>\n",
       "  </thead>\n",
       "  <tbody>\n",
       "    <tr>\n",
       "      <th>0</th>\n",
       "      <td>A1BG</td>\n",
       "      <td>640.0</td>\n",
       "      <td>628.0</td>\n",
       "      <td>663.0</td>\n",
       "      <td>541.0</td>\n",
       "      <td>436.0</td>\n",
       "      <td>TCCTTCCCGGAAGGCGGGGGCAG</td>\n",
       "    </tr>\n",
       "    <tr>\n",
       "      <th>1</th>\n",
       "      <td>A1CF</td>\n",
       "      <td>609.0</td>\n",
       "      <td>418.0</td>\n",
       "      <td>425.0</td>\n",
       "      <td>467.0</td>\n",
       "      <td>371.0</td>\n",
       "      <td>CAATTCCTGGGAGTTAAACTTTA</td>\n",
       "    </tr>\n",
       "    <tr>\n",
       "      <th>2</th>\n",
       "      <td>A2M</td>\n",
       "      <td>594.0</td>\n",
       "      <td>869.0</td>\n",
       "      <td>1237.0</td>\n",
       "      <td>1986.0</td>\n",
       "      <td>1637.0</td>\n",
       "      <td>GCCCGCCAGGAATTAACCTTGAC</td>\n",
       "    </tr>\n",
       "    <tr>\n",
       "      <th>3</th>\n",
       "      <td>A2ML1</td>\n",
       "      <td>525.0</td>\n",
       "      <td>700.0</td>\n",
       "      <td>567.0</td>\n",
       "      <td>792.0</td>\n",
       "      <td>518.0</td>\n",
       "      <td>CTCCTTCTGTAACCACCAGGTTA</td>\n",
       "    </tr>\n",
       "    <tr>\n",
       "      <th>4</th>\n",
       "      <td>A3GALT2</td>\n",
       "      <td>460.0</td>\n",
       "      <td>518.0</td>\n",
       "      <td>554.0</td>\n",
       "      <td>646.0</td>\n",
       "      <td>556.0</td>\n",
       "      <td>TGAGGAGCTGCACCCACAGGAGC</td>\n",
       "    </tr>\n",
       "  </tbody>\n",
       "</table>\n",
       "</div>"
      ],
      "text/plain": [
       "  Construct IDs   pDNA  untreated_repA  untreated_repB  Selumetinib_repA  \\\n",
       "0  A1BG          640.0  628.0           663.0           541.0              \n",
       "1  A1CF          609.0  418.0           425.0           467.0              \n",
       "2  A2M           594.0  869.0           1237.0          1986.0             \n",
       "3  A2ML1         525.0  700.0           567.0           792.0              \n",
       "4  A3GALT2       460.0  518.0           554.0           646.0              \n",
       "\n",
       "   Selumetinib_repB        Construct Barcode  \n",
       "0  436.0             TCCTTCCCGGAAGGCGGGGGCAG  \n",
       "1  371.0             CAATTCCTGGGAGTTAAACTTTA  \n",
       "2  1637.0            GCCCGCCAGGAATTAACCTTGAC  \n",
       "3  518.0             CTCCTTCTGTAACCACCAGGTTA  \n",
       "4  556.0             TGAGGAGCTGCACCCACAGGAGC  "
      ]
     },
     "execution_count": 8,
     "metadata": {},
     "output_type": "execute_result"
    }
   ],
   "source": [
    "OG_read_counts.head()"
   ]
  },
  {
   "cell_type": "code",
   "execution_count": 9,
   "id": "b76194c4",
   "metadata": {},
   "outputs": [],
   "source": [
    "#calculating lognorms\n",
    "OG_lognorms = pool.lognorm_columns(reads_df=OG_read_counts, columns=['pDNA', 'untreated_repA',\n",
    "                                                                     'untreated_repB','Selumetinib_repA',\n",
    "                                                                     'Selumetinib_repB'])\n"
   ]
  },
  {
   "cell_type": "code",
   "execution_count": 10,
   "id": "5aa48b00",
   "metadata": {},
   "outputs": [
    {
     "data": {
      "text/html": [
       "<div>\n",
       "<style scoped>\n",
       "    .dataframe tbody tr th:only-of-type {\n",
       "        vertical-align: middle;\n",
       "    }\n",
       "\n",
       "    .dataframe tbody tr th {\n",
       "        vertical-align: top;\n",
       "    }\n",
       "\n",
       "    .dataframe thead th {\n",
       "        text-align: right;\n",
       "    }\n",
       "</style>\n",
       "<table border=\"1\" class=\"dataframe\">\n",
       "  <thead>\n",
       "    <tr style=\"text-align: right;\">\n",
       "      <th></th>\n",
       "      <th>Construct IDs</th>\n",
       "      <th>pDNA</th>\n",
       "      <th>untreated_repA</th>\n",
       "      <th>untreated_repB</th>\n",
       "      <th>Selumetinib_repA</th>\n",
       "      <th>Selumetinib_repB</th>\n",
       "      <th>Construct Barcode</th>\n",
       "    </tr>\n",
       "  </thead>\n",
       "  <tbody>\n",
       "    <tr>\n",
       "      <th>0</th>\n",
       "      <td>A1BG</td>\n",
       "      <td>6.249306</td>\n",
       "      <td>6.143738</td>\n",
       "      <td>6.272202</td>\n",
       "      <td>5.699526</td>\n",
       "      <td>5.837727</td>\n",
       "      <td>TCCTTCCCGGAAGGCGGGGGCAG</td>\n",
       "    </tr>\n",
       "    <tr>\n",
       "      <th>1</th>\n",
       "      <td>A1CF</td>\n",
       "      <td>6.178641</td>\n",
       "      <td>5.566691</td>\n",
       "      <td>5.641071</td>\n",
       "      <td>5.491712</td>\n",
       "      <td>5.609231</td>\n",
       "      <td>CAATTCCTGGGAGTTAAACTTTA</td>\n",
       "    </tr>\n",
       "    <tr>\n",
       "      <th>2</th>\n",
       "      <td>A2M</td>\n",
       "      <td>6.143164</td>\n",
       "      <td>6.606659</td>\n",
       "      <td>7.163279</td>\n",
       "      <td>7.555349</td>\n",
       "      <td>7.727755</td>\n",
       "      <td>GCCCGCCAGGAATTAACCTTGAC</td>\n",
       "    </tr>\n",
       "    <tr>\n",
       "      <th>3</th>\n",
       "      <td>A2ML1</td>\n",
       "      <td>5.967699</td>\n",
       "      <td>6.298228</td>\n",
       "      <td>6.049699</td>\n",
       "      <td>6.240573</td>\n",
       "      <td>6.082352</td>\n",
       "      <td>CTCCTTCTGTAACCACCAGGTTA</td>\n",
       "    </tr>\n",
       "    <tr>\n",
       "      <th>4</th>\n",
       "      <td>A3GALT2</td>\n",
       "      <td>5.780269</td>\n",
       "      <td>5.870252</td>\n",
       "      <td>6.016747</td>\n",
       "      <td>5.950912</td>\n",
       "      <td>6.183029</td>\n",
       "      <td>TGAGGAGCTGCACCCACAGGAGC</td>\n",
       "    </tr>\n",
       "  </tbody>\n",
       "</table>\n",
       "</div>"
      ],
      "text/plain": [
       "  Construct IDs      pDNA  untreated_repA  untreated_repB  Selumetinib_repA  \\\n",
       "0  A1BG          6.249306  6.143738        6.272202        5.699526           \n",
       "1  A1CF          6.178641  5.566691        5.641071        5.491712           \n",
       "2  A2M           6.143164  6.606659        7.163279        7.555349           \n",
       "3  A2ML1         5.967699  6.298228        6.049699        6.240573           \n",
       "4  A3GALT2       5.780269  5.870252        6.016747        5.950912           \n",
       "\n",
       "   Selumetinib_repB        Construct Barcode  \n",
       "0  5.837727          TCCTTCCCGGAAGGCGGGGGCAG  \n",
       "1  5.609231          CAATTCCTGGGAGTTAAACTTTA  \n",
       "2  7.727755          GCCCGCCAGGAATTAACCTTGAC  \n",
       "3  6.082352          CTCCTTCTGTAACCACCAGGTTA  \n",
       "4  6.183029          TGAGGAGCTGCACCCACAGGAGC  "
      ]
     },
     "execution_count": 10,
     "metadata": {},
     "output_type": "execute_result"
    }
   ],
   "source": [
    "OG_lognorms.head()"
   ]
  },
  {
   "cell_type": "code",
   "execution_count": 11,
   "id": "37f9d311",
   "metadata": {},
   "outputs": [
    {
     "name": "stdout",
     "output_type": "stream",
     "text": [
      "Filtered 172 rows due to low pDNA abundance\n"
     ]
    }
   ],
   "source": [
    "# remove pDNA with low abundance\n",
    "OG_filtered_lognorms = pool.filter_pdna(lognorm_df=OG_lognorms, pdna_cols=['pDNA'], z_low=-3)\n",
    "print('Filtered ' + str(OG_lognorms.shape[0] - OG_filtered_lognorms.shape[0]) + ' rows due to low pDNA abundance')"
   ]
  },
  {
   "cell_type": "markdown",
   "id": "8cfc676f",
   "metadata": {},
   "source": [
    "### Dropout - pdna (viability effect)"
   ]
  },
  {
   "cell_type": "code",
   "execution_count": 12,
   "id": "33513779",
   "metadata": {},
   "outputs": [],
   "source": [
    "#calculating lfc from pDNA\n",
    "OG_lfc_df_from_pDNA = pool.calculate_lfcs(lognorm_df=OG_filtered_lognorms, ref_col='pDNA', \n",
    "                             target_cols=['untreated_repA','untreated_repB','Selumetinib_repA',\n",
    "                                                                     'Selumetinib_repB'])"
   ]
  },
  {
   "cell_type": "code",
   "execution_count": 13,
   "id": "08c28b1f",
   "metadata": {},
   "outputs": [],
   "source": [
    "#calculating avg lfc for untreated samples\n",
    "OG_lfc_df_from_pDNA['avg_lfc_untreated'] = OG_lfc_df_from_pDNA[['untreated_repA', 'untreated_repB']].mean(axis=1)"
   ]
  },
  {
   "cell_type": "code",
   "execution_count": 14,
   "id": "75163734",
   "metadata": {},
   "outputs": [
    {
     "data": {
      "text/plain": [
       "Text(0.5, 1.0, 'Narrow VP64 setA: Viability effect')"
      ]
     },
     "execution_count": 14,
     "metadata": {},
     "output_type": "execute_result"
    },
    {
     "data": {
      "image/png": "[encoded data removed]",
      "text/plain": [
       "<Figure size 288x288 with 1 Axes>"
      ]
     },
     "metadata": {
      "needs_background": "light"
     },
     "output_type": "display_data"
    }
   ],
   "source": [
    "#plotting dropout replicate correlations (lfc from pDNA)\n",
    "plt.subplots(figsize=(4,4))\n",
    "gpplot.point_densityplot(data=OG_lfc_df_from_pDNA, x='untreated_repA', y='untreated_repB')\n",
    "gpplot.add_correlation(data=OG_lfc_df_from_pDNA, x='untreated_repA', y='untreated_repB')\n",
    "sns.despine()\n",
    "plt.xlabel('untreated repA LFC')\n",
    "plt.ylabel('untreated repB LFC')\n",
    "plt.title('Narrow VP64 setA: Viability effect')\n"
   ]
  },
  {
   "cell_type": "markdown",
   "id": "f2f040b5",
   "metadata": {},
   "source": [
    "### Selumetinib - Dropout \n"
   ]
  },
  {
   "cell_type": "code",
   "execution_count": 15,
   "id": "734affeb",
   "metadata": {},
   "outputs": [],
   "source": [
    "OG_filtered_lognorms_repA = OG_filtered_lognorms[['Construct Barcode', 'Construct IDs','Selumetinib_repA','untreated_repA']]\n",
    "OG_filtered_lognorms_repB = OG_filtered_lognorms[['Construct Barcode', 'Construct IDs','Selumetinib_repB','untreated_repB']]"
   ]
  },
  {
   "cell_type": "code",
   "execution_count": 16,
   "id": "72f0d7c6",
   "metadata": {},
   "outputs": [],
   "source": [
    "#calculating lfc from dropout\n",
    "OG_lfc_df_from_dropout_repA = pool.calculate_lfcs(lognorm_df=OG_filtered_lognorms_repA, ref_col='untreated_repA', \n",
    "                             target_cols=['Selumetinib_repA'])"
   ]
  },
  {
   "cell_type": "code",
   "execution_count": 17,
   "id": "4dd462d5",
   "metadata": {},
   "outputs": [],
   "source": [
    "OG_lfc_df_from_dropout_repB = pool.calculate_lfcs(lognorm_df=OG_filtered_lognorms_repB, ref_col='untreated_repB', \n",
    "                             target_cols=['Selumetinib_repB'])"
   ]
  },
  {
   "cell_type": "code",
   "execution_count": 18,
   "id": "d8e9d953",
   "metadata": {},
   "outputs": [],
   "source": [
    "OG_lfc_df_from_dropout = pd.merge(OG_lfc_df_from_dropout_repA, OG_lfc_df_from_dropout_repB)\n",
    "#calculating avg lfc for selumetinib samples\n",
    "OG_lfc_df_from_dropout['avg_lfc_selumetinib'] = OG_lfc_df_from_dropout[['Selumetinib_repA', 'Selumetinib_repB']].mean(axis=1)"
   ]
  },
  {
   "cell_type": "code",
   "execution_count": 19,
   "id": "f1539af4",
   "metadata": {},
   "outputs": [
    {
     "data": {
      "text/plain": [
       "Text(0.5, 1.0, 'Narrow VP64 setA: Drug effect')"
      ]
     },
     "execution_count": 19,
     "metadata": {},
     "output_type": "execute_result"
    },
    {
     "data": {
      "image/png": "[encoded data removed]",
      "text/plain": [
       "<Figure size 288x288 with 1 Axes>"
      ]
     },
     "metadata": {
      "needs_background": "light"
     },
     "output_type": "display_data"
    }
   ],
   "source": [
    "plt.subplots(figsize=(4,4))\n",
    "gpplot.point_densityplot(data=OG_lfc_df_from_dropout, x='Selumetinib_repA', y='Selumetinib_repB')\n",
    "gpplot.add_correlation(data=OG_lfc_df_from_dropout, x='Selumetinib_repA', y='Selumetinib_repB')\n",
    "sns.despine()\n",
    "plt.xlabel('Selumetinib repA LFC')\n",
    "plt.ylabel('Selumetinib repB LFC')\n",
    "plt.title('Narrow VP64 setA: Drug effect')\n"
   ]
  },
  {
   "cell_type": "markdown",
   "id": "23700b65",
   "metadata": {},
   "source": [
    "# 4 Calculate Z-scores"
   ]
  },
  {
   "cell_type": "markdown",
   "id": "ecd5891f",
   "metadata": {},
   "source": [
    "#### Drug Screens"
   ]
  },
  {
   "cell_type": "code",
   "execution_count": 20,
   "id": "7d901956",
   "metadata": {},
   "outputs": [],
   "source": [
    "# find the olfactory gene mean and sd\n",
    "olfactory_gene_df = OG_lfc_df_from_dropout[OG_lfc_df_from_dropout['Construct IDs'].isin(olfactory_gene)]\n",
    "olfactory_mean = statistics.mean(olfactory_gene_df.avg_lfc_selumetinib)\n",
    "olfactory_sd = statistics.stdev(olfactory_gene_df.avg_lfc_selumetinib)"
   ]
  },
  {
   "cell_type": "code",
   "execution_count": 21,
   "id": "7d8157b0",
   "metadata": {},
   "outputs": [
    {
     "data": {
      "text/html": [
       "<div>\n",
       "<style scoped>\n",
       "    .dataframe tbody tr th:only-of-type {\n",
       "        vertical-align: middle;\n",
       "    }\n",
       "\n",
       "    .dataframe tbody tr th {\n",
       "        vertical-align: top;\n",
       "    }\n",
       "\n",
       "    .dataframe thead th {\n",
       "        text-align: right;\n",
       "    }\n",
       "</style>\n",
       "<table border=\"1\" class=\"dataframe\">\n",
       "  <thead>\n",
       "    <tr style=\"text-align: right;\">\n",
       "      <th></th>\n",
       "      <th>Construct Barcode</th>\n",
       "      <th>Construct IDs</th>\n",
       "      <th>Selumetinib_repA</th>\n",
       "      <th>Selumetinib_repB</th>\n",
       "      <th>avg_lfc_selumetinib</th>\n",
       "      <th>z_scored_olfactory_gene</th>\n",
       "    </tr>\n",
       "  </thead>\n",
       "  <tbody>\n",
       "    <tr>\n",
       "      <th>0</th>\n",
       "      <td>TCCTTCCCGGAAGGCGGGGGCAG</td>\n",
       "      <td>A1BG</td>\n",
       "      <td>-0.444212</td>\n",
       "      <td>-0.434475</td>\n",
       "      <td>-0.439343</td>\n",
       "      <td>-1.690570</td>\n",
       "    </tr>\n",
       "    <tr>\n",
       "      <th>1</th>\n",
       "      <td>CAATTCCTGGGAGTTAAACTTTA</td>\n",
       "      <td>A1CF</td>\n",
       "      <td>-0.074979</td>\n",
       "      <td>-0.031840</td>\n",
       "      <td>-0.053409</td>\n",
       "      <td>-0.123982</td>\n",
       "    </tr>\n",
       "    <tr>\n",
       "      <th>2</th>\n",
       "      <td>GCCCGCCAGGAATTAACCTTGAC</td>\n",
       "      <td>A2M</td>\n",
       "      <td>0.948690</td>\n",
       "      <td>0.564475</td>\n",
       "      <td>0.756583</td>\n",
       "      <td>3.163949</td>\n",
       "    </tr>\n",
       "    <tr>\n",
       "      <th>3</th>\n",
       "      <td>CTCCTTCTGTAACCACCAGGTTA</td>\n",
       "      <td>A2ML1</td>\n",
       "      <td>-0.057655</td>\n",
       "      <td>0.032653</td>\n",
       "      <td>-0.012501</td>\n",
       "      <td>0.042075</td>\n",
       "    </tr>\n",
       "    <tr>\n",
       "      <th>4</th>\n",
       "      <td>TGAGGAGCTGCACCCACAGGAGC</td>\n",
       "      <td>A3GALT2</td>\n",
       "      <td>0.080660</td>\n",
       "      <td>0.166282</td>\n",
       "      <td>0.123471</td>\n",
       "      <td>0.594015</td>\n",
       "    </tr>\n",
       "  </tbody>\n",
       "</table>\n",
       "</div>"
      ],
      "text/plain": [
       "         Construct Barcode Construct IDs  Selumetinib_repA  Selumetinib_repB  \\\n",
       "0  TCCTTCCCGGAAGGCGGGGGCAG  A1BG         -0.444212         -0.434475           \n",
       "1  CAATTCCTGGGAGTTAAACTTTA  A1CF         -0.074979         -0.031840           \n",
       "2  GCCCGCCAGGAATTAACCTTGAC  A2M           0.948690          0.564475           \n",
       "3  CTCCTTCTGTAACCACCAGGTTA  A2ML1        -0.057655          0.032653           \n",
       "4  TGAGGAGCTGCACCCACAGGAGC  A3GALT2       0.080660          0.166282           \n",
       "\n",
       "   avg_lfc_selumetinib  z_scored_olfactory_gene  \n",
       "0 -0.439343            -1.690570                 \n",
       "1 -0.053409            -0.123982                 \n",
       "2  0.756583             3.163949                 \n",
       "3 -0.012501             0.042075                 \n",
       "4  0.123471             0.594015                 "
      ]
     },
     "execution_count": 21,
     "metadata": {},
     "output_type": "execute_result"
    }
   ],
   "source": [
    "# Z-score in respect to the olfactory genes\n",
    "OG_lfc_df_from_dropout['z_scored_olfactory_gene'] = (OG_lfc_df_from_dropout.avg_lfc_selumetinib - olfactory_mean)/olfactory_sd\n",
    "OG_lfc_df_from_dropout.head()"
   ]
  },
  {
   "cell_type": "code",
   "execution_count": 22,
   "id": "18a33c85",
   "metadata": {},
   "outputs": [],
   "source": [
    "OG_lfc_df_from_dropout.to_csv('primary screen processed data/narrow_VP64_seta_lfc_drug_effect.csv',\n",
    "                             index = False)\n"
   ]
  },
  {
   "cell_type": "markdown",
   "id": "95fcd804",
   "metadata": {},
   "source": [
    "#### Viability effect"
   ]
  },
  {
   "cell_type": "code",
   "execution_count": 23,
   "id": "5ae198b6",
   "metadata": {},
   "outputs": [],
   "source": [
    "# find the olfactory gene mean and sd\n",
    "olfactory_gene_df_via = OG_lfc_df_from_pDNA[OG_lfc_df_from_pDNA['Construct IDs'].isin(olfactory_gene)]\n",
    "olfactory_mean_via = statistics.mean(olfactory_gene_df_via.avg_lfc_untreated)\n",
    "olfactory_sd_via = statistics.stdev(olfactory_gene_df_via.avg_lfc_untreated)"
   ]
  },
  {
   "cell_type": "code",
   "execution_count": 24,
   "id": "80aae974",
   "metadata": {},
   "outputs": [
    {
     "data": {
      "text/html": [
       "<div>\n",
       "<style scoped>\n",
       "    .dataframe tbody tr th:only-of-type {\n",
       "        vertical-align: middle;\n",
       "    }\n",
       "\n",
       "    .dataframe tbody tr th {\n",
       "        vertical-align: top;\n",
       "    }\n",
       "\n",
       "    .dataframe thead th {\n",
       "        text-align: right;\n",
       "    }\n",
       "</style>\n",
       "<table border=\"1\" class=\"dataframe\">\n",
       "  <thead>\n",
       "    <tr style=\"text-align: right;\">\n",
       "      <th></th>\n",
       "      <th>Construct IDs</th>\n",
       "      <th>untreated_repA</th>\n",
       "      <th>untreated_repB</th>\n",
       "      <th>Selumetinib_repA</th>\n",
       "      <th>Selumetinib_repB</th>\n",
       "      <th>Construct Barcode</th>\n",
       "      <th>avg_lfc_untreated</th>\n",
       "      <th>z_scored_olfactory_gene</th>\n",
       "    </tr>\n",
       "  </thead>\n",
       "  <tbody>\n",
       "    <tr>\n",
       "      <th>0</th>\n",
       "      <td>A1BG</td>\n",
       "      <td>-0.105568</td>\n",
       "      <td>0.022897</td>\n",
       "      <td>-0.549780</td>\n",
       "      <td>-0.411578</td>\n",
       "      <td>TCCTTCCCGGAAGGCGGGGGCAG</td>\n",
       "      <td>-0.041336</td>\n",
       "      <td>-0.062245</td>\n",
       "    </tr>\n",
       "    <tr>\n",
       "      <th>1</th>\n",
       "      <td>A1CF</td>\n",
       "      <td>-0.611950</td>\n",
       "      <td>-0.537569</td>\n",
       "      <td>-0.686929</td>\n",
       "      <td>-0.569410</td>\n",
       "      <td>CAATTCCTGGGAGTTAAACTTTA</td>\n",
       "      <td>-0.574760</td>\n",
       "      <td>-1.838388</td>\n",
       "    </tr>\n",
       "    <tr>\n",
       "      <th>2</th>\n",
       "      <td>A2M</td>\n",
       "      <td>0.463495</td>\n",
       "      <td>1.020115</td>\n",
       "      <td>1.412185</td>\n",
       "      <td>1.584590</td>\n",
       "      <td>GCCCGCCAGGAATTAACCTTGAC</td>\n",
       "      <td>0.741805</td>\n",
       "      <td>2.545379</td>\n",
       "    </tr>\n",
       "    <tr>\n",
       "      <th>3</th>\n",
       "      <td>A2ML1</td>\n",
       "      <td>0.330528</td>\n",
       "      <td>0.082000</td>\n",
       "      <td>0.272873</td>\n",
       "      <td>0.114653</td>\n",
       "      <td>CTCCTTCTGTAACCACCAGGTTA</td>\n",
       "      <td>0.206264</td>\n",
       "      <td>0.762188</td>\n",
       "    </tr>\n",
       "    <tr>\n",
       "      <th>4</th>\n",
       "      <td>A3GALT2</td>\n",
       "      <td>0.089982</td>\n",
       "      <td>0.236478</td>\n",
       "      <td>0.170643</td>\n",
       "      <td>0.402760</td>\n",
       "      <td>TGAGGAGCTGCACCCACAGGAGC</td>\n",
       "      <td>0.163230</td>\n",
       "      <td>0.618897</td>\n",
       "    </tr>\n",
       "  </tbody>\n",
       "</table>\n",
       "</div>"
      ],
      "text/plain": [
       "  Construct IDs  untreated_repA  untreated_repB  Selumetinib_repA  \\\n",
       "0  A1BG         -0.105568        0.022897       -0.549780           \n",
       "1  A1CF         -0.611950       -0.537569       -0.686929           \n",
       "2  A2M           0.463495        1.020115        1.412185           \n",
       "3  A2ML1         0.330528        0.082000        0.272873           \n",
       "4  A3GALT2       0.089982        0.236478        0.170643           \n",
       "\n",
       "   Selumetinib_repB        Construct Barcode  avg_lfc_untreated  \\\n",
       "0 -0.411578          TCCTTCCCGGAAGGCGGGGGCAG -0.041336            \n",
       "1 -0.569410          CAATTCCTGGGAGTTAAACTTTA -0.574760            \n",
       "2  1.584590          GCCCGCCAGGAATTAACCTTGAC  0.741805            \n",
       "3  0.114653          CTCCTTCTGTAACCACCAGGTTA  0.206264            \n",
       "4  0.402760          TGAGGAGCTGCACCCACAGGAGC  0.163230            \n",
       "\n",
       "   z_scored_olfactory_gene  \n",
       "0 -0.062245                 \n",
       "1 -1.838388                 \n",
       "2  2.545379                 \n",
       "3  0.762188                 \n",
       "4  0.618897                 "
      ]
     },
     "execution_count": 24,
     "metadata": {},
     "output_type": "execute_result"
    }
   ],
   "source": [
    "# Z-score in respect to the olfactory genes\n",
    "OG_lfc_df_from_pDNA['z_scored_olfactory_gene'] = (OG_lfc_df_from_pDNA.avg_lfc_untreated - olfactory_mean_via)/olfactory_sd_via\n",
    "OG_lfc_df_from_pDNA.head()"
   ]
  },
  {
   "cell_type": "code",
   "execution_count": 25,
   "id": "f547b572",
   "metadata": {},
   "outputs": [],
   "source": [
    "OG_lfc_df_from_pDNA.to_csv('../../manuscript data/primary screen processed data/narrow_VP64_seta_lfc_viability_effect.csv',\n",
    "                             index = False)\n"
   ]
  },
  {
   "cell_type": "code",
   "execution_count": null,
   "id": "b5565484",
   "metadata": {},
   "outputs": [],
   "source": []
  }
 ],
 "metadata": {
  "kernelspec": {
   "display_name": "Python 3 (ipykernel)",
   "language": "python",
   "name": "python3"
  },
  "language_info": {
   "codemirror_mode": {
    "name": "ipython",
    "version": 3
   },
   "file_extension": ".py",
   "mimetype": "text/x-python",
   "name": "python",
   "nbconvert_exporter": "python",
   "pygments_lexer": "ipython3",
   "version": "3.8.13"
  }
 },
 "nbformat": 4,
 "nbformat_minor": 5
}
